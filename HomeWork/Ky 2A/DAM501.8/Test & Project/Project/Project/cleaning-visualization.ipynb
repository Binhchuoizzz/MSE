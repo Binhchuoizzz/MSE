{
 "cells": [
  {
   "cell_type": "code",
   "execution_count": null,
   "metadata": {
    "_cell_guid": "b1076dfc-b9ad-4769-8c92-a6c4dae69d19",
    "_uuid": "8f2839f25d086af736a60e9eeb907d3b93b6e0e5",
    "execution": {
     "iopub.execute_input": "2025-05-21T06:20:32.640342Z",
     "iopub.status.busy": "2025-05-21T06:20:32.640106Z",
     "iopub.status.idle": "2025-05-21T06:20:32.963048Z",
     "shell.execute_reply": "2025-05-21T06:20:32.962225Z",
     "shell.execute_reply.started": "2025-05-21T06:20:32.640321Z"
    },
    "trusted": true
   },
   "outputs": [],
   "source": [
    "import numpy as np  # linear algebra\n",
    "import pandas as pd  # data processing, CSV file I/O (e.g. pd.read_csv)\n"
   ]
  },
  {
   "cell_type": "code",
   "execution_count": null,
   "metadata": {
    "execution": {
     "iopub.execute_input": "2025-05-21T07:47:16.768035Z",
     "iopub.status.busy": "2025-05-21T07:47:16.767723Z",
     "iopub.status.idle": "2025-05-21T07:47:19.526187Z",
     "shell.execute_reply": "2025-05-21T07:47:19.525163Z",
     "shell.execute_reply.started": "2025-05-21T07:47:16.768008Z"
    },
    "trusted": true
   },
   "outputs": [],
   "source": [
    "df = pd.read_csv(\n",
    "    r'E:\\MSE\\HomeWork\\Ky 2\\DAM501.8\\Test & Project\\Project\\Project\\new_retail_data.csv')\n"
   ]
  },
  {
   "cell_type": "code",
   "execution_count": null,
   "metadata": {
    "execution": {
     "iopub.execute_input": "2025-05-21T07:47:19.527879Z",
     "iopub.status.busy": "2025-05-21T07:47:19.527662Z",
     "iopub.status.idle": "2025-05-21T07:47:19.533488Z",
     "shell.execute_reply": "2025-05-21T07:47:19.532543Z",
     "shell.execute_reply.started": "2025-05-21T07:47:19.527863Z"
    },
    "trusted": true
   },
   "outputs": [],
   "source": [
    "df.columns\n"
   ]
  },
  {
   "cell_type": "code",
   "execution_count": null,
   "metadata": {
    "execution": {
     "iopub.execute_input": "2025-05-21T07:47:19.534635Z",
     "iopub.status.busy": "2025-05-21T07:47:19.534418Z",
     "iopub.status.idle": "2025-05-21T07:47:19.564373Z",
     "shell.execute_reply": "2025-05-21T07:47:19.563633Z",
     "shell.execute_reply.started": "2025-05-21T07:47:19.534617Z"
    },
    "trusted": true
   },
   "outputs": [],
   "source": [
    "df.Product_Category.nunique()\n"
   ]
  },
  {
   "cell_type": "code",
   "execution_count": null,
   "metadata": {
    "execution": {
     "iopub.execute_input": "2025-05-21T07:47:19.566698Z",
     "iopub.status.busy": "2025-05-21T07:47:19.566456Z",
     "iopub.status.idle": "2025-05-21T07:47:19.594032Z",
     "shell.execute_reply": "2025-05-21T07:47:19.593233Z",
     "shell.execute_reply.started": "2025-05-21T07:47:19.566678Z"
    },
    "trusted": true
   },
   "outputs": [],
   "source": [
    "print(df[['Year', 'Month', 'Customer_Segment']])\n"
   ]
  },
  {
   "cell_type": "code",
   "execution_count": null,
   "metadata": {
    "execution": {
     "iopub.execute_input": "2025-05-21T07:47:19.59561Z",
     "iopub.status.busy": "2025-05-21T07:47:19.595298Z",
     "iopub.status.idle": "2025-05-21T07:47:19.655652Z",
     "shell.execute_reply": "2025-05-21T07:47:19.654779Z",
     "shell.execute_reply.started": "2025-05-21T07:47:19.595585Z"
    },
    "trusted": true
   },
   "outputs": [],
   "source": [
    "columns_to_drop = [\n",
    "    'Transaction_ID', 'Name', 'Email', 'Phone', 'Address', 'Age', 'State', 'Country', 'Income',\n",
    "    'Zipcode', 'Time', 'Amount', 'Total_Purchases', 'Feedback', 'Order_Status', 'products', 'Shipping_Method'\n",
    "]\n",
    "\n",
    "df.drop(columns=columns_to_drop, inplace=True)\n"
   ]
  },
  {
   "cell_type": "code",
   "execution_count": null,
   "metadata": {
    "execution": {
     "iopub.execute_input": "2025-05-21T07:47:19.657319Z",
     "iopub.status.busy": "2025-05-21T07:47:19.656995Z",
     "iopub.status.idle": "2025-05-21T07:47:19.663447Z",
     "shell.execute_reply": "2025-05-21T07:47:19.662665Z",
     "shell.execute_reply.started": "2025-05-21T07:47:19.657293Z"
    },
    "trusted": true
   },
   "outputs": [],
   "source": [
    "df.columns\n"
   ]
  },
  {
   "cell_type": "code",
   "execution_count": null,
   "metadata": {
    "execution": {
     "iopub.execute_input": "2025-05-21T07:47:19.664724Z",
     "iopub.status.busy": "2025-05-21T07:47:19.664434Z",
     "iopub.status.idle": "2025-05-21T07:47:19.694664Z",
     "shell.execute_reply": "2025-05-21T07:47:19.693773Z",
     "shell.execute_reply.started": "2025-05-21T07:47:19.664697Z"
    },
    "trusted": true
   },
   "outputs": [],
   "source": [
    "df\n"
   ]
  },
  {
   "cell_type": "code",
   "execution_count": null,
   "metadata": {
    "execution": {
     "iopub.execute_input": "2025-05-21T07:47:19.696039Z",
     "iopub.status.busy": "2025-05-21T07:47:19.695722Z",
     "iopub.status.idle": "2025-05-21T07:47:19.838384Z",
     "shell.execute_reply": "2025-05-21T07:47:19.837233Z",
     "shell.execute_reply.started": "2025-05-21T07:47:19.696012Z"
    },
    "trusted": true
   },
   "outputs": [],
   "source": [
    "df.isnull().sum()\n"
   ]
  },
  {
   "cell_type": "code",
   "execution_count": null,
   "metadata": {
    "execution": {
     "iopub.execute_input": "2025-05-21T07:47:19.839818Z",
     "iopub.status.busy": "2025-05-21T07:47:19.839231Z",
     "iopub.status.idle": "2025-05-21T07:47:20.000588Z",
     "shell.execute_reply": "2025-05-21T07:47:19.999775Z",
     "shell.execute_reply.started": "2025-05-21T07:47:19.839763Z"
    },
    "trusted": true
   },
   "outputs": [],
   "source": [
    "df.dropna(inplace=True)\n"
   ]
  },
  {
   "cell_type": "code",
   "execution_count": null,
   "metadata": {
    "execution": {
     "iopub.execute_input": "2025-05-21T07:47:20.003202Z",
     "iopub.status.busy": "2025-05-21T07:47:20.002929Z",
     "iopub.status.idle": "2025-05-21T07:47:20.01964Z",
     "shell.execute_reply": "2025-05-21T07:47:20.018658Z",
     "shell.execute_reply.started": "2025-05-21T07:47:20.003179Z"
    },
    "trusted": true
   },
   "outputs": [],
   "source": [
    "df\n"
   ]
  },
  {
   "cell_type": "code",
   "execution_count": null,
   "metadata": {
    "execution": {
     "iopub.execute_input": "2025-05-21T07:47:20.020958Z",
     "iopub.status.busy": "2025-05-21T07:47:20.020699Z",
     "iopub.status.idle": "2025-05-21T07:47:20.261618Z",
     "shell.execute_reply": "2025-05-21T07:47:20.261025Z",
     "shell.execute_reply.started": "2025-05-21T07:47:20.020939Z"
    },
    "trusted": true
   },
   "outputs": [],
   "source": [
    "df.duplicated().sum()\n"
   ]
  },
  {
   "cell_type": "code",
   "execution_count": null,
   "metadata": {
    "execution": {
     "iopub.execute_input": "2025-05-21T07:47:20.262708Z",
     "iopub.status.busy": "2025-05-21T07:47:20.262462Z",
     "iopub.status.idle": "2025-05-21T07:47:20.519165Z",
     "shell.execute_reply": "2025-05-21T07:47:20.518081Z",
     "shell.execute_reply.started": "2025-05-21T07:47:20.262683Z"
    },
    "trusted": true
   },
   "outputs": [],
   "source": [
    "df.drop_duplicates(inplace=True)\n"
   ]
  },
  {
   "cell_type": "code",
   "execution_count": null,
   "metadata": {
    "execution": {
     "iopub.execute_input": "2025-05-21T07:47:20.520482Z",
     "iopub.status.busy": "2025-05-21T07:47:20.520219Z",
     "iopub.status.idle": "2025-05-21T07:47:20.568984Z",
     "shell.execute_reply": "2025-05-21T07:47:20.568336Z",
     "shell.execute_reply.started": "2025-05-21T07:47:20.520455Z"
    },
    "trusted": true
   },
   "outputs": [],
   "source": [
    "# Fix mixed date formats\n",
    "df['Date'] = pd.to_datetime(df['Date'], errors='coerce')\n"
   ]
  },
  {
   "cell_type": "code",
   "execution_count": null,
   "metadata": {
    "execution": {
     "iopub.execute_input": "2025-05-21T07:47:47.770042Z",
     "iopub.status.busy": "2025-05-21T07:47:47.769747Z",
     "iopub.status.idle": "2025-05-21T07:47:48.815625Z",
     "shell.execute_reply": "2025-05-21T07:47:48.814641Z",
     "shell.execute_reply.started": "2025-05-21T07:47:47.770022Z"
    },
    "trusted": true
   },
   "outputs": [],
   "source": [
    "# Standardize categorical values (remove whitespace, consistent casing)\n",
    "categorical_cols = ['City', 'Gender', 'Customer_Segment', 'Month',\n",
    "                    'Product_Category', 'Product_Brand', 'Product_Type', 'Payment_Method']\n",
    "df[categorical_cols] = df[categorical_cols].apply(\n",
    "    lambda x: x.str.strip().str.title())\n"
   ]
  },
  {
   "cell_type": "code",
   "execution_count": null,
   "metadata": {
    "execution": {
     "iopub.execute_input": "2025-05-21T07:47:50.076696Z",
     "iopub.status.busy": "2025-05-21T07:47:50.076439Z",
     "iopub.status.idle": "2025-05-21T07:47:50.091661Z",
     "shell.execute_reply": "2025-05-21T07:47:50.090705Z",
     "shell.execute_reply.started": "2025-05-21T07:47:50.076678Z"
    },
    "trusted": true
   },
   "outputs": [],
   "source": [
    "df.head()\n"
   ]
  },
  {
   "cell_type": "code",
   "execution_count": null,
   "metadata": {
    "execution": {
     "iopub.execute_input": "2025-05-21T07:47:50.971687Z",
     "iopub.status.busy": "2025-05-21T07:47:50.97143Z",
     "iopub.status.idle": "2025-05-21T07:47:51.023533Z",
     "shell.execute_reply": "2025-05-21T07:47:51.022589Z",
     "shell.execute_reply.started": "2025-05-21T07:47:50.97167Z"
    },
    "trusted": true
   },
   "outputs": [],
   "source": [
    "# Check rows with invalid or missing dates\n",
    "invalid_dates = df[df['Date'].isna()]\n",
    "print(invalid_dates[['Date']])\n"
   ]
  },
  {
   "cell_type": "code",
   "execution_count": null,
   "metadata": {
    "execution": {
     "iopub.execute_input": "2025-05-21T07:47:52.601965Z",
     "iopub.status.busy": "2025-05-21T07:47:52.601701Z",
     "iopub.status.idle": "2025-05-21T07:47:52.640673Z",
     "shell.execute_reply": "2025-05-21T07:47:52.639957Z",
     "shell.execute_reply.started": "2025-05-21T07:47:52.601947Z"
    },
    "trusted": true
   },
   "outputs": [],
   "source": [
    "# Since Month and Year columns provide similar information, Date is dropped\n",
    "df.drop(columns=['Date'], inplace=True)\n"
   ]
  },
  {
   "cell_type": "code",
   "execution_count": null,
   "metadata": {
    "execution": {
     "iopub.execute_input": "2025-05-21T07:47:52.966627Z",
     "iopub.status.busy": "2025-05-21T07:47:52.966334Z",
     "iopub.status.idle": "2025-05-21T07:47:53.257897Z",
     "shell.execute_reply": "2025-05-21T07:47:53.256659Z",
     "shell.execute_reply.started": "2025-05-21T07:47:52.966609Z"
    },
    "trusted": true
   },
   "outputs": [],
   "source": [
    "df.sort_values(by='Customer_ID', ascending=True, inplace=True)\n"
   ]
  },
  {
   "cell_type": "code",
   "execution_count": null,
   "metadata": {
    "execution": {
     "iopub.execute_input": "2025-05-21T07:47:54.387192Z",
     "iopub.status.busy": "2025-05-21T07:47:54.386836Z",
     "iopub.status.idle": "2025-05-21T07:47:54.408686Z",
     "shell.execute_reply": "2025-05-21T07:47:54.408037Z",
     "shell.execute_reply.started": "2025-05-21T07:47:54.38717Z"
    },
    "trusted": true
   },
   "outputs": [],
   "source": [
    "df.head()\n"
   ]
  },
  {
   "cell_type": "code",
   "execution_count": null,
   "metadata": {
    "execution": {
     "iopub.execute_input": "2025-05-21T07:47:54.557104Z",
     "iopub.status.busy": "2025-05-21T07:47:54.556794Z",
     "iopub.status.idle": "2025-05-21T07:48:11.149601Z",
     "shell.execute_reply": "2025-05-21T07:48:11.148727Z",
     "shell.execute_reply.started": "2025-05-21T07:47:54.557082Z"
    },
    "trusted": true
   },
   "outputs": [],
   "source": [
    "# it seems to be of different store so with same customer id there is difference in gender, and customer_segment.\n",
    "# As this is not real analysis I want to make this simple .\n",
    "# I want to treat one customer is as a single person , so For each Customer_ID, fill in Gender and Customer_Segment\n",
    "# using the most frequent value (mode) within that customer’s records.\n",
    "\n",
    "# Calculate mode for each customer\n",
    "gender_mode = df.groupby('Customer_ID')['Gender'].agg(\n",
    "    lambda x: x.mode().iloc[0])\n",
    "segment_mode = df.groupby('Customer_ID')['Customer_Segment'].agg(\n",
    "    lambda x: x.mode().iloc[0])\n",
    "\n",
    "# Map the mode values back to the original DataFrame\n",
    "df['Gender'] = df['Customer_ID'].map(gender_mode)\n",
    "df['Customer_Segment'] = df['Customer_ID'].map(segment_mode)\n"
   ]
  },
  {
   "cell_type": "code",
   "execution_count": null,
   "metadata": {
    "execution": {
     "iopub.execute_input": "2025-05-21T07:48:18.769353Z",
     "iopub.status.busy": "2025-05-21T07:48:18.76889Z",
     "iopub.status.idle": "2025-05-21T07:48:18.78275Z",
     "shell.execute_reply": "2025-05-21T07:48:18.781965Z",
     "shell.execute_reply.started": "2025-05-21T07:48:18.769331Z"
    },
    "trusted": true
   },
   "outputs": [],
   "source": [
    "df.head()\n"
   ]
  },
  {
   "cell_type": "markdown",
   "metadata": {},
   "source": [
    "# Visualization\n"
   ]
  },
  {
   "cell_type": "code",
   "execution_count": null,
   "metadata": {
    "execution": {
     "iopub.execute_input": "2025-05-21T07:48:11.177623Z",
     "iopub.status.busy": "2025-05-21T07:48:11.177305Z",
     "iopub.status.idle": "2025-05-21T07:48:12.624131Z",
     "shell.execute_reply": "2025-05-21T07:48:12.623183Z",
     "shell.execute_reply.started": "2025-05-21T07:48:11.177599Z"
    },
    "trusted": true
   },
   "outputs": [],
   "source": [
    "import seaborn as sns\n",
    "import matplotlib.pyplot as plt\n",
    "\n",
    "plt.figure(figsize=(8, 5))\n",
    "sns.boxplot(data=df, x='Gender', y='Total_Amount')\n",
    "plt.title('Spending Distribution by Gender')\n",
    "plt.show()\n"
   ]
  },
  {
   "cell_type": "markdown",
   "metadata": {},
   "source": [
    "Both Male and Female have similar Spending Patterns.\n"
   ]
  },
  {
   "cell_type": "code",
   "execution_count": null,
   "metadata": {
    "execution": {
     "iopub.execute_input": "2025-05-21T08:02:22.660286Z",
     "iopub.status.busy": "2025-05-21T08:02:22.659502Z",
     "iopub.status.idle": "2025-05-21T08:02:22.675591Z",
     "shell.execute_reply": "2025-05-21T08:02:22.67477Z",
     "shell.execute_reply.started": "2025-05-21T08:02:22.660261Z"
    },
    "trusted": true
   },
   "outputs": [],
   "source": [
    "df\n"
   ]
  },
  {
   "cell_type": "markdown",
   "metadata": {},
   "source": [
    "# 1. Top Product Categories by Total Sales\n"
   ]
  },
  {
   "cell_type": "code",
   "execution_count": null,
   "metadata": {
    "execution": {
     "iopub.execute_input": "2025-05-21T08:03:47.734784Z",
     "iopub.status.busy": "2025-05-21T08:03:47.734483Z",
     "iopub.status.idle": "2025-05-21T08:03:48.010569Z",
     "shell.execute_reply": "2025-05-21T08:03:48.009564Z",
     "shell.execute_reply.started": "2025-05-21T08:03:47.734763Z"
    },
    "trusted": true
   },
   "outputs": [],
   "source": [
    "plt.figure(figsize=(12, 6))\n",
    "category_sales = df.groupby('Product_Category')[\n",
    "    'Total_Amount'].sum().sort_values(ascending=False)\n",
    "sns.barplot(x=category_sales.index, y=category_sales.values, palette='Blues_d')\n",
    "plt.title('Total Sales by Product Category')\n",
    "plt.xlabel('Product Category')\n",
    "plt.ylabel('Total Sales')\n",
    "plt.xticks(rotation=45)\n",
    "plt.tight_layout()\n",
    "plt.show()\n"
   ]
  },
  {
   "cell_type": "markdown",
   "metadata": {},
   "source": [
    "# 2. Customer Count by Gender\n"
   ]
  },
  {
   "cell_type": "code",
   "execution_count": null,
   "metadata": {
    "execution": {
     "iopub.execute_input": "2025-05-21T08:06:31.283045Z",
     "iopub.status.busy": "2025-05-21T08:06:31.282686Z",
     "iopub.status.idle": "2025-05-21T08:06:39.37509Z",
     "shell.execute_reply": "2025-05-21T08:06:39.374374Z",
     "shell.execute_reply.started": "2025-05-21T08:06:31.283023Z"
    },
    "trusted": true
   },
   "outputs": [],
   "source": [
    "# Get mode of gender per unique customer\n",
    "customer_gender = df.groupby('Customer_ID')['Gender'].agg(\n",
    "    lambda x: x.mode().iat[0]).reset_index()\n",
    "\n",
    "# Plot the count of unique customers by gender\n",
    "plt.figure(figsize=(6, 4))\n",
    "sns.countplot(x='Gender', data=customer_gender, palette='pastel')\n",
    "plt.title('Unique Customer Count by Gender')\n",
    "plt.xlabel('Gender')\n",
    "plt.ylabel('Number of Unique Customers')\n",
    "plt.tight_layout()\n",
    "plt.show()\n"
   ]
  },
  {
   "cell_type": "markdown",
   "metadata": {},
   "source": [
    "# 3. Total Sales by Payment Method\n"
   ]
  },
  {
   "cell_type": "code",
   "execution_count": null,
   "metadata": {
    "execution": {
     "iopub.execute_input": "2025-05-21T08:07:14.326473Z",
     "iopub.status.busy": "2025-05-21T08:07:14.326165Z",
     "iopub.status.idle": "2025-05-21T08:07:14.584099Z",
     "shell.execute_reply": "2025-05-21T08:07:14.583245Z",
     "shell.execute_reply.started": "2025-05-21T08:07:14.326447Z"
    },
    "trusted": true
   },
   "outputs": [],
   "source": [
    "plt.figure(figsize=(10, 5))\n",
    "payment_sales = df.groupby('Payment_Method')[\n",
    "    'Total_Amount'].sum().sort_values(ascending=False)\n",
    "sns.barplot(x=payment_sales.index, y=payment_sales.values, palette='viridis')\n",
    "plt.title('Total Sales by Payment Method')\n",
    "plt.xlabel('Payment Method')\n",
    "plt.ylabel('Total Sales')\n",
    "plt.tight_layout()\n",
    "plt.show()\n"
   ]
  },
  {
   "cell_type": "markdown",
   "metadata": {},
   "source": [
    "# 4. Distribution of Ratings\n"
   ]
  },
  {
   "cell_type": "code",
   "execution_count": null,
   "metadata": {
    "execution": {
     "iopub.execute_input": "2025-05-21T08:07:38.952638Z",
     "iopub.status.busy": "2025-05-21T08:07:38.952344Z",
     "iopub.status.idle": "2025-05-21T08:07:40.304289Z",
     "shell.execute_reply": "2025-05-21T08:07:40.30327Z",
     "shell.execute_reply.started": "2025-05-21T08:07:38.952618Z"
    },
    "trusted": true
   },
   "outputs": [],
   "source": [
    "plt.figure(figsize=(8, 4))\n",
    "sns.histplot(df['Ratings'], bins=5, kde=True, color='skyblue')\n",
    "plt.title('Distribution of Customer Ratings')\n",
    "plt.xlabel('Ratings')\n",
    "plt.ylabel('Frequency')\n",
    "plt.tight_layout()\n",
    "plt.show()\n"
   ]
  },
  {
   "cell_type": "markdown",
   "metadata": {},
   "source": [
    "# 5. Monthly Sales Trend\n"
   ]
  },
  {
   "cell_type": "code",
   "execution_count": null,
   "metadata": {
    "execution": {
     "iopub.execute_input": "2025-05-21T08:10:43.562598Z",
     "iopub.status.busy": "2025-05-21T08:10:43.562304Z",
     "iopub.status.idle": "2025-05-21T08:10:43.903223Z",
     "shell.execute_reply": "2025-05-21T08:10:43.902208Z",
     "shell.execute_reply.started": "2025-05-21T08:10:43.562577Z"
    },
    "trusted": true
   },
   "outputs": [],
   "source": [
    "# Ensure month order\n",
    "month_order = ['January', 'February', 'March', 'April', 'May', 'June',\n",
    "               'July', 'August', 'September', 'October', 'November', 'December']\n",
    "\n",
    "# Group by Year and Month\n",
    "monthly_sales = df.groupby(['Year', 'Month'])[\n",
    "    'Total_Amount'].sum().reset_index()\n",
    "\n",
    "# Make sure Month is a categorical type for proper sorting\n",
    "monthly_sales['Month'] = pd.Categorical(\n",
    "    monthly_sales['Month'], categories=month_order, ordered=True)\n",
    "monthly_sales = monthly_sales.sort_values(['Year', 'Month'])\n",
    "\n",
    "# Plot\n",
    "plt.figure(figsize=(10, 6))\n",
    "sns.lineplot(data=monthly_sales, x='Month', y='Total_Amount',\n",
    "             hue='Year', marker='o', palette='tab10')\n",
    "plt.title('Monthly Sales Trend (2023 vs 2024)')\n",
    "plt.ylabel('Total Sales Amount')\n",
    "plt.xlabel('Month')\n",
    "plt.xticks(rotation=45)\n",
    "plt.tight_layout()\n",
    "plt.show()\n"
   ]
  },
  {
   "cell_type": "markdown",
   "metadata": {},
   "source": [
    "# 6. Sales by Customer Segment\n"
   ]
  },
  {
   "cell_type": "code",
   "execution_count": null,
   "metadata": {
    "execution": {
     "iopub.execute_input": "2025-05-21T08:12:47.313927Z",
     "iopub.status.busy": "2025-05-21T08:12:47.313061Z",
     "iopub.status.idle": "2025-05-21T08:12:47.534771Z",
     "shell.execute_reply": "2025-05-21T08:12:47.533951Z",
     "shell.execute_reply.started": "2025-05-21T08:12:47.3139Z"
    },
    "trusted": true
   },
   "outputs": [],
   "source": [
    "plt.figure(figsize=(8, 5))\n",
    "segment_sales = df.groupby('Customer_Segment')[\n",
    "    'Total_Amount'].sum().sort_values(ascending=False)\n",
    "sns.barplot(x=segment_sales.index, y=segment_sales.values, palette='Set2')\n",
    "plt.title('Sales by Customer Segment')\n",
    "plt.xlabel('Customer Segment')\n",
    "plt.ylabel('Total Sales')\n",
    "plt.tight_layout()\n",
    "plt.show()\n"
   ]
  },
  {
   "cell_type": "markdown",
   "metadata": {},
   "source": [
    "# 7. Top Cities by Total Sales\n"
   ]
  },
  {
   "cell_type": "code",
   "execution_count": null,
   "metadata": {
    "execution": {
     "iopub.execute_input": "2025-05-21T08:13:12.290062Z",
     "iopub.status.busy": "2025-05-21T08:13:12.289407Z",
     "iopub.status.idle": "2025-05-21T08:13:12.610334Z",
     "shell.execute_reply": "2025-05-21T08:13:12.609475Z",
     "shell.execute_reply.started": "2025-05-21T08:13:12.290037Z"
    },
    "trusted": true
   },
   "outputs": [],
   "source": [
    "plt.figure(figsize=(12, 6))\n",
    "top_cities = df.groupby('City')['Total_Amount'].sum(\n",
    ").sort_values(ascending=False).head(10)\n",
    "sns.barplot(x=top_cities.index, y=top_cities.values, palette='magma')\n",
    "plt.title('Top 10 Cities by Total Sales')\n",
    "plt.xlabel('City')\n",
    "plt.ylabel('Total Sales')\n",
    "plt.xticks(rotation=45)\n",
    "plt.tight_layout()\n",
    "plt.show()\n"
   ]
  },
  {
   "cell_type": "markdown",
   "metadata": {},
   "source": [
    "# 8. Customer Spending by Product Brand\n"
   ]
  },
  {
   "cell_type": "code",
   "execution_count": null,
   "metadata": {
    "execution": {
     "iopub.execute_input": "2025-05-21T08:15:02.671413Z",
     "iopub.status.busy": "2025-05-21T08:15:02.671116Z",
     "iopub.status.idle": "2025-05-21T08:15:03.058833Z",
     "shell.execute_reply": "2025-05-21T08:15:03.057918Z",
     "shell.execute_reply.started": "2025-05-21T08:15:02.671394Z"
    },
    "trusted": true
   },
   "outputs": [],
   "source": [
    "# Group by Product_Brand and sum the Total_Amount\n",
    "brand_spending = df.groupby('Product_Brand')[\n",
    "    'Total_Amount'].sum().sort_values(ascending=False)\n",
    "\n",
    "# Plot\n",
    "plt.figure(figsize=(12, 6))\n",
    "sns.barplot(x=brand_spending.index, y=brand_spending.values, palette='viridis')\n",
    "plt.title('Customer Spending by Product Brand')\n",
    "plt.xlabel('Product Brand')\n",
    "plt.ylabel('Total Spending Amount')\n",
    "plt.xticks(rotation=45, ha='right')\n",
    "plt.tight_layout()\n",
    "plt.show()\n"
   ]
  },
  {
   "cell_type": "code",
   "execution_count": null,
   "metadata": {
    "execution": {
     "iopub.execute_input": "2025-05-21T08:17:19.428533Z",
     "iopub.status.busy": "2025-05-21T08:17:19.428232Z",
     "iopub.status.idle": "2025-05-21T08:17:19.444079Z",
     "shell.execute_reply": "2025-05-21T08:17:19.443429Z",
     "shell.execute_reply.started": "2025-05-21T08:17:19.428513Z"
    },
    "trusted": true
   },
   "outputs": [],
   "source": [
    "df\n"
   ]
  },
  {
   "cell_type": "code",
   "execution_count": null,
   "metadata": {
    "execution": {
     "iopub.execute_input": "2025-05-21T08:25:17.80542Z",
     "iopub.status.busy": "2025-05-21T08:25:17.805034Z",
     "iopub.status.idle": "2025-05-21T08:25:20.686177Z",
     "shell.execute_reply": "2025-05-21T08:25:20.685377Z",
     "shell.execute_reply.started": "2025-05-21T08:25:17.805399Z"
    },
    "trusted": true
   },
   "outputs": [],
   "source": [
    "df.to_csv('customer_transaction_category_data.csv')\n"
   ]
  },
  {
   "cell_type": "code",
   "execution_count": null,
   "metadata": {
    "trusted": true
   },
   "outputs": [],
   "source": []
  }
 ],
 "metadata": {
  "kaggle": {
   "accelerator": "none",
   "dataSources": [
    {
     "datasetId": 5231457,
     "sourceId": 8718902,
     "sourceType": "datasetVersion"
    }
   ],
   "dockerImageVersionId": 31040,
   "isGpuEnabled": false,
   "isInternetEnabled": false,
   "language": "python",
   "sourceType": "notebook"
  },
  "kernelspec": {
   "display_name": "Python 3",
   "language": "python",
   "name": "python3"
  },
  "language_info": {
   "codemirror_mode": {
    "name": "ipython",
    "version": 3
   },
   "file_extension": ".py",
   "mimetype": "text/x-python",
   "name": "python",
   "nbconvert_exporter": "python",
   "pygments_lexer": "ipython3",
   "version": "3.11.11"
  }
 },
 "nbformat": 4,
 "nbformat_minor": 4
}
