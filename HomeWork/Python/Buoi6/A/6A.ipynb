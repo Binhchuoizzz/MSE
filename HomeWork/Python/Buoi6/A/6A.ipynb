{
 "cells": [
  {
   "cell_type": "code",
   "execution_count": 1,
   "metadata": {},
   "outputs": [],
   "source": [
    "# Tạo class trong Python\n",
    "# Một lớp mô phỏng một hình chữ nhật.\n",
    "class Rectangle:\n",
    "    'This is Rectangle class'\n",
    "    # Một phương thức được sử dụng để tạo đối tượng (Contructor).\n",
    "\n",
    "    def __init__(self, width, height):\n",
    "        self.width = width\n",
    "        self.height = height\n",
    "\n",
    "    def getWidth(self):\n",
    "        return self.width\n",
    "\n",
    "    def getHeight(self):\n",
    "        return self.height\n",
    "    # Phương thức tính diện tích.\n",
    "\n",
    "    def getArea(self):\n",
    "        return self.width * self.height\n"
   ]
  },
  {
   "cell_type": "code",
   "execution_count": 4,
   "metadata": {},
   "outputs": [
    {
     "name": "stdout",
     "output_type": "stream",
     "text": [
      "The path and file are valid or not : True\n"
     ]
    }
   ],
   "source": [
    "import os\n",
    "content = \"\"\"\n",
    "# Một lớp mô phỏng một hình chữ nhật.\n",
    "class Rectangle :\n",
    "    'This is Rectangle class'\n",
    "    # Một phương thức được sử dụng để tạo đối tượng (Contructor).\n",
    "    def __init__(self, width, height):\n",
    "        self.width= width\n",
    "        self.height = height\n",
    "    def getWidth(self):        \n",
    "        return self.width\n",
    "    def getHeight(self):        \n",
    "        return self.height\n",
    "    # Phương thức tính diện tích.\n",
    "    def getArea(self):\n",
    "        return self.width * self.height\n",
    "\"\"\"\n",
    "path_Lib = 'D:\\\\Learn\\\\Binh\\\\MSE\\\\HomeWork\\\\Python\\\\Buoi6\\\\A\\\\'\n",
    "file = path_Lib + \"rectlib.py\"\n",
    "with open(file, 'w', encoding='utf-8') as filetowrite:\n",
    "    filetowrite.write(content)\n",
    "\n",
    "checkFile = os.path.isfile(path_Lib + \"rectlib.py\")\n",
    "print(\"The path and file are valid or not :\", checkFile)\n"
   ]
  },
  {
   "cell_type": "code",
   "execution_count": 5,
   "metadata": {},
   "outputs": [
    {
     "name": "stdout",
     "output_type": "stream",
     "text": [
      "r1.width =  10\n",
      "r1.height =  5\n",
      "r1.getWidth() =  10\n",
      "r1.getArea() =  50\n",
      "-----------------\n",
      "r2.width =  20\n",
      "r2.height =  11\n",
      "r2.getWidth() =  20\n",
      "r2.getArea() =  220\n"
     ]
    }
   ],
   "source": [
    "from rectlib import Rectangle\n",
    "# Tạo 2 đối tượng: r1 & r2\n",
    "r1 = Rectangle(10, 5)\n",
    "r2 = Rectangle(20, 11)\n",
    "\n",
    "print(\"r1.width = \", r1.width)\n",
    "print(\"r1.height = \", r1.height)\n",
    "print(\"r1.getWidth() = \", r1.getWidth())\n",
    "print(\"r1.getArea() = \", r1.getArea())\n",
    "print(\"-----------------\")\n",
    "print(\"r2.width = \", r2.width)\n",
    "print(\"r2.height = \", r2.height)\n",
    "print(\"r2.getWidth() = \", r2.getWidth())\n",
    "print(\"r2.getArea() = \", r2.getArea())\n"
   ]
  },
  {
   "cell_type": "code",
   "execution_count": 6,
   "metadata": {},
   "outputs": [],
   "source": [
    "# Tham số có mặc định trong Constructor\n",
    "class Person:\n",
    "    # Tham số age và gender có giá trị mặc định.\n",
    "    def __init__(self, name, age=1, gender=\"Male\"):\n",
    "        self.name = name\n",
    "        self.age = age\n",
    "        self.gender = gender\n",
    "\n",
    "    def showInfo(self):\n",
    "        print(\"Name: \", self.name)\n",
    "        print(\"Age: \", self.age)\n",
    "        print(\"Gender: \", self.gender)\n"
   ]
  },
  {
   "cell_type": "code",
   "execution_count": 7,
   "metadata": {},
   "outputs": [
    {
     "name": "stdout",
     "output_type": "stream",
     "text": [
      "Writing personlib.py\n"
     ]
    }
   ],
   "source": [
    "%%writefile personlib.py\n",
    "# Tham số có mặc định trong Constructor\n",
    "class Person :\n",
    "    # Tham số age và gender có giá trị mặc định.\n",
    "    def __init__ (self, name, age = 1, gender = \"Male\" ):\n",
    "        self.name = name\n",
    "        self.age = age \n",
    "        self.gender= gender\n",
    "    def showInfo(self):\n",
    "        print (\"Name: \", self.name)\n",
    "        print (\"Age: \", self.age)\n",
    "        print (\"Gender: \", self.gender)\n"
   ]
  },
  {
   "cell_type": "code",
   "execution_count": 8,
   "metadata": {},
   "outputs": [
    {
     "name": "stdout",
     "output_type": "stream",
     "text": [
      "Name:  Aimee\n",
      "Age:  21\n",
      "Gender:  Female\n",
      " --------------- \n",
      "Name:  Alice\n",
      "Age:  1\n",
      "Gender:  Male\n",
      " --------------- \n",
      "Name:  Tran\n",
      "Age:  37\n",
      "Gender:  Male\n"
     ]
    }
   ],
   "source": [
    "# So sánh các đối tượng\n",
    "from personlib import Person\n",
    "# Tạo một đối tượng Person.\n",
    "aimee = Person(\"Aimee\", 21, \"Female\")\n",
    "aimee.showInfo()\n",
    "print(\" --------------- \")\n",
    "# age, gender mặc định.\n",
    "alice = Person(\"Alice\")\n",
    "alice.showInfo()\n",
    "print(\" --------------- \")\n",
    "# gender mặc định.\n",
    "tran = Person(\"Tran\", 37)\n",
    "tran.showInfo()\n"
   ]
  },
  {
   "cell_type": "code",
   "execution_count": 9,
   "metadata": {},
   "outputs": [
    {
     "name": "stdout",
     "output_type": "stream",
     "text": [
      "r1 == r2 ?  False\n",
      "r1 == r3 ?  True\n",
      " -------------- \n",
      "r1 != r2 ?  True\n",
      "r1 != r3 ?  False\n"
     ]
    }
   ],
   "source": [
    "from rectlib import Rectangle\n",
    "r1 = Rectangle(20, 10)\n",
    "r2 = Rectangle(20, 10)\n",
    "r3 = r1\n",
    "# So sánh địa chỉ của r1 và r2\n",
    "test1 = r1 == r2  # --> False\n",
    "# So sánh địa chỉ của r1 và r3\n",
    "test2 = r1 == r3  # --> True\n",
    "print(\"r1 == r2 ? \", test1)\n",
    "print(\"r1 == r3 ? \", test2)\n",
    "print(\" -------------- \")\n",
    "print(\"r1 != r2 ? \", r1 != r2)\n",
    "print(\"r1 != r3 ? \", r1 != r3)\n"
   ]
  },
  {
   "cell_type": "code",
   "execution_count": 10,
   "metadata": {},
   "outputs": [
    {
     "name": "stdout",
     "output_type": "stream",
     "text": [
      "The path and file are valid or not : True\n"
     ]
    }
   ],
   "source": [
    "content = \"\"\"\n",
    "class Player:\n",
    "    # Biến của lớp. \n",
    "    minAge  = 18\n",
    "    maxAge = 50\n",
    "    def __init__(self, name, age):\n",
    "        self.name = name\n",
    "        self.age = age\n",
    "\"\"\"\n",
    "file = path_Lib + \"playerlib.py\"\n",
    "with open(file, 'w', encoding='utf-8') as filetowrite:\n",
    "    filetowrite.write(content)\n",
    "\n",
    "checkFile = os.path.isfile(path_Lib + \"playerlib.py\")\n",
    "print(\"The path and file are valid or not :\", checkFile)\n"
   ]
  },
  {
   "cell_type": "code",
   "execution_count": 11,
   "metadata": {},
   "outputs": [
    {
     "name": "stdout",
     "output_type": "stream",
     "text": [
      "player1.name =  Tom\n",
      "player1.age =  20\n",
      "player2.name =  Jerry\n",
      "player2.age =  20\n",
      " ------------ \n",
      "Assign new value to player1.age = 21 \n",
      "player1.name =  Tom\n",
      "player1.age =  21\n",
      "player2.name =  Jerry\n",
      "player2.age =  20\n"
     ]
    }
   ],
   "source": [
    "# Thuộc tính (Attribute)\n",
    "from playerlib import Player\n",
    "player1 = Player(\"Tom\", 20)\n",
    "player2 = Player(\"Jerry\", 20)\n",
    "\n",
    "print(\"player1.name = \", player1.name)\n",
    "print(\"player1.age = \", player1.age)\n",
    "\n",
    "print(\"player2.name = \", player2.name)\n",
    "print(\"player2.age = \", player2.age)\n",
    "\n",
    "print(\" ------------ \")\n",
    "print(\"Assign new value to player1.age = 21 \")\n",
    "# Gán giá trị mới cho thuộc tính (attribute) age của player1.\n",
    "player1.age = 21\n",
    "print(\"player1.name = \", player1.name)\n",
    "print(\"player1.age = \", player1.age)\n",
    "\n",
    "print(\"player2.name = \", player2.name)\n",
    "print(\"player2.age = \", player2.age)\n"
   ]
  },
  {
   "cell_type": "code",
   "execution_count": 12,
   "metadata": {},
   "outputs": [
    {
     "name": "stdout",
     "output_type": "stream",
     "text": [
      "player1.name =  Tom\n",
      "player1.age =  20\n",
      "player1.address =  USA\n",
      " ------------------- \n",
      "player2.name =  Jerry\n",
      "player2.age =  20\n"
     ]
    }
   ],
   "source": [
    "player1 = Player(\"Tom\", 20)\n",
    "\n",
    "player2 = Player(\"Jerry\", 20)\n",
    "# Tạo một thuộc tính có tên 'address' cho player1.\n",
    "player1.address = \"USA\"\n",
    "print(\"player1.name = \", player1.name)\n",
    "print(\"player1.age = \", player1.age)\n",
    "print(\"player1.address = \", player1.address)\n",
    "print(\" ------------------- \")\n",
    "\n",
    "print(\"player2.name = \", player2.name)\n",
    "print(\"player2.age = \", player2.age)\n"
   ]
  },
  {
   "cell_type": "code",
   "execution_count": 13,
   "metadata": {},
   "outputs": [
    {
     "ename": "AttributeError",
     "evalue": "'Player' object has no attribute 'address'",
     "output_type": "error",
     "traceback": [
      "\u001b[1;31m---------------------------------------------------------------------------\u001b[0m",
      "\u001b[1;31mAttributeError\u001b[0m                            Traceback (most recent call last)",
      "Cell \u001b[1;32mIn[13], line 2\u001b[0m\n\u001b[0;32m      1\u001b[0m \u001b[38;5;66;03m# player2 không có thuộc tính 'address' (Lỗi xẩy ra tại đây).\u001b[39;00m\n\u001b[1;32m----> 2\u001b[0m \u001b[38;5;28mprint\u001b[39m (\u001b[38;5;124m\"\u001b[39m\u001b[38;5;124mplayer2.address = \u001b[39m\u001b[38;5;124m\"\u001b[39m, \u001b[43mplayer2\u001b[49m\u001b[38;5;241;43m.\u001b[39;49m\u001b[43maddress\u001b[49m)\n",
      "\u001b[1;31mAttributeError\u001b[0m: 'Player' object has no attribute 'address'"
     ]
    }
   ],
   "source": [
    "# player2 không có thuộc tính 'address' (Lỗi xẩy ra tại đây).\n",
    "print(\"player2.address = \", player2.address)\n"
   ]
  },
  {
   "cell_type": "code",
   "execution_count": 14,
   "metadata": {},
   "outputs": [
    {
     "name": "stdout",
     "output_type": "stream",
     "text": [
      "getattr(player1,'name') =  Tom\n",
      "setattr(player1,'age', 21): \n",
      "player1.age =  21\n",
      "hasattr(player1, 'address') ?  False\n",
      "Create attribute 'address' for object 'player1'\n",
      "player1.address =  USA\n"
     ]
    }
   ],
   "source": [
    "# Các hàm truy cập vào thuộc tính\n",
    "\n",
    "player1 = Player(\"Tom\", 20)\n",
    "# getattr(obj, name[, default])\n",
    "print(\"getattr(player1,'name') = \", getattr(player1, \"name\"))\n",
    "print(\"setattr(player1,'age', 21): \")\n",
    "# setattr(obj,name,value)\n",
    "setattr(player1, \"age\", 21)\n",
    "print(\"player1.age = \", player1.age)\n",
    "# Kiểm tra player1 có thuộc tính (attribute) address hay không?\n",
    "hasAddress = hasattr(player1, \"address\")\n",
    "print(\"hasattr(player1, 'address') ? \", hasAddress)\n",
    "# Tạo thuộc tính 'address' cho đối tượng 'player1'.\n",
    "print(\"Create attribute 'address' for object 'player1'\")\n",
    "setattr(player1, 'address', \"USA\")\n",
    "print(\"player1.address = \", player1.address)\n",
    "# Xóa thuộc tính 'address'.\n",
    "delattr(player1, \"address\")\n"
   ]
  },
  {
   "cell_type": "code",
   "execution_count": 15,
   "metadata": {},
   "outputs": [],
   "source": [
    "# Các thuộc tính có sẵn của class\n",
    "class Customer:\n",
    "    'This is Customer class'\n",
    "\n",
    "    def __init__(self, name, phone, address):\n",
    "        self.name = name\n",
    "        self.phone = phone\n",
    "        self.address = address\n"
   ]
  },
  {
   "cell_type": "code",
   "execution_count": 16,
   "metadata": {},
   "outputs": [
    {
     "name": "stdout",
     "output_type": "stream",
     "text": [
      "john.__dict__ =  {'name': 'John', 'phone': 1234567, 'address': 'USA'}\n",
      "john.__doc__ =  This is Customer class\n",
      "john.__class__ =  <class '__main__.Customer'>\n",
      "john.__class__.__name__ =  Customer\n",
      "john.__module__ =  __main__\n"
     ]
    }
   ],
   "source": [
    "john = Customer(\"John\", 1234567, \"USA\")\n",
    "print(\"john.__dict__ = \", john.__dict__)\n",
    "print(\"john.__doc__ = \", john.__doc__)\n",
    "print(\"john.__class__ = \", john.__class__)\n",
    "print(\"john.__class__.__name__ = \", john.__class__.__name__)\n",
    "print(\"john.__module__ = \", john.__module__)\n"
   ]
  },
  {
   "cell_type": "code",
   "execution_count": 17,
   "metadata": {},
   "outputs": [
    {
     "name": "stdout",
     "output_type": "stream",
     "text": [
      "['__class__', '__delattr__', '__dict__', '__dir__', '__doc__', '__eq__', '__firstlineno__', '__format__', '__ge__', '__getattribute__', '__getstate__', '__gt__', '__hash__', '__init__', '__init_subclass__', '__le__', '__lt__', '__module__', '__ne__', '__new__', '__reduce__', '__reduce_ex__', '__repr__', '__setattr__', '__sizeof__', '__static_attributes__', '__str__', '__subclasshook__', '__weakref__', 'maxAge', 'minAge']\n",
      "\n",
      "\n",
      "\n"
     ]
    }
   ],
   "source": [
    "# Liệt kê danh sách các thành viên của lớp hoặc đối tượng\n",
    "# In ra danh sách các thuộc tính (attribute), phương thức và biến của lớp Player.\n",
    "print(dir(Player))\n",
    "print(\"\\n\\n\")\n",
    "player1 = Player(\"Tom\", 20)\n",
    "player1.address = \"USA\"\n",
    "# In ra danh sách các thuộc tính, phương thức và biến của đối tượng 'player1'.\n"
   ]
  },
  {
   "cell_type": "code",
   "execution_count": 18,
   "metadata": {},
   "outputs": [],
   "source": [
    "class Animal:\n",
    "    # Constructor\n",
    "    def __init__(self, name):\n",
    "        # Lớp Animal có 1 thuộc tính (attribute): 'name'.\n",
    "        self.name = name\n",
    "    # Phương thức (method):\n",
    "\n",
    "    def showInfo(self):\n",
    "        print(\"I'm \" + self.name)\n",
    "    # Phương thức (method):\n",
    "\n",
    "    def move(self):\n",
    "        print(\"moving ...\")\n"
   ]
  },
  {
   "cell_type": "code",
   "execution_count": 19,
   "metadata": {},
   "outputs": [
    {
     "name": "stdout",
     "output_type": "stream",
     "text": [
      "The path and file are valid or not : True\n"
     ]
    }
   ],
   "source": [
    "content = \"\"\"\n",
    "class Animal :  \n",
    "    # Constructor\n",
    "    def __init__(self, name):\n",
    "        # Lớp Animal có 1 thuộc tính (attribute): 'name'.\n",
    "        self.name= name \n",
    "    # Phương thức (method):\n",
    "    def showInfo(self):\n",
    "        print (\"I'm \" + self.name)\n",
    "    # Phương thức (method):\n",
    "    def move(self):\n",
    "        print (\"moving ...\")\n",
    "\"\"\"\n",
    "file = path_Lib + \"\\\\Animallib.py\"\n",
    "with open(file, 'w', encoding='utf-8') as filetowrite:\n",
    "    filetowrite.write(content)\n",
    "\n",
    "checkFile = os.path.isfile(path_Lib + \"\\\\Animallib.py\")\n",
    "print(\"The path and file are valid or not :\", checkFile)\n"
   ]
  },
  {
   "cell_type": "code",
   "execution_count": 20,
   "metadata": {},
   "outputs": [],
   "source": [
    "from Animallib import Animal\n",
    "# Lớp Cat mở rộng (extends) từ lớp Animal.\n",
    "\n",
    "\n",
    "class Cat (Animal):\n",
    "    def __init__(self, name, age, height):\n",
    "        # Gọi tới constructor của lớp cha (Animal)\n",
    "        # để gán giá trị vào thuộc tính 'name' của lớp cha.\n",
    "        super().__init__(name)\n",
    "        self.age = age\n",
    "        self.height = height\n",
    "    # Ghi đè (override) phương thức cùng tên của lớp cha.\n",
    "\n",
    "    def showInfo(self):\n",
    "        print(\"I'm \" + self.name)\n",
    "        print(\" age \" + str(self.age))\n",
    "        print(\" height \" + str(self.height))\n"
   ]
  },
  {
   "cell_type": "code",
   "execution_count": 21,
   "metadata": {},
   "outputs": [
    {
     "name": "stdout",
     "output_type": "stream",
     "text": [
      "The path and file are valid or not : True\n"
     ]
    }
   ],
   "source": [
    "content = \"\"\"\n",
    "from Animallib import Animal       \n",
    "# Lớp Cat mở rộng (extends) từ lớp Animal.\n",
    "class Cat (Animal): \n",
    "    def __init__(self, name, age, height):\n",
    "        # Gọi tới constructor của lớp cha (Animal)\n",
    "        # để gán giá trị vào thuộc tính 'name' của lớp cha.\n",
    "        super().__init__(name)\n",
    "        self.age = age \n",
    "        self.height = height\n",
    "    # Ghi đè (override) phương thức cùng tên của lớp cha.\n",
    "    def showInfo(self):\n",
    "        print (\"I'm \" + self.name)\n",
    "        print (\" age \" + str(self.age))\n",
    "        print (\" height \" + str(self.height))\n",
    "\"\"\"\n",
    "file = path_Lib + \"\\\\Catlib.py\"\n",
    "with open(file, 'w', encoding='utf-8') as filetowrite:\n",
    "    filetowrite.write(content)\n",
    "\n",
    "checkFile = os.path.isfile(path_Lib + \"Catlib.py\")\n",
    "print(\"The path and file are valid or not :\", checkFile)\n"
   ]
  },
  {
   "cell_type": "code",
   "execution_count": 22,
   "metadata": {},
   "outputs": [
    {
     "name": "stdout",
     "output_type": "stream",
     "text": [
      "D:\\Learn\\Binh\\MSE\\HomeWork\\Python\\Buoi6\\A\\\\Catlib.py\n"
     ]
    }
   ],
   "source": [
    "print(file)\n"
   ]
  },
  {
   "cell_type": "code",
   "execution_count": 23,
   "metadata": {},
   "outputs": [
    {
     "name": "stdout",
     "output_type": "stream",
     "text": [
      "Call move() method\n",
      "moving ...\n",
      "\n",
      "\n",
      "Call showInfo() method\n",
      "I'm Tom\n",
      " age 3\n",
      " height 20\n"
     ]
    }
   ],
   "source": [
    "from Catlib import Cat\n",
    "tom = Cat(\"Tom\", 3, 20)\n",
    "print(\"Call move() method\")\n",
    "tom.move()\n",
    "print(\"\\n\")\n",
    "print(\"Call showInfo() method\")\n",
    "tom.showInfo()\n"
   ]
  },
  {
   "cell_type": "code",
   "execution_count": 24,
   "metadata": {},
   "outputs": [
    {
     "name": "stdout",
     "output_type": "stream",
     "text": [
      "The path and file are valid or not : True\n"
     ]
    }
   ],
   "source": [
    "# Ghi đè phương thức\n",
    "content = \"\"\"\n",
    "from Animallib import Animal       \n",
    "# Lớp Mouse mở rộng (extends) từ lớp Animal.\n",
    "class Mouse (Animal): \n",
    "    def __init__(self, name, age, height):\n",
    "        # Gọi tới Constructor của lớp cha (Animal)\n",
    "        # để gán giá trị vào thuộc tính 'name' của lớp cha.\n",
    "        super().__init__(name)\n",
    "        self.age = age \n",
    "        self.height = height\n",
    "    # Ghi đè (override) phương thức cùng tên của lớp cha.\n",
    "    def showInfo(self):\n",
    "        # Gọi phương thức của lớp cha.\n",
    "        super().showInfo()\n",
    "        print (\" age \" + str(self.age))\n",
    "        print (\" height \" + str(self.height))\n",
    "    # Ghi đè (override) phương thức cùng tên của lớp cha.        \n",
    "    def move(self):\n",
    "        print (\"Mouse moving ...\")\n",
    "\"\"\"\n",
    "file = path_Lib + \"\\\\Mouselib.py\"\n",
    "with open(file, 'w', encoding='utf-8') as filetowrite:\n",
    "    filetowrite.write(content)\n",
    "\n",
    "checkFile = os.path.isfile(path_Lib + \"\\\\Mouselib.py\")\n",
    "print(\"The path and file are valid or not :\", checkFile)\n"
   ]
  },
  {
   "cell_type": "code",
   "execution_count": 25,
   "metadata": {},
   "outputs": [
    {
     "name": "stdout",
     "output_type": "stream",
     "text": [
      "Call move() method\n",
      "Mouse moving ...\n",
      "\n",
      "\n",
      "Call showInfo() method\n",
      "I'm Jerry\n",
      " age 3\n",
      " height 5\n"
     ]
    }
   ],
   "source": [
    "from Mouselib import Mouse\n",
    "\n",
    "jerry = Mouse(\"Jerry\", 3, 5)\n",
    "print(\"Call move() method\")\n",
    "jerry.move()\n",
    "print(\"\\n\")\n",
    "print(\"Call showInfo() method\")\n",
    "jerry.showInfo()\n"
   ]
  },
  {
   "cell_type": "code",
   "execution_count": 26,
   "metadata": {},
   "outputs": [],
   "source": [
    "# Phương thức trừu tượng\n",
    "# Một lớp trừu tượng (Abstract class).\n",
    "class AbstractDocument:\n",
    "    def __init__(self, name):\n",
    "        self.name = name\n",
    "    # Một phương thức không thể sử dụng được, vì nó luôn ném ra lỗi.\n",
    "\n",
    "    def show(self):\n",
    "        raise NotImplementedError(\"Subclass must implement abstract method\")\n",
    "\n",
    "\n",
    "class PDF(AbstractDocument):\n",
    "    # Ghi đè phương thức của lớp cha\n",
    "    def show(self):\n",
    "        print(\"Show PDF document:\", self.name)\n",
    "\n",
    "\n",
    "class Word(AbstractDocument):\n",
    "    def show(self):\n",
    "        print(\"Show Word document:\", self.name)\n"
   ]
  },
  {
   "cell_type": "code",
   "execution_count": 27,
   "metadata": {},
   "outputs": [
    {
     "name": "stdout",
     "output_type": "stream",
     "text": [
      "Show PDF document: Python tutorial\n",
      "Show Word document: Java IO Tutorial\n",
      "Show PDF document: Python Date & Time Tutorial\n"
     ]
    }
   ],
   "source": [
    "documents = [PDF(\"Python tutorial\"),\n",
    "             Word(\"Java IO Tutorial\"),\n",
    "             PDF(\"Python Date & Time Tutorial\")]\n",
    "for doc in documents:\n",
    "    doc.show()\n"
   ]
  },
  {
   "cell_type": "code",
   "execution_count": 28,
   "metadata": {},
   "outputs": [],
   "source": [
    "# Đa thừa kế\n",
    "class Horse:\n",
    "    maxHeight = 200  # centimeter\n",
    "\n",
    "    def __init__(self, name, horsehair):\n",
    "        self.name = name\n",
    "        self.horsehair = horsehair\n",
    "\n",
    "    def run(self):\n",
    "        print(\"Horse run\")\n",
    "\n",
    "    def showName(self):\n",
    "        print(\"Name: (House's method): \", self.name)\n",
    "\n",
    "    def showInfo(self):\n",
    "        print(\"Horse Info\")\n",
    "\n",
    "\n",
    "class Donkey:\n",
    "    def __init__(self, name, weight):\n",
    "        self.name = name\n",
    "        self.weight = weight\n",
    "\n",
    "    def run(self):\n",
    "        print(\"Donkey run\")\n",
    "\n",
    "    def showName(self):\n",
    "        print(\"Name: (Donkey's method): \", self.name)\n",
    "\n",
    "    def showInfo(self):\n",
    "        print(\"Donkey Info\")\n",
    "\n",
    "# Lớp Mule thừa kế từ Horse và Donkey.\n",
    "\n",
    "\n",
    "class Mule(Horse, Donkey):\n",
    "    def __init__(self, name, hair, weight):\n",
    "        Horse.__init__(self, name, hair)\n",
    "        Donkey.__init__(self, name, weight)\n",
    "\n",
    "    def run(self):\n",
    "        print(\"Mule run\")\n",
    "\n",
    "    def showInfo(self):\n",
    "        print(\"-- Call Mule.showInfo: --\")\n",
    "        Horse.showInfo(self)\n",
    "        Donkey.showInfo(self)\n"
   ]
  },
  {
   "cell_type": "code",
   "execution_count": 29,
   "metadata": {},
   "outputs": [
    {
     "name": "stdout",
     "output_type": "stream",
     "text": [
      "Max height  200\n",
      "Mule run\n",
      "Name: (House's method):  Mule\n",
      "-- Call Mule.showInfo: --\n",
      "Horse Info\n",
      "Donkey Info\n"
     ]
    }
   ],
   "source": [
    "# ---- Test ------------------------------------\n",
    "# Biến 'maxHeight', được thừa kế từ lớp Horse.\n",
    "print(\"Max height \", Mule.maxHeight)\n",
    "mule = Mule(\"Mule\", 20, 1000)\n",
    "mule.run()\n",
    "mule.showName()\n",
    "mule.showInfo()\n"
   ]
  },
  {
   "cell_type": "code",
   "execution_count": 30,
   "metadata": {},
   "outputs": [
    {
     "name": "stdout",
     "output_type": "stream",
     "text": [
      "isinstance('abc', object):  True\n",
      "isinstance(123, object):  True\n",
      "isinstance(b, A):  True\n",
      "isinstance(b, B):  True\n",
      "isinstance(a, B):  False\n",
      "issubclass(B, A):  True\n",
      "issubclass(A, B):  False\n"
     ]
    }
   ],
   "source": [
    "# Hàm issubclass và isinstance\n",
    "class A:\n",
    "    pass\n",
    "\n",
    "\n",
    "class B(A):\n",
    "    pass\n",
    "\n",
    "\n",
    "# True\n",
    "print(\"isinstance('abc', object): \", isinstance('abc', object))\n",
    "# True\n",
    "print(\"isinstance(123, object): \", isinstance(123, object))\n",
    "\n",
    "b = B()\n",
    "a = A()\n",
    "\n",
    "# True\n",
    "print(\"isinstance(b, A): \", isinstance(b, A))\n",
    "print(\"isinstance(b, B): \", isinstance(b, B))\n",
    "\n",
    "# False\n",
    "print(\"isinstance(a, B): \", isinstance(a, B))\n",
    "\n",
    "# B is subclass of A? ==> True\n",
    "print(\"issubclass(B, A): \", issubclass(B, A))\n",
    "\n",
    "# A is subclass of B? ==> False\n",
    "print(\"issubclass(A, B): \", issubclass(A, B))\n"
   ]
  },
  {
   "cell_type": "code",
   "execution_count": 31,
   "metadata": {},
   "outputs": [
    {
     "name": "stdout",
     "output_type": "stream",
     "text": [
      "Hello\n",
      "Bonjour\n"
     ]
    }
   ],
   "source": [
    "# Đa hình với hàm\n",
    "class English:\n",
    "    def greeting(self):\n",
    "        print(\"Hello\")\n",
    "\n",
    "\n",
    "class French:\n",
    "    def greeting(self):\n",
    "        print(\"Bonjour\")\n",
    "\n",
    "\n",
    "def intro(language):\n",
    "    language.greeting()\n",
    "\n",
    "\n",
    "flora = English()\n",
    "aalase = French()\n",
    "\n",
    "intro(flora)\n",
    "intro(aalase)\n"
   ]
  },
  {
   "cell_type": "code",
   "execution_count": 32,
   "metadata": {},
   "outputs": [
    {
     "name": "stdout",
     "output_type": "stream",
     "text": [
      "Số tuổi là: 25\n"
     ]
    }
   ],
   "source": [
    "# classmethod\n",
    "class Nhanvien:\n",
    "    tuoi = 25\n",
    "\n",
    "    def printTuoi(cls):\n",
    "        print('Số tuổi là:', cls.tuoi)\n",
    "\n",
    "\n",
    "# tạo phương thức class printTuoi\n",
    "Nhanvien.printTuoi = classmethod(Nhanvien.printTuoi)\n",
    "Nhanvien.printTuoi()\n"
   ]
  },
  {
   "cell_type": "code",
   "execution_count": 33,
   "metadata": {},
   "outputs": [
    {
     "name": "stdout",
     "output_type": "stream",
     "text": [
      "Tuổi của Alice là: 23\n",
      "Tuổi của Simon là: 34\n"
     ]
    }
   ],
   "source": [
    "from datetime import date\n",
    "\n",
    "# random Nhanvien\n",
    "\n",
    "\n",
    "class Nhanvien:\n",
    "    def __init__(self, ten, tuoi):\n",
    "        self.ten = ten\n",
    "        self.tuoi = tuoi\n",
    "\n",
    "    @classmethod\n",
    "    def fromBirthYear(cls, ten, birthYear):\n",
    "        return cls(ten, date.today().year - birthYear)\n",
    "\n",
    "    def ketqua(self):\n",
    "        print(\"Tuổi của \" + self.ten + \" là: \" + str(self.tuoi))\n",
    "\n",
    "\n",
    "nhanvien = Nhanvien('Alice', 23)\n",
    "nhanvien.ketqua()\n",
    "nhanvien1 = Nhanvien.fromBirthYear('Simon', 1990)\n",
    "nhanvien1.ketqua()\n"
   ]
  },
  {
   "cell_type": "code",
   "execution_count": 34,
   "metadata": {},
   "outputs": [
    {
     "name": "stdout",
     "output_type": "stream",
     "text": [
      "True\n",
      "False\n"
     ]
    }
   ],
   "source": [
    "from datetime import date\n",
    "\n",
    "# random Person\n",
    "\n",
    "\n",
    "class Person:\n",
    "    def __init__(self, name, age):\n",
    "        self.name = name\n",
    "        self.age = age\n",
    "\n",
    "    @staticmethod\n",
    "    def fromFathersAge(name, fatherAge, fatherPersonAgeDiff):\n",
    "        return Person(name, date.today().year - fatherAge + fatherPersonAgeDiff)\n",
    "\n",
    "    @classmethod\n",
    "    def fromBirthYear(cls, name, birthYear):\n",
    "        return cls(name, date.today().year - birthYear)\n",
    "\n",
    "    def display(self):\n",
    "        print(self.name + \"'s age is: \" + str(self.age))\n",
    "\n",
    "\n",
    "class Man(Person):\n",
    "    sex = 'Male'\n",
    "\n",
    "\n",
    "man = Man.fromBirthYear('John', 1985)\n",
    "print(isinstance(man, Man))\n",
    "man1 = Man.fromFathersAge('John', 1965, 20)\n",
    "print(isinstance(man1, Man))\n"
   ]
  },
  {
   "cell_type": "code",
   "execution_count": 35,
   "metadata": {},
   "outputs": [
    {
     "name": "stdout",
     "output_type": "stream",
     "text": [
      "The path and file are valid or not : True\n"
     ]
    }
   ],
   "source": [
    "content = \"\"\"\n",
    "#Module my_math\n",
    "\n",
    "print('--- start of my_math ---')\n",
    "PI = 3.14159\n",
    "E = 2.71828\n",
    "message = 'My math module'\n",
    "\n",
    "def sum(start, *numbers):\n",
    "    '''Calculate the sum of unlimited number\n",
    "    Params:\n",
    "        start:int/float, the start sum\n",
    "        *numbers:int/float, the numbers to sum up\n",
    "    Return: int/float\n",
    "    '''\n",
    "    for x in numbers:\n",
    "        start += x\n",
    "    return start\n",
    "\n",
    "def sum_range(start, stop, step=1):\n",
    "    '''    Calculate the sum of intergers\n",
    "    Params:\n",
    "        start:int, start range number\n",
    "        stop:int, stop range number\n",
    "        step:int, the step between value\n",
    "    Returns: int\n",
    "    '''\n",
    "    sum = 0\n",
    "    for i in range(start, stop, step):\n",
    "        sum += i\n",
    "    return sum\n",
    "\n",
    "def fact(n):\n",
    "    '''Calculate the factorial of n\n",
    "    Params:\n",
    "        n:int\n",
    "    Return: int\n",
    "    '''\n",
    "    p = 1\n",
    "    for i in range(1, n + 1):\n",
    "        p *= i\n",
    "    return p\n",
    "\n",
    "print('--- start of my_math ---')\n",
    "\"\"\"\n",
    "\n",
    "file = path_Lib + \"\\\\my_math.py\"\n",
    "with open(file, 'w') as filetowrite:\n",
    "    filetowrite.write(content)\n",
    "\n",
    "checkFile = os.path.isfile(path_Lib + \"\\\\my_math.py\")\n",
    "print(\"The path and file are valid or not :\", checkFile)\n"
   ]
  },
  {
   "cell_type": "code",
   "execution_count": 36,
   "metadata": {},
   "outputs": [
    {
     "name": "stdout",
     "output_type": "stream",
     "text": [
      "--- start of my_math ---\n",
      "--- start of my_math ---\n",
      "My math module\n",
      "sum =  10\n",
      "sum_range =  45\n",
      "fact =  6\n",
      "Pi =  3.14159\n",
      "e =  2.71828\n"
     ]
    }
   ],
   "source": [
    "import my_math\n",
    "\n",
    "print(my_math.message)\n",
    "\n",
    "sum = my_math.sum(0, 1, 2, 3, 4)\n",
    "sum_range = my_math.sum_range(1, 10)\n",
    "fact = my_math.fact(3)\n",
    "\n",
    "print('sum = ', sum)\n",
    "print('sum_range = ', sum_range)\n",
    "print('fact = ', fact)\n",
    "\n",
    "print('Pi = ', my_math.PI)\n",
    "print('e = ', my_math.E)\n"
   ]
  },
  {
   "cell_type": "code",
   "execution_count": 37,
   "metadata": {},
   "outputs": [
    {
     "name": "stdout",
     "output_type": "stream",
     "text": [
      "My math module\n",
      "15\n",
      "2.71828\n"
     ]
    }
   ],
   "source": [
    "import my_math as mm\n",
    "\n",
    "print(mm.message)\n",
    "print(mm.sum(1, 2, 3, 4, 5))\n",
    "print(mm.E)\n"
   ]
  },
  {
   "cell_type": "code",
   "execution_count": 38,
   "metadata": {},
   "outputs": [
    {
     "name": "stdout",
     "output_type": "stream",
     "text": [
      "My math module\n",
      "sum_range =  2500\n",
      "5! =  120\n"
     ]
    }
   ],
   "source": [
    "from my_math import sum_range, fact, message\n",
    "\n",
    "print(message)\n",
    "print('sum_range = ', sum_range(1, 100, 2))\n",
    "print('5! = ', fact(5))\n"
   ]
  },
  {
   "cell_type": "code",
   "execution_count": 39,
   "metadata": {},
   "outputs": [
    {
     "name": "stdout",
     "output_type": "stream",
     "text": [
      "My math module\n",
      "sum_range =  2500\n",
      "5! =  120\n"
     ]
    }
   ],
   "source": [
    "from my_math import sum_range as sr, fact as f, message as msg\n",
    "\n",
    "print(msg)\n",
    "print('sum_range = ', sr(1, 100, 2))\n",
    "print('5! = ', f(5))\n"
   ]
  },
  {
   "cell_type": "code",
   "execution_count": 40,
   "metadata": {},
   "outputs": [
    {
     "name": "stdout",
     "output_type": "stream",
     "text": [
      "My math module\n",
      "sum_range =  2500\n",
      "5! =  120\n"
     ]
    }
   ],
   "source": [
    "from my_math import *\n",
    "\n",
    "print(message)\n",
    "print('sum_range = ', sum_range(1, 100, 2))\n",
    "print('5! = ', fact(5))\n"
   ]
  },
  {
   "cell_type": "code",
   "execution_count": 41,
   "metadata": {},
   "outputs": [
    {
     "name": "stdout",
     "output_type": "stream",
     "text": [
      "My math module\n",
      "sum_range =  2500\n",
      "5! =  120\n"
     ]
    }
   ],
   "source": [
    "from my_math import *\n",
    "\n",
    "\n",
    "def main():\n",
    "    'Thực thi các logic của chương trình'\n",
    "\n",
    "    print(message)\n",
    "    print('sum_range = ', sum_range(1, 100, 2))\n",
    "    print('5! = ', fact(5))\n",
    "\n",
    "\n",
    "if __name__ == '__main__':\n",
    "    main()\n"
   ]
  },
  {
   "cell_type": "code",
   "execution_count": 42,
   "metadata": {},
   "outputs": [
    {
     "name": "stdout",
     "output_type": "stream",
     "text": [
      "c:\\Users\\Admin\\AppData\\Local\\Programs\\Python\\Python313\\python313.zip\n",
      "c:\\Users\\Admin\\AppData\\Local\\Programs\\Python\\Python313\\DLLs\n",
      "c:\\Users\\Admin\\AppData\\Local\\Programs\\Python\\Python313\\Lib\n",
      "c:\\Users\\Admin\\AppData\\Local\\Programs\\Python\\Python313\n",
      "\n",
      "C:\\Users\\Admin\\AppData\\Roaming\\Python\\Python313\\site-packages\n",
      "C:\\Users\\Admin\\AppData\\Roaming\\Python\\Python313\\site-packages\\win32\n",
      "C:\\Users\\Admin\\AppData\\Roaming\\Python\\Python313\\site-packages\\win32\\lib\n",
      "C:\\Users\\Admin\\AppData\\Roaming\\Python\\Python313\\site-packages\\Pythonwin\n",
      "c:\\Users\\Admin\\AppData\\Local\\Programs\\Python\\Python313\\Lib\\site-packages\n",
      "c:\\Users\\Admin\\AppData\\Local\\Programs\\Python\\Python313\\Lib\\site-packages\\vnquant-0.1.2-py3.13.egg\n",
      "c:\\Users\\Admin\\AppData\\Local\\Programs\\Python\\Python313\\Lib\\site-packages\\bs4-0.0.2-py3.13.egg\n",
      "c:\\Users\\Admin\\AppData\\Local\\Programs\\Python\\Python313\\Lib\\site-packages\\plotly-6.0.0rc0-py3.13.egg\n",
      "c:\\Users\\Admin\\AppData\\Local\\Programs\\Python\\Python313\\Lib\\site-packages\\pypandoc-1.14-py3.13.egg\n",
      "c:\\Users\\Admin\\AppData\\Local\\Programs\\Python\\Python313\\Lib\\site-packages\\lxml-5.3.0-py3.13-win-amd64.egg\n",
      "c:\\Users\\Admin\\AppData\\Local\\Programs\\Python\\Python313\\Lib\\site-packages\\wrapt-1.17.0-py3.13-win-amd64.egg\n",
      "c:\\Users\\Admin\\AppData\\Local\\Programs\\Python\\Python313\\Lib\\site-packages\\narwhals-1.19.0-py3.13.egg\n",
      "c:\\Users\\Admin\\AppData\\Local\\Programs\\Python\\Python313\\Lib\\site-packages\\setuptools\\_vendor\n"
     ]
    }
   ],
   "source": [
    "import sys\n",
    "for p in sys.path:\n",
    "    print(p)\n"
   ]
  },
  {
   "cell_type": "code",
   "execution_count": 43,
   "metadata": {},
   "outputs": [
    {
     "name": "stdout",
     "output_type": "stream",
     "text": [
      "Directory 'demopackage' created\n",
      "The path and file are valid or not : True\n"
     ]
    }
   ],
   "source": [
    "# Package\n",
    "import os \n",
    "\n",
    "directory = \"demopackage\"\n",
    "parent_dir = %pwd +\"\\\\\n",
    "  \n",
    "# Path \n",
    "package_path = os.path.join(parent_dir, directory) \n",
    "  \n",
    "# Create the directory 'demopackage' \n",
    "checkPath = os.path.isdir(package_path)\n",
    "\n",
    "if(checkPath):\n",
    "  print(\"Directory '% s' already existed\" % directory) \n",
    "else:\n",
    "  os.mkdir(package_path) \n",
    "  print(\"Directory '% s' created\" % directory) \n",
    "\n",
    "checkFolder = os.path.isdir(package_path)\n",
    "print(\"The path and file are valid or not :\", checkFolder)\n"
   ]
  },
  {
   "cell_type": "code",
   "execution_count": 44,
   "metadata": {},
   "outputs": [
    {
     "name": "stdout",
     "output_type": "stream",
     "text": [
      "The path and file are valid or not : True\n"
     ]
    }
   ],
   "source": [
    "content = \"\"\"\n",
    "# demopackage/modules1.py\n",
    "def say_hello():\n",
    "    print(\"Hello!\")\n",
    "\n",
    "def say_goodbye():\n",
    "    print(\"Goodbye!\")\n",
    "\"\"\"\n",
    "\n",
    "file = os.path.join(package_path, \"modules1.py\")\n",
    "with open(file, 'w') as filetowrite:\n",
    "    filetowrite.write(content)\n",
    "\n",
    "checkFile = os.path.isfile(os.path.join(package_path, \"modules1.py\"))\n",
    "print(\"The path and file are valid or not :\", checkFile)\n"
   ]
  },
  {
   "cell_type": "code",
   "execution_count": 45,
   "metadata": {},
   "outputs": [
    {
     "name": "stdout",
     "output_type": "stream",
     "text": [
      "The path and file are valid or not : True\n"
     ]
    }
   ],
   "source": [
    "content = \"\"\"\n",
    "# demopackage/modules2.py\n",
    "def say_hello_VN():\n",
    "    print(\"Xin Chào!\")\n",
    "\n",
    "def say_goodbye_VN():\n",
    "    print(\"Tạm Biệt!\")\n",
    "\"\"\"\n",
    "\n",
    "file = os.path.join(package_path, \"modules2.py\")\n",
    "with open(file, 'w', encoding='utf-8') as filetowrite:\n",
    "    filetowrite.write(content)\n",
    "\n",
    "checkFile = os.path.isfile(os.path.join(package_path, \"modules2.py\"))\n",
    "print(\"The path and file are valid or not :\", checkFile)\n"
   ]
  },
  {
   "cell_type": "code",
   "execution_count": 46,
   "metadata": {},
   "outputs": [
    {
     "name": "stdout",
     "output_type": "stream",
     "text": [
      "The path and file are valid or not : True\n"
     ]
    }
   ],
   "source": [
    "content = \"\"\"\n",
    "# demopackage/__init__.py\n",
    "from demopackage.modules1 import *\n",
    "from demopackage.modules2 import *\n",
    "\n",
    "#hoặc cũng có thể import như thế này:\n",
    "# import demopackage.modules1\n",
    "# import demopackage.modules2\n",
    "\"\"\"\n",
    "\n",
    "file = os.path.join(package_path, \"__init__.py\")\n",
    "with open(file, 'w', encoding='utf-8') as filetowrite:\n",
    "    filetowrite.write(content)\n",
    "\n",
    "checkFile = os.path.isfile(os.path.join(package_path, \"__init__.py\"))\n",
    "print(\"The path and file are valid or not :\", checkFile)\n"
   ]
  },
  {
   "cell_type": "code",
   "execution_count": 47,
   "metadata": {},
   "outputs": [
    {
     "name": "stdout",
     "output_type": "stream",
     "text": [
      "Hello!\n",
      "Xin Chào!\n"
     ]
    }
   ],
   "source": [
    "import demopackage as mp\n",
    "mp.modules1.say_hello()\n",
    "mp.modules2.say_hello_VN()\n"
   ]
  },
  {
   "cell_type": "code",
   "execution_count": 48,
   "metadata": {},
   "outputs": [
    {
     "name": "stdout",
     "output_type": "stream",
     "text": [
      "Goodbye!\n",
      "Tạm Biệt!\n"
     ]
    }
   ],
   "source": [
    "from demopackage import *\n",
    "modules1.say_goodbye()\n",
    "modules2.say_goodbye_VN()\n"
   ]
  },
  {
   "cell_type": "code",
   "execution_count": null,
   "metadata": {},
   "outputs": [],
   "source": []
  }
 ],
 "metadata": {
  "kernelspec": {
   "display_name": "Python 3",
   "language": "python",
   "name": "python3"
  },
  "language_info": {
   "codemirror_mode": {
    "name": "ipython",
    "version": 3
   },
   "file_extension": ".py",
   "mimetype": "text/x-python",
   "name": "python",
   "nbconvert_exporter": "python",
   "pygments_lexer": "ipython3",
   "version": "3.13.1"
  }
 },
 "nbformat": 4,
 "nbformat_minor": 2
}
