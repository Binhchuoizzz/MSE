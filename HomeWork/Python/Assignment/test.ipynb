{
 "cells": [
  {
   "cell_type": "code",
   "execution_count": 57,
   "metadata": {},
   "outputs": [
    {
     "name": "stdout",
     "output_type": "stream",
     "text": [
      "Case 01\n",
      "The inside list is : ['Marry', 'Jone', 'Peter', 'Alex', 'Jame']\n",
      "The inside list is : ['Marry', 'Jone', 'Peter', 'Alex', 'Jame']\n"
     ]
    },
    {
     "data": {
      "text/plain": [
       "0"
      ]
     },
     "execution_count": 57,
     "metadata": {},
     "output_type": "execute_result"
    }
   ],
   "source": [
    "def changelist(names1=None, names2=None):\n",
    "    \"This function is to change the input variable\"\n",
    "    names1.extend([\"Alex\", \"Jame\"])\n",
    "    print(\"The inside list is :\", names1)\n",
    "    names2 = names2 + [\"Alex\", \"Jame\"]\n",
    "    print(\"The inside list is :\", names2)\n",
    "    return 0\n",
    "\n",
    "\n",
    "print(\"Case 01\")\n",
    "namelist1 = [\"Marry\", \"Jone\", \"Peter\"]\n",
    "namelist2 = [\"Marry\", \"Jone\", \"Peter\"]\n",
    "changelist(namelist1, namelist2)\n"
   ]
  },
  {
   "cell_type": "code",
   "execution_count": null,
   "metadata": {},
   "outputs": [],
   "source": []
  }
 ],
 "metadata": {
  "kernelspec": {
   "display_name": "Python 3",
   "language": "python",
   "name": "python3"
  },
  "language_info": {
   "codemirror_mode": {
    "name": "ipython",
    "version": 3
   },
   "file_extension": ".py",
   "mimetype": "text/x-python",
   "name": "python",
   "nbconvert_exporter": "python",
   "pygments_lexer": "ipython3",
   "version": "3.13.0"
  }
 },
 "nbformat": 4,
 "nbformat_minor": 2
}
