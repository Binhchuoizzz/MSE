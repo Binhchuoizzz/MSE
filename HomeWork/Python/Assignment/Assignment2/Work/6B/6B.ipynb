{
 "cells": [
  {
   "cell_type": "markdown",
   "metadata": {},
   "source": [
    "### Contents\n",
    "\n",
    "###### WORKING ON TITANIC DATASET 'Information' class 'Preprocess' class 'PreprocessStrategy' class 'GridSearchHelper' class Visualizer class 'ObjectOrientedTitanic' class Testing Create ObjectOrientedTitanic object Display R Type Information Define preprocess strategy Visualize Get GridSearchCV Results\n"
   ]
  },
  {
   "cell_type": "markdown",
   "metadata": {},
   "source": [
    "#### WORKING ON TITANIC DATASET\n",
    "\n",
    "###### Now let's work on the Titanic dataset using classes\n",
    "\n",
    "###### Different classes have been created for the operations on the Titanic dataset; Information, Preprocess, PreprocessStrategy, GridSearchHelper, ObjectOrientedTitanic\n",
    "\n",
    "###### 'Information': This class prints summary information about the data set on the screen.\n",
    "\n",
    "###### 'Preprocess': The preprocessing on the data set is done using this class.\n",
    "\n",
    "###### 'PreprocessStrategy': Preprocessing is important in the Titanic data set. The PreprocessStrategy class was created to develop different pre-processing strategies.\n",
    "\n",
    "###### 'GridSearchHelper': Class for parameter optimization for machine learning algorithms.\n",
    "\n",
    "###### 'ObjectOrientedTitanic': The class for which all classes are managed.\n"
   ]
  },
  {
   "cell_type": "code",
   "execution_count": 1,
   "metadata": {},
   "outputs": [],
   "source": [
    "import numpy as np  # linear algebra\n",
    "import pandas as pd  # data processing\n",
    "\n",
    "# Visualization\n",
    "import matplotlib.pyplot as plt\n",
    "\n",
    "# Systems\n",
    "import os\n",
    "import warnings\n"
   ]
  },
  {
   "cell_type": "code",
   "execution_count": 2,
   "metadata": {},
   "outputs": [
    {
     "name": "stdout",
     "output_type": "stream",
     "text": [
      "Warnings were ignored\n"
     ]
    }
   ],
   "source": [
    "warnings.filterwarnings('ignore')\n",
    "print(\"Warnings were ignored\")\n"
   ]
  },
  {
   "cell_type": "code",
   "execution_count": 3,
   "metadata": {},
   "outputs": [
    {
     "data": {
      "text/plain": [
       "'d:\\\\Learn\\\\Binh\\\\MSE\\\\HomeWork\\\\Python\\\\Assignment\\\\Assignment2\\\\Work\\\\6B'"
      ]
     },
     "execution_count": 3,
     "metadata": {},
     "output_type": "execute_result"
    }
   ],
   "source": [
    "pwd()\n"
   ]
  },
  {
   "cell_type": "code",
   "execution_count": 4,
   "metadata": {},
   "outputs": [],
   "source": [
    "train = pd.read_csv(\n",
    "    \"D:\\\\Learn\\\\Binh\\\\MSE\\\\HomeWork\\\\Python\\\\Assignment\\\\Assignment2\\\\Data\\\\Titanic\\\\train.csv\")\n",
    "test = pd.read_csv(\n",
    "    \"D:\\\\Learn\\\\Binh\\\\MSE\\\\HomeWork\\\\Python\\\\Assignment\\\\Assignment2\\\\Data\\\\Titanic\\\\test.csv\")\n"
   ]
  },
  {
   "cell_type": "code",
   "execution_count": 5,
   "metadata": {},
   "outputs": [],
   "source": [
    "class Information():\n",
    "\n",
    "    def __init__(self):\n",
    "        \"\"\"\n",
    "        This class give some brief information about the datasets.\n",
    "        Information introduced in R language style\n",
    "        \"\"\"\n",
    "        print(\"Information object created\")\n",
    "\n",
    "    def _get_missing_values(self, data):\n",
    "        \"\"\"\n",
    "        Find missing values of given datad\n",
    "        :param data: checked its missing value\n",
    "        :return: Pandas Series object\n",
    "        \"\"\"\n",
    "        # Getting sum of missing values for each feature\n",
    "        missing_values = data.isnull().sum()\n",
    "        # Feature missing values are sorted from few to many\n",
    "        missing_values.sort_values(ascending=False, inplace=True)\n",
    "\n",
    "        # Returning missing values\n",
    "        return missing_values\n",
    "\n",
    "    def info(self, data):\n",
    "        \"\"\"\n",
    "        print feature name, data type, number of missing values and ten samples of \n",
    "        each feature\n",
    "        :param data: dataset information will be gathered from\n",
    "        :return: no return value\n",
    "        \"\"\"\n",
    "        feature_dtypes = data.dtypes\n",
    "        self.missing_values = self._get_missing_values(data)\n",
    "\n",
    "        print(\"=\" * 50)\n",
    "\n",
    "        print(\"{:16} {:16} {:25} {:16}\".format(\"Feature Name\".upper(),\n",
    "                                               \"Data Format\".upper(),\n",
    "                                               \"# of Missing Values\".upper(),\n",
    "                                               \"Samples\".upper()))\n",
    "        for feature_name, dtype, missing_value in zip(self.missing_values.index.values,\n",
    "                                                      feature_dtypes[self.missing_values.index.values],\n",
    "                                                      self.missing_values.values):\n",
    "            print(\"{:18} {:19} {:19} \".format(feature_name,\n",
    "                  str(dtype), str(missing_value)), end=\"\")\n",
    "            for v in data[feature_name].values[:10]:\n",
    "                print(v, end=\",\")\n",
    "            print()\n",
    "\n",
    "        print(\"=\"*50)\n"
   ]
  },
  {
   "cell_type": "markdown",
   "metadata": {},
   "source": [
    "#### 'Preprocess' class\n"
   ]
  },
  {
   "cell_type": "code",
   "execution_count": 6,
   "metadata": {},
   "outputs": [],
   "source": [
    "import pandas as pd\n",
    "from sklearn.preprocessing import LabelEncoder\n",
    "\n",
    "\n",
    "class Preprocess():\n",
    "\n",
    "    def __init__(self):\n",
    "        print(\"Preprocess object created\")\n",
    "\n",
    "    def fillna(self, data, fill_strategies):\n",
    "        for column, strategy in fill_strategies.items():\n",
    "            if strategy == 'None':\n",
    "                data[column] = data[column].fillna('None')\n",
    "            elif strategy == 'Zero':\n",
    "                data[column] = data[column].fillna(0)\n",
    "            elif strategy == 'Mode':\n",
    "                data[column] = data[column].fillna(data[column].mode()[0])\n",
    "            elif strategy == 'Mean':\n",
    "                data[column] = data[column].fillna(data[column].mean())\n",
    "            elif strategy == 'Median':\n",
    "                data[column] = data[column].fillna(data[column].median())\n",
    "            else:\n",
    "                print(\n",
    "                    \"{}: There is no such thing as preprocess strategy\".format(strategy))\n",
    "\n",
    "        return data\n",
    "\n",
    "    def drop(self, data, drop_strategies):\n",
    "        for column, strategy in drop_strategies.items():\n",
    "            data = data.drop(labels=[column], axis=strategy)\n",
    "\n",
    "        return data\n",
    "\n",
    "    def feature_engineering(self, data, engineering_strategies=1):\n",
    "        if engineering_strategies == 1:\n",
    "            return self._feature_engineering1(data)\n",
    "\n",
    "        return data\n",
    "\n",
    "    def _feature_engineering1(self, data):\n",
    "\n",
    "        data = self._base_feature_engineering(data)\n",
    "\n",
    "        data['FareBin'] = pd.qcut(data['Fare'], 4)\n",
    "\n",
    "        data['AgeBin'] = pd.cut(data['Age'].astype(int), 5)\n",
    "\n",
    "        drop_strategy = {'Age': 1,  # 1 indicate axis 1(column)\n",
    "                         'Name': 1,\n",
    "                         'Fare': 1}\n",
    "        data = self.drop(data, drop_strategy)\n",
    "\n",
    "        return data\n",
    "\n",
    "    def _base_feature_engineering(self, data):\n",
    "        data['FamilySize'] = data['SibSp'] + data['Parch'] + 1\n",
    "\n",
    "        data['IsAlone'] = 1\n",
    "        data.loc[(data['FamilySize'] > 1), 'IsAlone'] = 0\n",
    "\n",
    "        data['Title'] = data['Name'].str.split(\", \", expand=True)[\n",
    "            1].str.split('.', expand=True)[0]\n",
    "        min_lengtht = 10\n",
    "        title_names = (data['Title'].value_counts() < min_lengtht)\n",
    "        data['Title'] = data['Title'].apply(\n",
    "            lambda x: 'Misc' if title_names.loc[x] == True else x)\n",
    "\n",
    "        return data\n",
    "\n",
    "    def _label_encoder(self, data):\n",
    "        labelEncoder = LabelEncoder()\n",
    "        for column in data.columns.values:\n",
    "            if 'int64' == data[column].dtype or 'float64' == data[column].dtype or 'int64' == data[column].dtype:\n",
    "                continue\n",
    "            labelEncoder.fit(data[column])\n",
    "            data[column] = labelEncoder.transform(data[column])\n",
    "        return data\n",
    "\n",
    "    def _get_dummies(self, data, prefered_columns=None):\n",
    "\n",
    "        if prefered_columns is None:\n",
    "            columns = data.columns.values\n",
    "            non_dummies = None\n",
    "        else:\n",
    "            non_dummies = [\n",
    "                col for col in data.columns.values if col not in prefered_columns]\n",
    "\n",
    "            columns = prefered_columns\n",
    "\n",
    "        dummies_data = [pd.get_dummies(data[col], prefix=col)\n",
    "                        for col in columns]\n",
    "\n",
    "        if non_dummies is not None:\n",
    "            for non_dummy in non_dummies:\n",
    "                dummies_data.append(data[non_dummy])\n",
    "\n",
    "        return pd.concat(dummies_data, axis=1)\n"
   ]
  },
  {
   "cell_type": "markdown",
   "metadata": {},
   "source": [
    "#### 'PreprocessStrategy' class\n"
   ]
  },
  {
   "cell_type": "code",
   "execution_count": 7,
   "metadata": {},
   "outputs": [],
   "source": [
    "class PreprocessStrategy():\n",
    "    \"\"\"\n",
    "    Preprocess strategies defined and exected in this class\n",
    "    \"\"\"\n",
    "\n",
    "    def __init__(self):\n",
    "        self.data = None\n",
    "        self._preprocessor = Preprocess()\n",
    "\n",
    "    def strategy(self, data, strategy_type=\"strategy1\"):\n",
    "        self.data = data\n",
    "        if strategy_type == 'strategy1':\n",
    "            self._strategy1()\n",
    "        elif strategy_type == 'strategy2':\n",
    "            self._strategy2()\n",
    "\n",
    "        return self.data\n",
    "\n",
    "    def _base_strategy(self):\n",
    "        drop_strategy = {'PassengerId': 1,  # 1 indicate axis 1(column)\n",
    "                         'Cabin': 1,\n",
    "                         'Ticket': 1}\n",
    "        self.data = self._preprocessor.drop(self.data, drop_strategy)\n",
    "\n",
    "        fill_strategy = {'Age': 'Median',\n",
    "                         'Fare': 'Median',\n",
    "                         'Embarked': 'Mode'}\n",
    "        self.data = self._preprocessor.fillna(self.data, fill_strategy)\n",
    "\n",
    "        self.data = self._preprocessor.feature_engineering(self.data, 1)\n",
    "\n",
    "        self.data = self._preprocessor._label_encoder(self.data)\n",
    "\n",
    "    def _strategy1(self):\n",
    "        self._base_strategy()\n",
    "\n",
    "        self.data = self._preprocessor._get_dummies(self.data,\n",
    "                                                    prefered_columns=['Pclass', 'Sex', 'Parch', 'Embarked', 'Title', 'IsAlone'])\n",
    "\n",
    "    def _strategy2(self):\n",
    "        self._base_strategy()\n",
    "\n",
    "        self.data = self._preprocessor._get_dummies(self.data,\n",
    "                                                    prefered_columns=None)  # None mean that all feature will be dummied\n"
   ]
  },
  {
   "cell_type": "markdown",
   "metadata": {},
   "source": [
    "#### 'GridSearchHelper' class\n"
   ]
  },
  {
   "cell_type": "code",
   "execution_count": 8,
   "metadata": {},
   "outputs": [],
   "source": [
    "import numpy as np\n",
    "from sklearn.tree import DecisionTreeClassifier\n",
    "from sklearn.ensemble import RandomForestClassifier\n",
    "from sklearn.svm import SVC\n",
    "from sklearn.linear_model import LogisticRegression\n",
    "from sklearn.neighbors import KNeighborsClassifier\n",
    "from sklearn.model_selection import GridSearchCV\n",
    "\n",
    "from sklearn.ensemble import VotingClassifier\n",
    "import pandas as pd\n",
    "\n",
    "\n",
    "class GridSearchHelper():\n",
    "    def __init__(self):\n",
    "        print(\"GridSearchHelper Created\")\n",
    "\n",
    "        self.gridSearchCV = None\n",
    "        self.clf_and_params = list()\n",
    "\n",
    "        self._initialize_clf_and_params()\n",
    "\n",
    "    def _initialize_clf_and_params(self):\n",
    "\n",
    "        clf = KNeighborsClassifier()\n",
    "        params = {'n_neighbors': [5, 7, 9, 11, 13, 15],\n",
    "                  'leaf_size': [1, 2, 3, 5],\n",
    "                  'weights': ['uniform', 'distance']\n",
    "                  }\n",
    "        self.clf_and_params.append((clf, params))\n",
    "\n",
    "        clf = LogisticRegression()\n",
    "        params = {'penalty': ['l1', 'l2'],\n",
    "                  'C': np.logspace(0, 4, 10)\n",
    "                  }\n",
    "        self.clf_and_params.append((clf, params))\n",
    "\n",
    "        clf = SVC()\n",
    "        params = [{'C': [1, 10, 100, 1000], 'kernel': ['linear']},\n",
    "                  {'C': [1, 10, 100, 1000], 'gamma': [0.001, 0.0001], 'kernel': ['rbf']}]\n",
    "        self.clf_and_params.append((clf, params))\n",
    "\n",
    "        clf = DecisionTreeClassifier()\n",
    "        params = {'max_features': ['auto', 'sqrt', 'log2'],\n",
    "                  'min_samples_split': [2, 3, 4, 5, 6, 7, 8, 9, 10, 11, 12, 13, 14, 15],\n",
    "                  'min_samples_leaf': [1],\n",
    "                  'random_state': [123]}\n",
    "        # Because of depricating warning for Decision Tree which is not appended.\n",
    "        # But it give high competion accuracy score. You can append when you run the kernel\n",
    "        self.clf_and_params.append((clf, params))\n",
    "\n",
    "        clf = RandomForestClassifier()\n",
    "        params = {'n_estimators': [4, 6, 9],\n",
    "                  'max_features': ['log2', 'sqrt', 'auto'],\n",
    "                  'criterion': ['entropy', 'gini'],\n",
    "                  'max_depth': [2, 3, 5, 10],\n",
    "                  'min_samples_split': [2, 3, 5],\n",
    "                  'min_samples_leaf': [1, 5, 8]\n",
    "                  }\n",
    "        # Because of depricating warning for RandomForestClassifier which is not appended.\n",
    "        # But it give high competion accuracy score. You can append when you run the kernel\n",
    "        self.clf_and_params.append((clf, params))\n",
    "\n",
    "    def fit_predict_save(self, X_train, X_test, y_train, submission_id, strategy_type):\n",
    "        self.X_train = X_train\n",
    "        self.X_test = X_test\n",
    "        self.y_train = y_train\n",
    "        self.submission_id = submission_id\n",
    "        self.strategy_type = strategy_type\n",
    "\n",
    "        clf_and_params = self.get_clf_and_params()\n",
    "        models = []\n",
    "        self.results = {}\n",
    "        for clf, params in clf_and_params:\n",
    "            self.current_clf_name = clf.__class__.__name__\n",
    "            grid_search_clf = GridSearchCV(clf, params, cv=5)\n",
    "            grid_search_clf.fit(self.X_train, self.y_train)\n",
    "            self.Y_pred = grid_search_clf.predict(self.X_test)\n",
    "            clf_train_acc = round(grid_search_clf.score(\n",
    "                self.X_train, self.y_train) * 100, 2)\n",
    "            print(self.current_clf_name,\n",
    "                  \" trained and used for prediction on test data...\")\n",
    "            self.results[self.current_clf_name] = clf_train_acc\n",
    "            # for ensemble\n",
    "            models.append(clf)\n",
    "\n",
    "            self.save_result()\n",
    "            print()\n",
    "\n",
    "        \"\"\"\n",
    "        voting_clf=VotingClassifier(models)\n",
    "        voting_clf.fit(self.X_train, self.y_train)\n",
    "        self.Y_pred=voting_clf.predict(self.X_test)\n",
    "        self.current_clf_name = clf.__class__.__name__\n",
    "        clf_train_acc = round(voting_clf.score(self.X_train, self.y_train) * 100, 2)\n",
    "        print(self.current_clf_name, \" train accuracy:\", clf_train_acc)\n",
    "        self.save_result()\n",
    "        \"\"\"\n",
    "\n",
    "    def show_result(self):\n",
    "        for clf_name, train_acc in self.results.items():\n",
    "            print(\"{} train accuracy is {:.3f}\".format(clf_name, train_acc))\n",
    "\n",
    "    def save_result(self):\n",
    "        Submission = pd.DataFrame({'PassengerId': self.submission_id,\n",
    "                                   'Survived': self.Y_pred})\n",
    "        file_name = \"{}_{}.csv\".format(\n",
    "            self.strategy_type, self.current_clf_name.lower())\n",
    "        Submission.to_csv(file_name, index=False)\n",
    "\n",
    "        print(\"Submission saved file name: \", file_name)\n",
    "\n",
    "    def get_clf_and_params(self):\n",
    "\n",
    "        return self.clf_and_params\n",
    "\n",
    "    def add(self, clf, params):\n",
    "        self.clf_and_params.append((clf, params))\n"
   ]
  },
  {
   "cell_type": "markdown",
   "metadata": {},
   "source": [
    "#### Visualizer class\n"
   ]
  },
  {
   "cell_type": "code",
   "execution_count": 9,
   "metadata": {},
   "outputs": [
    {
     "name": "stdout",
     "output_type": "stream",
     "text": [
      "Requirement already satisfied: yellowbrick in c:\\users\\admin\\appdata\\local\\programs\\python\\python310\\lib\\site-packages (1.5)\n",
      "Requirement already satisfied: matplotlib!=3.0.0,>=2.0.2 in c:\\users\\admin\\appdata\\local\\programs\\python\\python310\\lib\\site-packages (from yellowbrick) (3.10.0)\n",
      "Requirement already satisfied: scipy>=1.0.0 in c:\\users\\admin\\appdata\\local\\programs\\python\\python310\\lib\\site-packages (from yellowbrick) (1.14.1)\n",
      "Requirement already satisfied: scikit-learn>=1.0.0 in c:\\users\\admin\\appdata\\local\\programs\\python\\python310\\lib\\site-packages (from yellowbrick) (1.6.0)\n",
      "Requirement already satisfied: numpy>=1.16.0 in c:\\users\\admin\\appdata\\local\\programs\\python\\python310\\lib\\site-packages (from yellowbrick) (2.2.1)\n",
      "Requirement already satisfied: cycler>=0.10.0 in c:\\users\\admin\\appdata\\local\\programs\\python\\python310\\lib\\site-packages (from yellowbrick) (0.12.1)\n",
      "Requirement already satisfied: contourpy>=1.0.1 in c:\\users\\admin\\appdata\\local\\programs\\python\\python310\\lib\\site-packages (from matplotlib!=3.0.0,>=2.0.2->yellowbrick) (1.3.1)\n",
      "Requirement already satisfied: fonttools>=4.22.0 in c:\\users\\admin\\appdata\\local\\programs\\python\\python310\\lib\\site-packages (from matplotlib!=3.0.0,>=2.0.2->yellowbrick) (4.55.3)\n",
      "Requirement already satisfied: kiwisolver>=1.3.1 in c:\\users\\admin\\appdata\\local\\programs\\python\\python310\\lib\\site-packages (from matplotlib!=3.0.0,>=2.0.2->yellowbrick) (1.4.8)\n",
      "Requirement already satisfied: packaging>=20.0 in c:\\users\\admin\\appdata\\roaming\\python\\python310\\site-packages (from matplotlib!=3.0.0,>=2.0.2->yellowbrick) (24.2)\n",
      "Requirement already satisfied: pillow>=8 in c:\\users\\admin\\appdata\\local\\programs\\python\\python310\\lib\\site-packages (from matplotlib!=3.0.0,>=2.0.2->yellowbrick) (11.0.0)\n",
      "Requirement already satisfied: pyparsing>=2.3.1 in c:\\users\\admin\\appdata\\local\\programs\\python\\python310\\lib\\site-packages (from matplotlib!=3.0.0,>=2.0.2->yellowbrick) (3.2.0)\n",
      "Requirement already satisfied: python-dateutil>=2.7 in c:\\users\\admin\\appdata\\roaming\\python\\python310\\site-packages (from matplotlib!=3.0.0,>=2.0.2->yellowbrick) (2.9.0.post0)\n",
      "Requirement already satisfied: joblib>=1.2.0 in c:\\users\\admin\\appdata\\local\\programs\\python\\python310\\lib\\site-packages (from scikit-learn>=1.0.0->yellowbrick) (1.4.2)\n",
      "Requirement already satisfied: threadpoolctl>=3.1.0 in c:\\users\\admin\\appdata\\local\\programs\\python\\python310\\lib\\site-packages (from scikit-learn>=1.0.0->yellowbrick) (3.5.0)\n",
      "Requirement already satisfied: six>=1.5 in c:\\users\\admin\\appdata\\roaming\\python\\python310\\site-packages (from python-dateutil>=2.7->matplotlib!=3.0.0,>=2.0.2->yellowbrick) (1.17.0)\n"
     ]
    }
   ],
   "source": [
    "!pip install yellowbrick\n"
   ]
  },
  {
   "cell_type": "code",
   "execution_count": 10,
   "metadata": {},
   "outputs": [],
   "source": [
    "from yellowbrick.features import RadViz\n",
    "\n",
    "\n",
    "class Visualizer:\n",
    "\n",
    "    def __init__(self):\n",
    "        print(\"Visualizer object created!\")\n",
    "\n",
    "    def RandianViz(self, X, y, number_of_features):\n",
    "        if number_of_features is None:\n",
    "            features = X.columns.values\n",
    "        else:\n",
    "            features = X.columns.values[:number_of_features]\n",
    "\n",
    "        fig, ax = plt.subplots(1, figsize=(15, 12))\n",
    "        radViz = RadViz(\n",
    "            classes=['survived', 'not survived'], features=features)\n",
    "\n",
    "        radViz.fit(X, y)\n",
    "        radViz.transform(X)\n",
    "        radViz.poof()\n"
   ]
  },
  {
   "cell_type": "markdown",
   "metadata": {},
   "source": [
    "'ObjectOrientedTitanic' class\n"
   ]
  },
  {
   "cell_type": "code",
   "execution_count": 11,
   "metadata": {},
   "outputs": [],
   "source": [
    "class ObjectOrientedTitanic():\n",
    "\n",
    "    def __init__(self, train, test):\n",
    "        \"\"\"\n",
    "\n",
    "        :param train: train data will be used for modelling\n",
    "        :param test:  test data will be used for model evaluation\n",
    "        \"\"\"\n",
    "        print(\"ObjectOrientedTitanic object created\")\n",
    "        # properties\n",
    "        self.testPassengerID = test['PassengerId']\n",
    "        self.number_of_train = train.shape[0]\n",
    "\n",
    "        self.y_train = train['Survived']\n",
    "        self.train = train.drop('Survived', axis=1)\n",
    "        self.test = test\n",
    "\n",
    "        # concat train and test data\n",
    "        self.all_data = self._get_all_data()\n",
    "\n",
    "        # Create instance of objects\n",
    "        self._info = Information()\n",
    "        self.preprocessStrategy = PreprocessStrategy()\n",
    "        self.visualizer = Visualizer()\n",
    "        self.gridSearchHelper = GridSearchHelper()\n",
    "\n",
    "    def _get_all_data(self):\n",
    "        return pd.concat([self.train, self.test])\n",
    "\n",
    "    def information(self):\n",
    "        \"\"\"\n",
    "        using _info object gives summary about dataset\n",
    "        :return:\n",
    "        \"\"\"\n",
    "        self._info.info(self.all_data)\n",
    "\n",
    "    def preprocessing(self, strategy_type):\n",
    "        \"\"\"\n",
    "        Process data depend upon strategy type\n",
    "        :param strategy_type: Preprocessing strategy type\n",
    "        :return:\n",
    "        \"\"\"\n",
    "        self.strategy_type = strategy_type\n",
    "\n",
    "        self.all_data = self.preprocessStrategy.strategy(\n",
    "            self._get_all_data(), strategy_type)\n",
    "\n",
    "    def visualize(self, visualizer_type, number_of_features=None):\n",
    "\n",
    "        self._get_train_and_test()\n",
    "\n",
    "        if visualizer_type == \"RadViz\":\n",
    "            self.visualizer.RandianViz(X=self.X_train,\n",
    "                                       y=self.y_train,\n",
    "                                       number_of_features=number_of_features)\n",
    "\n",
    "    def machine_learning(self):\n",
    "        \"\"\"\n",
    "        Get self.X_train, self.X_test and self.y_train\n",
    "        Find best parameters for classifiers registered in gridSearchHelper\n",
    "        :return:\n",
    "        \"\"\"\n",
    "        self._get_train_and_test()\n",
    "\n",
    "        self.gridSearchHelper.fit_predict_save(self.X_train,\n",
    "                                               self.X_test,\n",
    "                                               self.y_train,\n",
    "                                               self.testPassengerID,\n",
    "                                               self.strategy_type)\n",
    "\n",
    "    def show_result(self):\n",
    "        self.gridSearchHelper.show_result()\n",
    "\n",
    "    def _get_train_and_test(self):\n",
    "        \"\"\"\n",
    "        Split data into train and test datasets\n",
    "        :return:\n",
    "        \"\"\"\n",
    "        self.X_train = self.all_data[:self.number_of_train]\n",
    "        self.X_test = self.all_data[self.number_of_train:]\n"
   ]
  },
  {
   "cell_type": "markdown",
   "metadata": {},
   "source": [
    "Create ObjectOrientedTitanic object\n"
   ]
  },
  {
   "cell_type": "code",
   "execution_count": 12,
   "metadata": {},
   "outputs": [
    {
     "data": {
      "text/plain": [
       "'d:\\\\Learn\\\\Binh\\\\MSE\\\\HomeWork\\\\Python\\\\Assignment\\\\Assignment2\\\\Work\\\\6B'"
      ]
     },
     "execution_count": 12,
     "metadata": {},
     "output_type": "execute_result"
    }
   ],
   "source": [
    "%pwd\n"
   ]
  },
  {
   "cell_type": "code",
   "execution_count": 13,
   "metadata": {},
   "outputs": [
    {
     "name": "stdout",
     "output_type": "stream",
     "text": [
      "ObjectOrientedTitanic object created\n",
      "Information object created\n",
      "Preprocess object created\n",
      "Visualizer object created!\n",
      "GridSearchHelper Created\n"
     ]
    }
   ],
   "source": [
    "objectOrientedTitanic = ObjectOrientedTitanic(train, test)\n"
   ]
  },
  {
   "cell_type": "code",
   "execution_count": 14,
   "metadata": {},
   "outputs": [
    {
     "data": {
      "text/html": [
       "<div>\n",
       "<style scoped>\n",
       "    .dataframe tbody tr th:only-of-type {\n",
       "        vertical-align: middle;\n",
       "    }\n",
       "\n",
       "    .dataframe tbody tr th {\n",
       "        vertical-align: top;\n",
       "    }\n",
       "\n",
       "    .dataframe thead th {\n",
       "        text-align: right;\n",
       "    }\n",
       "</style>\n",
       "<table border=\"1\" class=\"dataframe\">\n",
       "  <thead>\n",
       "    <tr style=\"text-align: right;\">\n",
       "      <th></th>\n",
       "      <th>PassengerId</th>\n",
       "      <th>Survived</th>\n",
       "      <th>Pclass</th>\n",
       "      <th>Name</th>\n",
       "      <th>Sex</th>\n",
       "      <th>Age</th>\n",
       "      <th>SibSp</th>\n",
       "      <th>Parch</th>\n",
       "      <th>Ticket</th>\n",
       "      <th>Fare</th>\n",
       "      <th>Cabin</th>\n",
       "      <th>Embarked</th>\n",
       "    </tr>\n",
       "  </thead>\n",
       "  <tbody>\n",
       "    <tr>\n",
       "      <th>0</th>\n",
       "      <td>1</td>\n",
       "      <td>0</td>\n",
       "      <td>3</td>\n",
       "      <td>Braund, Mr. Owen Harris</td>\n",
       "      <td>male</td>\n",
       "      <td>22.0</td>\n",
       "      <td>1</td>\n",
       "      <td>0</td>\n",
       "      <td>A/5 21171</td>\n",
       "      <td>7.2500</td>\n",
       "      <td>NaN</td>\n",
       "      <td>S</td>\n",
       "    </tr>\n",
       "    <tr>\n",
       "      <th>1</th>\n",
       "      <td>2</td>\n",
       "      <td>1</td>\n",
       "      <td>1</td>\n",
       "      <td>Cumings, Mrs. John Bradley (Florence Briggs Th...</td>\n",
       "      <td>female</td>\n",
       "      <td>38.0</td>\n",
       "      <td>1</td>\n",
       "      <td>0</td>\n",
       "      <td>PC 17599</td>\n",
       "      <td>71.2833</td>\n",
       "      <td>C85</td>\n",
       "      <td>C</td>\n",
       "    </tr>\n",
       "    <tr>\n",
       "      <th>2</th>\n",
       "      <td>3</td>\n",
       "      <td>1</td>\n",
       "      <td>3</td>\n",
       "      <td>Heikkinen, Miss. Laina</td>\n",
       "      <td>female</td>\n",
       "      <td>26.0</td>\n",
       "      <td>0</td>\n",
       "      <td>0</td>\n",
       "      <td>STON/O2. 3101282</td>\n",
       "      <td>7.9250</td>\n",
       "      <td>NaN</td>\n",
       "      <td>S</td>\n",
       "    </tr>\n",
       "    <tr>\n",
       "      <th>3</th>\n",
       "      <td>4</td>\n",
       "      <td>1</td>\n",
       "      <td>1</td>\n",
       "      <td>Futrelle, Mrs. Jacques Heath (Lily May Peel)</td>\n",
       "      <td>female</td>\n",
       "      <td>35.0</td>\n",
       "      <td>1</td>\n",
       "      <td>0</td>\n",
       "      <td>113803</td>\n",
       "      <td>53.1000</td>\n",
       "      <td>C123</td>\n",
       "      <td>S</td>\n",
       "    </tr>\n",
       "    <tr>\n",
       "      <th>4</th>\n",
       "      <td>5</td>\n",
       "      <td>0</td>\n",
       "      <td>3</td>\n",
       "      <td>Allen, Mr. William Henry</td>\n",
       "      <td>male</td>\n",
       "      <td>35.0</td>\n",
       "      <td>0</td>\n",
       "      <td>0</td>\n",
       "      <td>373450</td>\n",
       "      <td>8.0500</td>\n",
       "      <td>NaN</td>\n",
       "      <td>S</td>\n",
       "    </tr>\n",
       "  </tbody>\n",
       "</table>\n",
       "</div>"
      ],
      "text/plain": [
       "   PassengerId  Survived  Pclass  \\\n",
       "0            1         0       3   \n",
       "1            2         1       1   \n",
       "2            3         1       3   \n",
       "3            4         1       1   \n",
       "4            5         0       3   \n",
       "\n",
       "                                                Name     Sex   Age  SibSp  \\\n",
       "0                            Braund, Mr. Owen Harris    male  22.0      1   \n",
       "1  Cumings, Mrs. John Bradley (Florence Briggs Th...  female  38.0      1   \n",
       "2                             Heikkinen, Miss. Laina  female  26.0      0   \n",
       "3       Futrelle, Mrs. Jacques Heath (Lily May Peel)  female  35.0      1   \n",
       "4                           Allen, Mr. William Henry    male  35.0      0   \n",
       "\n",
       "   Parch            Ticket     Fare Cabin Embarked  \n",
       "0      0         A/5 21171   7.2500   NaN        S  \n",
       "1      0          PC 17599  71.2833   C85        C  \n",
       "2      0  STON/O2. 3101282   7.9250   NaN        S  \n",
       "3      0            113803  53.1000  C123        S  \n",
       "4      0            373450   8.0500   NaN        S  "
      ]
     },
     "metadata": {},
     "output_type": "display_data"
    }
   ],
   "source": [
    "display(train.head())\n"
   ]
  },
  {
   "cell_type": "markdown",
   "metadata": {},
   "source": [
    "Display Information in 'R Style'\n"
   ]
  },
  {
   "cell_type": "code",
   "execution_count": 15,
   "metadata": {},
   "outputs": [
    {
     "name": "stdout",
     "output_type": "stream",
     "text": [
      "==================================================\n",
      "FEATURE NAME     DATA FORMAT      # OF MISSING VALUES       SAMPLES         \n",
      "Cabin              object              1014                nan,C85,nan,C123,nan,nan,E46,nan,nan,nan,\n",
      "Age                float64             263                 22.0,38.0,26.0,35.0,35.0,nan,54.0,2.0,27.0,14.0,\n",
      "Embarked           object              2                   S,C,S,S,S,Q,S,S,S,C,\n",
      "Fare               float64             1                   7.25,71.2833,7.925,53.1,8.05,8.4583,51.8625,21.075,11.1333,30.0708,\n",
      "Name               object              0                   Braund, Mr. Owen Harris,Cumings, Mrs. John Bradley (Florence Briggs Thayer),Heikkinen, Miss. Laina,Futrelle, Mrs. Jacques Heath (Lily May Peel),Allen, Mr. William Henry,Moran, Mr. James,McCarthy, Mr. Timothy J,Palsson, Master. Gosta Leonard,Johnson, Mrs. Oscar W (Elisabeth Vilhelmina Berg),Nasser, Mrs. Nicholas (Adele Achem),\n",
      "PassengerId        int64               0                   1,2,3,4,5,6,7,8,9,10,\n",
      "Pclass             int64               0                   3,1,3,1,3,3,1,3,3,2,\n",
      "Parch              int64               0                   0,0,0,0,0,0,0,1,2,0,\n",
      "SibSp              int64               0                   1,1,0,1,0,0,0,3,0,1,\n",
      "Sex                object              0                   male,female,female,female,male,male,male,male,female,female,\n",
      "Ticket             object              0                   A/5 21171,PC 17599,STON/O2. 3101282,113803,373450,330877,17463,349909,347742,237736,\n",
      "==================================================\n"
     ]
    }
   ],
   "source": [
    "objectOrientedTitanic.information()\n"
   ]
  },
  {
   "cell_type": "markdown",
   "metadata": {},
   "source": [
    "Define preprocess strategy\n"
   ]
  },
  {
   "cell_type": "code",
   "execution_count": 16,
   "metadata": {},
   "outputs": [],
   "source": [
    "# There are currently two strategy type: strategy1, strategy2.\n",
    "# We can select any of two\n",
    "objectOrientedTitanic.preprocessing(strategy_type='strategy1')\n"
   ]
  },
  {
   "cell_type": "code",
   "execution_count": 17,
   "metadata": {},
   "outputs": [
    {
     "name": "stdout",
     "output_type": "stream",
     "text": [
      "==================================================\n",
      "FEATURE NAME     DATA FORMAT      # OF MISSING VALUES       SAMPLES         \n",
      "Pclass_1           bool                0                   False,True,False,True,False,False,True,False,False,False,\n",
      "Pclass_2           bool                0                   False,False,False,False,False,False,False,False,False,True,\n",
      "Pclass_3           bool                0                   True,False,True,False,True,True,False,True,True,False,\n",
      "Sex_0              bool                0                   False,True,True,True,False,False,False,False,True,True,\n",
      "Sex_1              bool                0                   True,False,False,False,True,True,True,True,False,False,\n",
      "Parch_0            bool                0                   True,True,True,True,True,True,True,False,False,True,\n",
      "Parch_1            bool                0                   False,False,False,False,False,False,False,True,False,False,\n",
      "Parch_2            bool                0                   False,False,False,False,False,False,False,False,True,False,\n",
      "Parch_3            bool                0                   False,False,False,False,False,False,False,False,False,False,\n",
      "Parch_4            bool                0                   False,False,False,False,False,False,False,False,False,False,\n",
      "Parch_5            bool                0                   False,False,False,False,False,False,False,False,False,False,\n",
      "Parch_6            bool                0                   False,False,False,False,False,False,False,False,False,False,\n",
      "Parch_9            bool                0                   False,False,False,False,False,False,False,False,False,False,\n",
      "Embarked_0         bool                0                   False,True,False,False,False,False,False,False,False,True,\n",
      "Embarked_1         bool                0                   False,False,False,False,False,True,False,False,False,False,\n",
      "Embarked_2         bool                0                   True,False,True,True,True,False,True,True,True,False,\n",
      "Title_0            bool                0                   False,False,False,False,False,False,False,True,False,False,\n",
      "Title_1            bool                0                   False,False,False,False,False,False,False,False,False,False,\n",
      "Title_2            bool                0                   False,False,True,False,False,False,False,False,False,False,\n",
      "Title_3            bool                0                   True,False,False,False,True,True,True,False,False,False,\n",
      "Title_4            bool                0                   False,True,False,True,False,False,False,False,True,True,\n",
      "IsAlone_0          bool                0                   True,True,False,True,False,False,False,True,True,True,\n",
      "IsAlone_1          bool                0                   False,False,True,False,True,True,True,False,False,False,\n",
      "SibSp              int64               0                   1,1,0,1,0,0,0,3,0,1,\n",
      "FamilySize         int64               0                   2,2,1,2,1,1,1,5,3,2,\n",
      "FareBin            int64               0                   0,3,1,3,1,1,3,2,1,2,\n",
      "AgeBin             int64               0                   1,2,1,2,2,1,3,0,1,0,\n",
      "==================================================\n"
     ]
    }
   ],
   "source": [
    "objectOrientedTitanic.information()\n"
   ]
  },
  {
   "cell_type": "markdown",
   "metadata": {},
   "source": [
    "Get GridSearchCV Results\n"
   ]
  },
  {
   "cell_type": "code",
   "execution_count": 18,
   "metadata": {},
   "outputs": [
    {
     "name": "stdout",
     "output_type": "stream",
     "text": [
      "KNeighborsClassifier  trained and used for prediction on test data...\n",
      "Submission saved file name:  strategy1_kneighborsclassifier.csv\n",
      "\n",
      "LogisticRegression  trained and used for prediction on test data...\n",
      "Submission saved file name:  strategy1_logisticregression.csv\n",
      "\n",
      "SVC  trained and used for prediction on test data...\n",
      "Submission saved file name:  strategy1_svc.csv\n",
      "\n",
      "DecisionTreeClassifier  trained and used for prediction on test data...\n",
      "Submission saved file name:  strategy1_decisiontreeclassifier.csv\n",
      "\n",
      "RandomForestClassifier  trained and used for prediction on test data...\n",
      "Submission saved file name:  strategy1_randomforestclassifier.csv\n",
      "\n"
     ]
    }
   ],
   "source": [
    "# Run all machine learning algorithms defined in object\n",
    "objectOrientedTitanic.machine_learning()\n"
   ]
  },
  {
   "cell_type": "code",
   "execution_count": 19,
   "metadata": {},
   "outputs": [
    {
     "name": "stdout",
     "output_type": "stream",
     "text": [
      "KNeighborsClassifier train accuracy is 85.860\n",
      "LogisticRegression train accuracy is 82.940\n",
      "SVC train accuracy is 83.160\n",
      "DecisionTreeClassifier train accuracy is 85.520\n",
      "RandomForestClassifier train accuracy is 83.280\n"
     ]
    }
   ],
   "source": [
    "objectOrientedTitanic.show_result()\n"
   ]
  }
 ],
 "metadata": {
  "kernelspec": {
   "display_name": "Python 3",
   "language": "python",
   "name": "python3"
  },
  "language_info": {
   "codemirror_mode": {
    "name": "ipython",
    "version": 3
   },
   "file_extension": ".py",
   "mimetype": "text/x-python",
   "name": "python",
   "nbconvert_exporter": "python",
   "pygments_lexer": "ipython3",
   "version": "3.10.11"
  }
 },
 "nbformat": 4,
 "nbformat_minor": 2
}
