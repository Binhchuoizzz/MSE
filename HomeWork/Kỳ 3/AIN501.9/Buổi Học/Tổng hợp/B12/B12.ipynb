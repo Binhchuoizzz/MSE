{
 "cells": [
  {
   "cell_type": "code",
   "execution_count": null,
   "id": "37f935f1",
   "metadata": {},
   "outputs": [],
   "source": []
  },
  {
   "cell_type": "markdown",
   "id": "af532706",
   "metadata": {},
   "source": [
    "Code mẫu đơn giản cho từng bước — có thể chạy bằng NumPy (chạy từng block trong Python/Notebook)\n",
    "\n",
    "Dưới đây là một bộ code ngắn, thực dụng, mỗi phần kèm ví dụ nhỏ. Chạy tuần tự để hiểu luồng: toán cơ bản → affine → activation → forward → cost → backward → update → batching → training đơn giản. Mình viết theo kiểu column-vector convention:\n",
    "\n",
    "X: shape (n_x, m) (m mẫu),\n",
    "\n",
    "Y: shape (n_y, m) (one-hot cho multiclass hoặc (1,m) cho binary),\n",
    "\n",
    "W: (n_out, n_in), b: (n_out,1), Z: (n_out,m).\n"
   ]
  },
  {
   "cell_type": "markdown",
   "id": "ffc2cbf6",
   "metadata": {},
   "source": [
    "0. Imports chung\n"
   ]
  },
  {
   "cell_type": "code",
   "execution_count": null,
   "id": "03cbdb62",
   "metadata": {},
   "outputs": [],
   "source": [
    "import numpy as np\n",
    "np.random.seed(1)\n"
   ]
  },
  {
   "cell_type": "markdown",
   "id": "80ba0d08",
   "metadata": {},
   "source": [
    "1. Toán nền: dot product, shapes (ví dụ nhanh)\n"
   ]
  },
  {
   "cell_type": "code",
   "execution_count": null,
   "id": "d0de04ee",
   "metadata": {},
   "outputs": [
    {
     "name": "stdout",
     "output_type": "stream",
     "text": [
      "dot: 32\n",
      "A.dot(x) = [[17]\n",
      " [39]]\n"
     ]
    }
   ],
   "source": [
    "# Ví dụ trực quan\n",
    "a = np.array([1, 2, 3])          # shape (3,)\n",
    "b = np.array([4, 5, 6])\n",
    "print(\"dot:\", np.dot(a, b))     # 1*4 + 2*5 + 3*6 = 32\n",
    "\n",
    "# Với ma trận\n",
    "A = np.array([[1, 2], [3, 4]])    # (2,2)\n",
    "x = np.array([[5], [6]])        # (2,1)\n",
    "print(\"A.dot(x) =\", A.dot(x))  # shape (2,1)\n"
   ]
  },
  {
   "cell_type": "markdown",
   "id": "3d3f6af8",
   "metadata": {},
   "source": [
    "2. Per-neuron / affine: Z = W X + b\n"
   ]
  },
  {
   "cell_type": "code",
   "execution_count": null,
   "id": "8dda0deb",
   "metadata": {},
   "outputs": [
    {
     "name": "stdout",
     "output_type": "stream",
     "text": [
      "Z shape: (1, 3)\n",
      "[[ 0.5  6.5 -5.5]]\n"
     ]
    }
   ],
   "source": [
    "def affine_forward(W, X, b):\n",
    "    # W: (n_out, n_in), X: (n_in, m), b: (n_out,1)\n",
    "    Z = W.dot(X) + b  # broadcasting b across m columns\n",
    "    cache = (W, X, b)\n",
    "    return Z, cache\n",
    "\n",
    "\n",
    "# ví dụ:\n",
    "W = np.array([[2., -1.]])     # (1,2)\n",
    "X = np.array([[1., 3., -1.], [2., 0., 4.]])  # (2,3)\n",
    "b = np.array([[0.5]])         # (1,1)\n",
    "Z, _ = affine_forward(W, X, b)\n",
    "print(\"Z shape:\", Z.shape)\n",
    "print(Z)\n"
   ]
  },
  {
   "cell_type": "markdown",
   "id": "2e0a97d2",
   "metadata": {},
   "source": [
    "3. Activation functions (forward + cache)\n"
   ]
  },
  {
   "cell_type": "code",
   "execution_count": null,
   "id": "04f7e5c5",
   "metadata": {},
   "outputs": [
    {
     "name": "stdout",
     "output_type": "stream",
     "text": [
      "softmax: [[0.18242552 0.89090318 0.04742587]\n",
      " [0.81757448 0.10909682 0.95257413]]\n"
     ]
    }
   ],
   "source": [
    "def sigmoid(Z):\n",
    "    A = 1 / (1 + np.exp(-Z))\n",
    "    return A, Z\n",
    "\n",
    "\n",
    "def relu(Z):\n",
    "    A = np.maximum(0, Z)\n",
    "    return A, Z\n",
    "\n",
    "\n",
    "def softmax(Z):\n",
    "    # numerically stable softmax per column\n",
    "    Z_shift = Z - np.max(Z, axis=0, keepdims=True)\n",
    "    expZ = np.exp(Z_shift)\n",
    "    A = expZ / np.sum(expZ, axis=0, keepdims=True)\n",
    "    return A, Z\n",
    "\n",
    "\n",
    "# quick test\n",
    "Z_test = np.array([[-1., 2., 0.], [0.5, -0.1, 3.]])\n",
    "print(\"softmax:\", softmax(Z_test)[0])\n"
   ]
  },
  {
   "cell_type": "markdown",
   "id": "552a589d",
   "metadata": {},
   "source": [
    "4. Forward propagation: linear -> activation (vectorized)\n"
   ]
  },
  {
   "cell_type": "code",
   "execution_count": null,
   "id": "a4da8d93",
   "metadata": {},
   "outputs": [
    {
     "name": "stdout",
     "output_type": "stream",
     "text": [
      "A shape: (2, 4)\n"
     ]
    }
   ],
   "source": [
    "def linear_activation_forward(W, X, b, activation):\n",
    "    Z, linear_cache = affine_forward(W, X, b)\n",
    "    if activation == \"relu\":\n",
    "        A, activation_cache = relu(Z)\n",
    "    elif activation == \"sigmoid\":\n",
    "        A, activation_cache = sigmoid(Z)\n",
    "    elif activation == \"softmax\":\n",
    "        A, activation_cache = softmax(Z)\n",
    "    else:\n",
    "        raise ValueError(\"Unknown activation\")\n",
    "    cache = (linear_cache, activation_cache)\n",
    "    return A, cache\n",
    "\n",
    "\n",
    "# single-layer example:\n",
    "W = np.random.randn(2, 3)\n",
    "X = np.random.randn(3, 4)  # 4 samples\n",
    "b = np.zeros((2, 1))\n",
    "A, cache = linear_activation_forward(W, X, b, activation=\"relu\")\n",
    "print(\"A shape:\", A.shape)\n"
   ]
  },
  {
   "cell_type": "markdown",
   "id": "ad6967d6",
   "metadata": {},
   "source": [
    "5. Compute cost (binary CE and multiclass CE)\n"
   ]
  },
  {
   "cell_type": "code",
   "execution_count": null,
   "id": "4d4e2a2e",
   "metadata": {},
   "outputs": [],
   "source": [
    "def compute_cost_binary(AL, Y):\n",
    "    m = Y.shape[1]\n",
    "    eps = 1e-8\n",
    "    cost = -1/m * np.sum(Y * np.log(AL + eps) + (1-Y) * np.log(1-AL + eps))\n",
    "    return np.squeeze(cost)\n",
    "\n",
    "\n",
    "def compute_cost_multiclass(AL, Y):\n",
    "    # AL: (n_y, m) softmax outputs; Y: one-hot (n_y, m)\n",
    "    m = Y.shape[1]\n",
    "    eps = 1e-8\n",
    "    cost = -1/m * np.sum(Y * np.log(AL + eps))\n",
    "    return np.squeeze(cost)\n"
   ]
  },
  {
   "cell_type": "markdown",
   "id": "188f6f96",
   "metadata": {},
   "source": [
    "6. Backprop cơ bản cho 1 layer: linear_backward và activation backward\n"
   ]
  },
  {
   "cell_type": "code",
   "execution_count": null,
   "id": "73cf9609",
   "metadata": {},
   "outputs": [],
   "source": [
    "def relu_backward(dA, cache):\n",
    "    Z = cache\n",
    "    dZ = dA.copy()\n",
    "    dZ[Z <= 0] = 0\n",
    "    return dZ\n",
    "\n",
    "\n",
    "def sigmoid_backward(dA, cache):\n",
    "    Z = cache\n",
    "    s = 1 / (1 + np.exp(-Z))\n",
    "    dZ = dA * s * (1 - s)\n",
    "    return dZ\n",
    "\n",
    "\n",
    "def linear_backward(dZ, cache):\n",
    "    W, X, b = cache\n",
    "    m = X.shape[1]\n",
    "    dW = (1/m) * dZ.dot(X.T)\n",
    "    db = (1/m) * np.sum(dZ, axis=1, keepdims=True)\n",
    "    dA_prev = W.T.dot(dZ)\n",
    "    return dA_prev, dW, db\n",
    "\n",
    "\n",
    "def linear_activation_backward(dA, cache, activation):\n",
    "    linear_cache, activation_cache = cache\n",
    "    if activation == \"relu\":\n",
    "        dZ = relu_backward(dA, activation_cache)\n",
    "    elif activation == \"sigmoid\":\n",
    "        dZ = sigmoid_backward(dA, activation_cache)\n",
    "    elif activation == \"softmax\":\n",
    "        # for softmax + CE, dZ = AL - Y normally (handled at top-level)\n",
    "        dZ = dA\n",
    "    else:\n",
    "        raise ValueError(\"Unknown activation\")\n",
    "    dA_prev, dW, db = linear_backward(dZ, linear_cache)\n",
    "    return dA_prev, dW, db\n"
   ]
  },
  {
   "cell_type": "markdown",
   "id": "52cfa3ed",
   "metadata": {},
   "source": [
    "Chú ý: với softmax + cross-entropy, thường dZ = AL - Y so bạn truyền dA = AL - Y vào linear_activation_backward với activation=\"softmax\" để skip tính đạo hàm softmax.\n"
   ]
  },
  {
   "cell_type": "markdown",
   "id": "0497a335",
   "metadata": {},
   "source": [
    "7. L-layer forward / backward + parameter init\n"
   ]
  },
  {
   "cell_type": "code",
   "execution_count": null,
   "id": "1e77c692",
   "metadata": {},
   "outputs": [],
   "source": [
    "def initialize_parameters_deep(layer_dims, init=\"he\"):\n",
    "    # layer_dims: list [n_x, n_h1, n_h2, ..., n_y]\n",
    "    parameters = {}\n",
    "    L = len(layer_dims) - 1\n",
    "    for l in range(1, L+1):\n",
    "        n_l = layer_dims[l]\n",
    "        n_prev = layer_dims[l-1]\n",
    "        if init == \"he\":\n",
    "            parameters[f\"W{l}\"] = np.random.randn(\n",
    "                n_l, n_prev) * np.sqrt(2. / n_prev)\n",
    "        elif init == \"xavier\":\n",
    "            parameters[f\"W{l}\"] = np.random.randn(\n",
    "                n_l, n_prev) * np.sqrt(1. / n_prev)\n",
    "        else:\n",
    "            parameters[f\"W{l}\"] = np.random.randn(n_l, n_prev) * 0.01\n",
    "        parameters[f\"b{l}\"] = np.zeros((n_l, 1))\n",
    "    return parameters\n",
    "\n",
    "\n",
    "def L_model_forward(X, parameters, hidden_activation=\"relu\", output_activation=\"sigmoid\"):\n",
    "    caches = []\n",
    "    A = X\n",
    "    L = len([k for k in parameters.keys()]) // 2\n",
    "    for l in range(1, L):\n",
    "        W = parameters[f\"W{l}\"]\n",
    "        b = parameters[f\"b{l}\"]\n",
    "        A, cache = linear_activation_forward(\n",
    "            W, A, b, activation=hidden_activation)\n",
    "        caches.append(cache)\n",
    "    # output layer\n",
    "    W = parameters[f\"W{L}\"]\n",
    "    b = parameters[f\"b{L}\"]\n",
    "    A, cache = linear_activation_forward(W, A, b, activation=output_activation)\n",
    "    caches.append(cache)\n",
    "    return A, caches\n",
    "\n",
    "\n",
    "def L_model_backward(AL, Y, caches, output_activation=\"sigmoid\", hidden_activation=\"relu\"):\n",
    "    grads = {}\n",
    "    L = len(caches)\n",
    "    m = AL.shape[1]\n",
    "    # output layer dA -> dZ for softmax/sigmoid:\n",
    "    if output_activation == \"sigmoid\":\n",
    "        dAL = - (np.divide(Y, AL + 1e-8) - np.divide(1 - Y, 1 - AL + 1e-8))\n",
    "        dA_prev, dW, db = linear_activation_backward(\n",
    "            dAL, caches[-1], activation=\"sigmoid\")\n",
    "    elif output_activation == \"softmax\":\n",
    "        # when Y is one-hot, dZ = AL - Y\n",
    "        dZL = AL - Y\n",
    "        dA_prev, dW, db = linear_activation_backward(\n",
    "            dZL, caches[-1], activation=\"softmax\")\n",
    "    else:\n",
    "        raise ValueError(\"Unknown output activation\")\n",
    "\n",
    "    grads[f\"dW{L}\"] = dW\n",
    "    grads[f\"db{L}\"] = db\n",
    "    dA_prev_current = dA_prev\n",
    "\n",
    "    for l in reversed(range(L-1)):\n",
    "        cache = caches[l]\n",
    "        dA_prev_current, dW, db = linear_activation_backward(\n",
    "            dA_prev_current, cache, activation=hidden_activation)\n",
    "        grads[f\"dW{l+1}\"] = dW\n",
    "        grads[f\"db{l+1}\"] = db\n",
    "\n",
    "    return grads\n"
   ]
  },
  {
   "cell_type": "markdown",
   "id": "cac74c22",
   "metadata": {},
   "source": [
    "8. Update parameters (SGD)\n"
   ]
  },
  {
   "cell_type": "code",
   "execution_count": null,
   "id": "04d19f19",
   "metadata": {},
   "outputs": [],
   "source": [
    "def update_parameters(parameters, grads, learning_rate):\n",
    "    L = len(parameters) // 2\n",
    "    for l in range(1, L+1):\n",
    "        parameters[f\"W{l}\"] -= learning_rate * grads[f\"dW{l}\"]\n",
    "        parameters[f\"b{l}\"] -= learning_rate * grads[f\"db{l}\"]\n",
    "    return parameters\n"
   ]
  },
  {
   "cell_type": "markdown",
   "id": "71c64906",
   "metadata": {},
   "source": [
    "9. Mini-batches (shuffling)\n"
   ]
  },
  {
   "cell_type": "code",
   "execution_count": null,
   "id": "31fe276e",
   "metadata": {},
   "outputs": [],
   "source": [
    "def random_mini_batches(X, Y, mini_batch_size=64, seed=0):\n",
    "    np.random.seed(seed)\n",
    "    m = X.shape[1]\n",
    "    permutation = list(np.random.permutation(m))\n",
    "    shuffled_X = X[:, permutation]\n",
    "    shuffled_Y = Y[:, permutation]\n",
    "    mini_batches = []\n",
    "    num_complete_minibatches = m // mini_batch_size\n",
    "    for k in range(num_complete_minibatches):\n",
    "        mini_batch_X = shuffled_X[:, k*mini_batch_size:(k+1)*mini_batch_size]\n",
    "        mini_batch_Y = shuffled_Y[:, k*mini_batch_size:(k+1)*mini_batch_size]\n",
    "        mini_batches.append((mini_batch_X, mini_batch_Y))\n",
    "    if m % mini_batch_size != 0:\n",
    "        mini_batch_X = shuffled_X[:, num_complete_minibatches*mini_batch_size:]\n",
    "        mini_batch_Y = shuffled_Y[:, num_complete_minibatches*mini_batch_size:]\n",
    "        mini_batches.append((mini_batch_X, mini_batch_Y))\n",
    "    return mini_batches\n"
   ]
  },
  {
   "cell_type": "markdown",
   "id": "c533e4e2",
   "metadata": {},
   "source": [
    "10. Ví dụ training đơn giản (1 hidden layer, binary)\n"
   ]
  },
  {
   "cell_type": "code",
   "execution_count": null,
   "id": "be267f67",
   "metadata": {},
   "outputs": [
    {
     "name": "stdout",
     "output_type": "stream",
     "text": [
      "epoch 0 cost 0.8468857475912376\n",
      "epoch 500 cost 0.005962645986229729\n",
      "epoch 1000 cost 0.0027453652552887403\n",
      "epoch 1500 cost 0.0017676212594546718\n",
      "epoch 2000 cost 0.0012992408101974366\n",
      "epoch 2500 cost 0.001024794972379731\n",
      "epoch 3000 cost 0.0008452701901592969\n",
      "epoch 3500 cost 0.0007188305390430092\n",
      "epoch 4000 cost 0.0006249696103741877\n",
      "epoch 4500 cost 0.0005526256012330224\n",
      "preds: [[0 1 1 1]]\n"
     ]
    },
    {
     "data": {
      "image/png": "[encoded data removed]",
      "text/plain": [
       "<Figure size 640x480 with 1 Axes>"
      ]
     },
     "metadata": {},
     "output_type": "display_data"
    }
   ],
   "source": [
    "import matplotlib.pyplot as plt\n",
    "\n",
    "# toy dataset: logical OR-ish\n",
    "X = np.array([[0., 0., 1., 1.], [0., 1., 0., 1.]])   # (2,4)\n",
    "Y = np.array([[0, 1, 1, 1]])                     # (1,4)\n",
    "\n",
    "layer_dims = [2, 4, 1]  # input 2 -> 4 hidden -> 1 output\n",
    "params = initialize_parameters_deep(layer_dims, init=\"he\")\n",
    "lr = 0.5\n",
    "costs = []\n",
    "\n",
    "for epoch in range(5000):\n",
    "    AL, caches = L_model_forward(\n",
    "        X, params, hidden_activation=\"relu\", output_activation=\"sigmoid\")\n",
    "    cost = compute_cost_binary(AL, Y)\n",
    "    grads = L_model_backward(\n",
    "        AL, Y, caches, output_activation=\"sigmoid\", hidden_activation=\"relu\")\n",
    "    params = update_parameters(params, grads, learning_rate=lr)\n",
    "    if epoch % 500 == 0:\n",
    "        costs.append(cost)\n",
    "        print(\"epoch\", epoch, \"cost\", cost)\n",
    "\n",
    "# final predict\n",
    "AL, _ = L_model_forward(\n",
    "    X, params, hidden_activation=\"relu\", output_activation=\"sigmoid\")\n",
    "preds = (AL > 0.5).astype(int)\n",
    "print(\"preds:\", preds)\n",
    "plt.plot(np.arange(0, len(costs))*500, costs)\n",
    "plt.xlabel(\"epoch\")\n",
    "plt.ylabel(\"cost\")\n",
    "plt.show()\n"
   ]
  },
  {
   "cell_type": "markdown",
   "id": "1f78dd42",
   "metadata": {},
   "source": []
  },
  {
   "cell_type": "markdown",
   "id": "3fbde1fc",
   "metadata": {},
   "source": [
    "11. Diagnostics & tips code snippets\n"
   ]
  },
  {
   "cell_type": "code",
   "execution_count": null,
   "id": "4e14492e",
   "metadata": {},
   "outputs": [],
   "source": [
    "# 1) percent of ReLU neurons dead in a layer (given Z)\n",
    "def percent_dead_relu(Z):\n",
    "    return np.mean(Z <= 0) * 100\n",
    "\n",
    "# 2) gradient norms\n",
    "\n",
    "\n",
    "def grad_norms(grads):\n",
    "    norms = {}\n",
    "    for k, v in grads.items():\n",
    "        norms[k] = np.linalg.norm(v)\n",
    "    return norms\n",
    "\n",
    "# Use these during training:\n",
    "# print(percent_dead_relu(caches[0][1]))  # caches layer: (linear_cache, activation_cache) -> activation_cache is Z\n",
    "# print(grad_norms(grads))\n"
   ]
  },
  {
   "cell_type": "markdown",
   "id": "63bf4b89",
   "metadata": {},
   "source": []
  },
  {
   "cell_type": "markdown",
   "id": "6d2cc317",
   "metadata": {},
   "source": [
    "Ghi chú kết thúc (ngắn, thẳng)\n",
    "\n",
    "Đây là bản mẫu tối giản — mục tiêu để bạn hiểu từng bước và chạy nhanh.\n",
    "\n",
    "Khi scale lên (nhiều layer, nhiều dữ liệu), thêm: batchnorm, dropout, optimizer (Adam), gradient clipping, numeric stability kỹ hơn.\n",
    "\n",
    "Nếu bạn muốn: mình chỉnh code trên để phù hợp đúng với notebook của bạn (ví dụ shapes hoặc tên hàm tests mong đợi) — paste đoạn #GRADED FUNCTION bạn đã viết hoặc gửi lỗi test, mình sửa trực tiếp.\n"
   ]
  },
  {
   "cell_type": "markdown",
   "id": "ce397424",
   "metadata": {},
   "source": []
  }
 ],
 "metadata": {
  "kernelspec": {
   "display_name": "myenvironment",
   "language": "python",
   "name": "python3"
  },
  "language_info": {
   "codemirror_mode": {
    "name": "ipython",
    "version": 3
   },
   "file_extension": ".py",
   "mimetype": "text/x-python",
   "name": "python",
   "nbconvert_exporter": "python",
   "pygments_lexer": "ipython3",
   "version": "3.13.1"
  }
 },
 "nbformat": 4,
 "nbformat_minor": 5
}
