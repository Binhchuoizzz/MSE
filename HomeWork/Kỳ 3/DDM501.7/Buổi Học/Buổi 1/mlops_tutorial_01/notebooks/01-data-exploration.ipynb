{
 "cells": [
  {
   "cell_type": "code",
   "execution_count": null,
   "id": "6158ce8f",
   "metadata": {},
   "outputs": [],
   "source": [
    "import pandas as pd\n",
    "from sklearn.datasets import load_breast_cancer\n",
    "from sklearn.model_selection import train_test_split\n",
    "from sklearn.preprocessing import StandardScaler\n",
    "from sklearn.linear_model import LogisticRegression\n",
    "from sklearn.svm import SVC\n",
    "from sklearn.metrics import accuracy_score, classification_report, confusion_matrix\n",
    "import joblib"
   ]
  },
  {
   "cell_type": "markdown",
   "id": "fb066f20",
   "metadata": {},
   "source": [
    "## Load datasets"
   ]
  },
  {
   "cell_type": "code",
   "execution_count": null,
   "id": "bb3afae0",
   "metadata": {},
   "outputs": [],
   "source": [
    "# Load the iris dataset\n",
    "data = load_breast_cancer()\n",
    "\n",
    "# Form the dataframe\n",
    "df = pd.DataFrame(\n",
    "    data=data.data,\n",
    "    columns=data.feature_names\n",
    ")\n",
    "\n",
    "df['target'] = data.target\n",
    "df['target'] = df['target'].map({\n",
    "    0: 'malignant',\n",
    "    1: 'benign'\n",
    "})"
   ]
  },
  {
   "cell_type": "code",
   "execution_count": null,
   "id": "9e1fd9ea",
   "metadata": {},
   "outputs": [],
   "source": [
    "print(f'Dataset size: {df.shape}')\n",
    "print(f'Dataset features: {df.columns.tolist()}')\n",
    "print(f'Dataset info:')\n",
    "df.info()\n",
    "print(f'Dataset description:')\n",
    "df.describe()\n",
    "\n",
    "# Check for missing values\n",
    "df.isnull().sum()"
   ]
  },
  {
   "cell_type": "code",
   "execution_count": null,
   "id": "9982775f",
   "metadata": {},
   "outputs": [],
   "source": [
    "print('Class distribution:')\n",
    "print(df['target'].value_counts())\n",
    "print(df['target'].value_counts())"
   ]
  },
  {
   "cell_type": "code",
   "execution_count": null,
   "id": "67599a8f",
   "metadata": {},
   "outputs": [],
   "source": [
    "# Save the dataframe to a CSV file\n",
    "df.to_csv('breast_cancer_dataset.csv', index=False)"
   ]
  },
  {
   "cell_type": "markdown",
   "id": "368478ee",
   "metadata": {},
   "source": [
    "## Data Preparation"
   ]
  },
  {
   "cell_type": "code",
   "execution_count": null,
   "id": "977494f4",
   "metadata": {},
   "outputs": [],
   "source": [
    "# Prepare the data\n",
    "X = df.drop('target', axis=1)\n",
    "y = df['target']\n",
    "feature_names = X.columns.tolist()\n",
    "target_names = ['target']\n",
    "\n",
    "X_train, X_test, y_train, y_test = train_test_split(\n",
    "    X, y, test_size=0.2, random_state=42, stratify=y\n",
    ")\n",
    "\n",
    "# Standardize the features\n",
    "scaler = StandardScaler()\n",
    "X_train = scaler.fit_transform(X_train)\n",
    "X_test = scaler.transform(X_test)"
   ]
  },
  {
   "cell_type": "code",
   "execution_count": null,
   "id": "e342cada",
   "metadata": {},
   "outputs": [],
   "source": [
    "lr = LogisticRegression(max_iter=200, random_state=42)\n",
    "lr.fit(X_train, y_train)\n",
    "y_pred = lr.predict(X_test)\n",
    "\n",
    "# Evaluate the model\n",
    "print(f'Accuracy: {accuracy_score(y_test, y_pred):.4f}')\n",
    "print(f'Classification Report:')\n",
    "print(classification_report(y_test, y_pred))"
   ]
  },
  {
   "cell_type": "code",
   "execution_count": null,
   "id": "b9fa375c",
   "metadata": {},
   "outputs": [],
   "source": [
    "svc = SVC(kernel='rbf', random_state=42)\n",
    "svc.fit(X_train, y_train)\n",
    "y_pred = svc.predict(X_test)\n",
    "\n",
    "# Evaluate the model\n",
    "print(f'Accuracy: {accuracy_score(y_test, y_pred):.4f}')\n",
    "print(f'Classification Report:')\n",
    "print(classification_report(y_test, y_pred))"
   ]
  },
  {
   "cell_type": "code",
   "execution_count": null,
   "id": "0dace617",
   "metadata": {},
   "outputs": [],
   "source": [
    "# Save the scaler\n",
    "scaler_filename = 'models/scaler.pkl'\n",
    "joblib.dump(scaler, scaler_filename)"
   ]
  },
  {
   "cell_type": "code",
   "execution_count": null,
   "id": "a83b89fa",
   "metadata": {},
   "outputs": [],
   "source": [
    "# Save the model\n",
    "lr_model_filename = 'models/logistic_regression.pkl'\n",
    "joblib.dump(lr, lr_model_filename)\n",
    "\n",
    "svc_model_filename = 'models/svm.pkl'\n",
    "joblib.dump(svc, svc_model_filename)"
   ]
  }
 ],
 "metadata": {
  "kernelspec": {
   "display_name": ".venv",
   "language": "python",
   "name": "python3"
  },
  "language_info": {
   "codemirror_mode": {
    "name": "ipython",
    "version": 3
   },
   "file_extension": ".py",
   "mimetype": "text/x-python",
   "name": "python",
   "nbconvert_exporter": "python",
   "pygments_lexer": "ipython3",
   "version": "3.9.6"
  }
 },
 "nbformat": 4,
 "nbformat_minor": 5
}
