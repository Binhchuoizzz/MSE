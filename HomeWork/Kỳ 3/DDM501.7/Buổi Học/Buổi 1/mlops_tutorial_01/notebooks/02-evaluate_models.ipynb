{
 "cells": [
  {
   "cell_type": "code",
   "execution_count": null,
   "id": "f9c12a07",
   "metadata": {},
   "outputs": [],
   "source": [
    "import joblib\n",
    "import numpy as np\n",
    "import pandas as pd\n",
    "from sklearn.datasets import load_breast_cancer\n",
    "from sklearn.model_selection import train_test_split\n",
    "from sklearn.metrics import accuracy_score, classification_report, confusion_matrix\n",
    "import matplotlib.pyplot as plt\n",
    "import seaborn as sns"
   ]
  },
  {
   "cell_type": "code",
   "execution_count": null,
   "id": "f8a660b1",
   "metadata": {},
   "outputs": [],
   "source": [
    "# Load models\n",
    "lr = joblib.load('models/logistic_regression.pkl')\n",
    "svc = joblib.load('models/svm.pkl')\n",
    "\n",
    "# Load scaler\n",
    "scaler = joblib.load('models/scaler.pkl')\n"
   ]
  },
  {
   "cell_type": "code",
   "execution_count": null,
   "id": "9fca1378",
   "metadata": {},
   "outputs": [],
   "source": [
    "# Load data and preparing data to evaluate models\n",
    "data = pd.read_csv('breast_cancer_dataset.csv')\n",
    "X = data.drop('target', axis=1)\n",
    "y = data['target']\n",
    "X_train, X_test, y_train, y_test = train_test_split(\n",
    "    X, y, test_size=0.2, random_state=0, stratify=y\n",
    ")\n",
    "\n",
    "X_test_scaled = scaler.transform(X_test)\n"
   ]
  },
  {
   "cell_type": "code",
   "execution_count": null,
   "id": "182f1129",
   "metadata": {},
   "outputs": [],
   "source": [
    "# Evaluate models\n",
    "# Logistic Regression\n",
    "y_pred_lr = lr.predict(X_test_scaled)\n",
    "print('Classification Report for Logistic Regression:')\n",
    "print(classification_report(y_test, y_pred_lr))\n",
    "\n",
    "cm = confusion_matrix(y_test, y_pred_lr)\n",
    "plt.figure(figsize=(10, 7))\n",
    "sns.heatmap(cm, annot=True, fmt='d', cmap='Blues',\n",
    "            xticklabels=['malignant', 'benign'], yticklabels=['malignant', 'benign'])\n",
    "plt.title('Confusion Matrix for Logistic Regression')\n",
    "plt.xlabel('Predicted')\n",
    "plt.ylabel('Actual')\n",
    "plt.tight_layout()\n",
    "plt.savefig('results/confusion_matrix_lr.png')"
   ]
  },
  {
   "cell_type": "code",
   "execution_count": null,
   "id": "8615b34b",
   "metadata": {},
   "outputs": [],
   "source": [
    "# TODO: SVM models"
   ]
  },
  {
   "cell_type": "code",
   "execution_count": null,
   "id": "2749541b",
   "metadata": {},
   "outputs": [],
   "source": []
  }
 ],
 "metadata": {
  "kernelspec": {
   "display_name": ".venv",
   "language": "python",
   "name": "python3"
  },
  "language_info": {
   "codemirror_mode": {
    "name": "ipython",
    "version": 3
   },
   "file_extension": ".py",
   "mimetype": "text/x-python",
   "name": "python",
   "nbconvert_exporter": "python",
   "pygments_lexer": "ipython3",
   "version": "3.9.6"
  }
 },
 "nbformat": 4,
 "nbformat_minor": 5
}
