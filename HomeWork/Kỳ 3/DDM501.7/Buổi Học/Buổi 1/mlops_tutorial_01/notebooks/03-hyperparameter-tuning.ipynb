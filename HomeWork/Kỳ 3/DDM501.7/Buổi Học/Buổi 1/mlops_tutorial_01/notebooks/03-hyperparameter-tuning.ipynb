{
 "cells": [
  {
   "cell_type": "code",
   "execution_count": null,
   "id": "a75c1063",
   "metadata": {},
   "outputs": [],
   "source": [
    "import joblib\n",
    "import pandas as pd\n",
    "import numpy as np\n",
    "from sklearn.ensemble import RandomForestClassifier\n",
    "from sklearn.model_selection import train_test_split\n",
    "from sklearn.preprocessing import StandardScaler\n",
    "from sklearn.metrics import accuracy_score, classification_report, confusion_matrix\n",
    "from sklearn.datasets import load_breast_cancer\n"
   ]
  },
  {
   "cell_type": "code",
   "execution_count": null,
   "id": "ed9d90d3",
   "metadata": {},
   "outputs": [],
   "source": [
    "# Load data and preparing data\n",
    "data = load_breast_cancer()\n",
    "\n",
    "X_train, X_test, y_train, y_test = train_test_split(\n",
    "    data.data, data.target, test_size=0.2, random_state=0, stratify=data.target\n",
    ")\n",
    "\n",
    "scaler = StandardScaler()\n",
    "X_train = scaler.fit_transform(X_train)\n",
    "X_test = scaler.transform(X_test)"
   ]
  },
  {
   "cell_type": "code",
   "execution_count": null,
   "id": "66695137",
   "metadata": {},
   "outputs": [],
   "source": [
    "# Define parameters for Random Forest\n",
    "n_estimators = [100, 200, 300]\n",
    "max_depth = [None, 10, 20, 30]\n",
    "\n",
    "experiment_results = []\n",
    "\n",
    "for n_est in n_estimators:\n",
    "    for max_depth_val in max_depth:\n",
    "        rf = RandomForestClassifier(\n",
    "            n_estimators=n_est,\n",
    "            max_depth=max_depth_val,\n",
    "            random_state=0\n",
    "        )\n",
    "        rf.fit(X_train, y_train)\n",
    "        y_pred = rf.predict(X_test)\n",
    "        accuracy = accuracy_score(y_test, y_pred)\n",
    "        experiment_results.append({\n",
    "            'n_estimators': n_est,\n",
    "            'max_depth': max_depth_val,\n",
    "            'accuracy': accuracy\n",
    "        })\n",
    "\n",
    "# Convert to DataFrame for better visualization\n",
    "results_df = pd.DataFrame(experiment_results)\n",
    "\n",
    "# Find the best model\n",
    "best_model = results_df.loc[results_df['accuracy'].idxmax()]\n",
    "\n",
    "# Save the experiment results\n",
    "results_df.to_csv('results/random_forest_tuning_results.csv', index=False)\n",
    "\n",
    "# Print the best model\n",
    "print(f\"Best Model: n_estimators={best_model['n_estimators']}, max_depth={best_model['max_depth']}\")\n",
    "\n",
    "# Save the scaler\n",
    "scaler_filename = 'models/scaler.pkl'\n",
    "joblib.dump(scaler, scaler_filename)\n",
    "\n",
    "# Save the best model\n",
    "best_model_filename = 'models/best_random_forest.pkl'\n",
    "joblib.dump(best_model, best_model_filename)\n"
   ]
  }
 ],
 "metadata": {
  "kernelspec": {
   "display_name": ".venv",
   "language": "python",
   "name": "python3"
  },
  "language_info": {
   "codemirror_mode": {
    "name": "ipython",
    "version": 3
   },
   "file_extension": ".py",
   "mimetype": "text/x-python",
   "name": "python",
   "nbconvert_exporter": "python",
   "pygments_lexer": "ipython3",
   "version": "3.9.6"
  }
 },
 "nbformat": 4,
 "nbformat_minor": 5
}
