{
 "cells": [
  {
   "cell_type": "code",
   "execution_count": 1,
   "metadata": {},
   "outputs": [
    {
     "name": "stdout",
     "output_type": "stream",
     "text": [
      "Width and Height of Rectangle :  8 10\n",
      "Type of Width and Height of Rectangle :  <class 'int'> <class 'int'>\n",
      "Perimeter of a rectangle is : 36\n",
      "Area of a rectangle is : 80\n",
      "Type of Perimeter and Area of Rectangle : <class 'int'> <class 'int'>\n"
     ]
    }
   ],
   "source": [
    "# Question 1: Write a program to find Perimeter and Area of a Rectangle with integers of Width and Height\n",
    "width = 8\n",
    "height = 10\n",
    "\n",
    "print(\"Width and Height of Rectangle : \", width, height)\n",
    "print(\"Type of Width and Height of Rectangle : \", type(width), type(height))\n",
    "\n",
    "# calculate the perimeter\n",
    "Perimeter = 2 * (width + height)\n",
    "# calculate the area\n",
    "Area = width * height\n",
    "\n",
    "print(\"Perimeter of a rectangle is : %d\" % Perimeter)\n",
    "print(f\"Area of a rectangle is : {Area}\")\n",
    "print(\"Type of Perimeter and Area of Rectangle : {} {}\".format(\n",
    "    type(Perimeter), type(Area)))\n"
   ]
  },
  {
   "cell_type": "code",
   "execution_count": 2,
   "metadata": {},
   "outputs": [],
   "source": [
    "# Question 2: Write a program to find add, subtraction, multiplication, division of two integers\n",
    "# Question 3: Write a program to find Total Amounts of a product with integers Quantity and Unitprice\n"
   ]
  },
  {
   "cell_type": "code",
   "execution_count": 3,
   "metadata": {},
   "outputs": [
    {
     "name": "stdout",
     "output_type": "stream",
     "text": [
      "<class 'int'>\n",
      "<class 'int'>\n",
      "100000000000000000000000000000000000000000000000000000000000000000000000000000000000000000000000000000000000000000000000000000000000000000000000000000000000000000000000000000000000000000000000000000000 \n",
      " <class 'int'>\n"
     ]
    }
   ],
   "source": [
    "# Number : Integer\n",
    "x = 10\n",
    "print(type(x))\n",
    "\n",
    "x = 10000000000000000000000000000000000000000000\n",
    "print(type(x))\n",
    "\n",
    "# Printing 100 raise to power 100\n",
    "y = 100**100\n",
    "print(y, \"\\n\", type(y))\n"
   ]
  },
  {
   "cell_type": "code",
   "execution_count": 4,
   "metadata": {},
   "outputs": [],
   "source": [
    "# More question:\n",
    "# How to show the number of bit to represent the integer number ?\n"
   ]
  },
  {
   "cell_type": "code",
   "execution_count": 5,
   "metadata": {},
   "outputs": [],
   "source": [
    "# cd drive\n",
    "# ls\n",
    "#  cd hieu/\n",
    "#  ls\n",
    "# %mkdir\n"
   ]
  },
  {
   "cell_type": "code",
   "execution_count": 6,
   "metadata": {},
   "outputs": [
    {
     "name": "stdout",
     "output_type": "stream",
     "text": [
      "Radius of a Circle :  15\n",
      "Type of Radius <class 'int'> and Pi <class 'float'> : \n",
      "Diameter of a circle 30.0 and type of diameter <class 'float'>\n",
      "Perimeter of a circle is : 94.245\n",
      "Area of a circle is : 706.838\n",
      "Type of Perimeter and Area of circle : <class 'float'> <class 'float'>\n"
     ]
    }
   ],
   "source": [
    "# Question 4: Write a program to find Diameter, Perimeter and Area of a Cirle with integer Radius\n",
    "# Number : Floating Points\n",
    "pi = 3.1415\n",
    "radius = 15\n",
    "\n",
    "print(\"Radius of a Circle : \", radius)\n",
    "print(\"Type of Radius {} and Pi {} : \".format(type(radius), type(pi)))\n",
    "\n",
    "Diameter = float(radius) * 2\n",
    "Perimeter = 2 * pi * radius\n",
    "Area = pi * radius * radius\n",
    "\n",
    "str_output = f\"Diameter of a circle {\n",
    "    Diameter} and type of diameter {type(Diameter)}\"\n",
    "print(str_output)\n",
    "\n",
    "print(\"Perimeter of a circle is : %.3f\" % Perimeter)\n",
    "print(f\"Area of a circle is : {round(Area, 3)}\")\n",
    "print(\"Type of Perimeter and Area of circle : {0} {1}\".format(\n",
    "    type(Perimeter), type(Area)))\n"
   ]
  },
  {
   "cell_type": "code",
   "execution_count": 7,
   "metadata": {},
   "outputs": [],
   "source": [
    "# Question 5: Write a program to find Perimeter and Area of a ellipse with integers minor axis and major axis length\n",
    "# Question 6: Write a program to convert centimeter to decimeter and inch with float centimeter\n",
    "# Question 7: Write a program to find velocity with integer time and float distance\n"
   ]
  },
  {
   "cell_type": "code",
   "execution_count": 8,
   "metadata": {},
   "outputs": [
    {
     "name": "stdout",
     "output_type": "stream",
     "text": [
      "Complex Number : x(2+3j) y(3+4j) z(-1.5-2.5j)\n",
      "(2+3j) has real part 2.0 and imaginary part 3.0\n",
      "Conjugate complex number of (3+4j) is (3-4j)\n",
      "Multiplication of a complex (-1.5-2.5j) and its conjugate (-1.5+2.5j) is (8.5+0j)\n",
      "Phase and Magnitude  of complex number (2+3j) are phase :0.982793723247329 and magnitude : 3.605551275463989\n"
     ]
    }
   ],
   "source": [
    "# Complex : Special Remember\n",
    "import cmath\n",
    "x = 2 + 3j\n",
    "y = complex(3, 4)\n",
    "z = -1.5 - 2.5j\n",
    "\n",
    "phase = cmath.phase(x)\n",
    "magnitude = abs(x)\n",
    "\n",
    "print(f\"Complex Number : x{x} y{y} z{z}\")\n",
    "print(f\"{x} has real part {x.real} and imaginary part {x.imag}\")\n",
    "print(f\"Conjugate complex number of {y} is {y.conjugate()}\")\n",
    "print(f\"Multiplication of a complex {z} and its conjugate {\n",
    "      z.conjugate()} is {z * z.conjugate()}\")\n",
    "print(f\"Phase and Magnitude  of complex number {\n",
    "      x} are phase :{phase} and magnitude : {magnitude}\")\n"
   ]
  },
  {
   "cell_type": "code",
   "execution_count": 9,
   "metadata": {},
   "outputs": [
    {
     "name": "stdout",
     "output_type": "stream",
     "text": [
      "Number Random is 1005 have two digits False\n",
      "Number Random is 1005 have three digits False\n"
     ]
    }
   ],
   "source": [
    "# Question 8: Write a program to random an integer number and check whether this number having two or three digits\n",
    "import random\n",
    "num = random.randint(0, 1100)\n",
    "check_twodigits = (num / 100) < 1\n",
    "check_threedigits = ((num / 100) > 1) and ((num / 100) < 10)\n",
    "\n",
    "print(f\"Number Random is {num} have two digits {check_twodigits}\")\n",
    "print(f\"Number Random is {num} have three digits {check_threedigits}\")\n"
   ]
  },
  {
   "cell_type": "code",
   "execution_count": 10,
   "metadata": {},
   "outputs": [],
   "source": [
    "# Question 9: Write a program to random an integer number in range [-100, 100]\n",
    "# check whether this number positive or negative number and have two digits\n",
    "# Question 10: Write a program to random an integer number in range [10, 150] and normalize it into range [0, 1]\n"
   ]
  },
  {
   "cell_type": "code",
   "execution_count": 11,
   "metadata": {},
   "outputs": [
    {
     "name": "stdout",
     "output_type": "stream",
     "text": [
      "Decimal number x: 1 and y: 3.14159265 and type x: <class 'decimal.Decimal'>\n",
      "Decimal number x/3: 0.333 and x/y: 0.318\n",
      "Fraction number x : 3/4, y : 5/4, z : 1/4 and type x: <class 'fractions.Fraction'>\n",
      "Fraction x - y: -1/2, x / y : 3/5 and float(x) : 0.75\n"
     ]
    }
   ],
   "source": [
    "# Decimal, Fraction : Special Remember\n",
    "from fractions import Fraction\n",
    "from decimal import *\n",
    "getcontext().prec = 3\n",
    "x = Decimal(1)\n",
    "y = Decimal(\"3.14159265\")\n",
    "\n",
    "print(f\"Decimal number x: {x} and y: {y} and type x: {type(x)}\")\n",
    "print(f\"Decimal number x/3: {x/3} and x/y: {x/y}\")\n",
    "\n",
    "x = Fraction(3, 4)\n",
    "y = Fraction(1.25)\n",
    "z = Fraction('1/4')\n",
    "\n",
    "print(f\"Fraction number x : {x}, y : {y}, z : {z} and type x: {type(x)}\")\n",
    "print(f\"Fraction x - y: {x - y}, x / y : {x/y} and float(x) : {float(x)}\")\n"
   ]
  },
  {
   "cell_type": "code",
   "execution_count": 12,
   "metadata": {},
   "outputs": [
    {
     "name": "stdout",
     "output_type": "stream",
     "text": [
      "10 -15 15 4142.651121364896\n",
      "3.1622776601683795 3 2\n",
      "3.141592653589793 78.53981633974483\n",
      "2.718281828459045 inf nan 2\n",
      "True 0.5235987755982988 30\n",
      "1.0 1.0 22026.465794806718\n"
     ]
    }
   ],
   "source": [
    "# Module Math :  Special Remember\n",
    "import math\n",
    "x = 10\n",
    "y = -15\n",
    "z = 2.3\n",
    "max_value = max(x, y, z)\n",
    "min_value = min(x, y, z)\n",
    "print(max_value, min_value, abs(y), pow(z, x))\n",
    "\n",
    "r = 5\n",
    "print(math.sqrt(x), math.ceil(z), math.floor(z))\n",
    "print(math.pi, math.pi * r * r)\n",
    "print(math.e, math.inf, math.nan, math.trunc(z))\n",
    "print(math.isclose(6.99, 7, rel_tol=0.2),\n",
    "      math.radians(30), round(math.degrees(math.pi/6)))\n",
    "print(math.log10(10), math.log(math.e), math.exp(10))\n"
   ]
  },
  {
   "cell_type": "code",
   "execution_count": 13,
   "metadata": {},
   "outputs": [],
   "source": [
    "# Question 11: Write a program to find degree and radian angle between hours and minute hands\n",
    "# with integers hour and minite\n",
    "# Question 12: Write a program to Solve the quadratic equation x^2 + 5*x + 6 = 0\n",
    "# and print step by step (discriminant, check condition of discriminant, solutions)\n"
   ]
  },
  {
   "cell_type": "code",
   "execution_count": 14,
   "metadata": {},
   "outputs": [
    {
     "name": "stdout",
     "output_type": "stream",
     "text": [
      "[2, 2, 5, 6, 9, 30] <class 'list'>\n",
      "List of Number has Mean : 9, Median : 5.5, Mode : 2 , and Standard Deviation : 10.620734437881403\n",
      "[83, 81, 57, 66, 70, 34, 35, 92, 53, 27] <class 'list'>\n",
      "List of Number has Mean : 59.8, Median : 61.5 , and Standard Deviation : 22.552654438496198\n"
     ]
    }
   ],
   "source": [
    "# Module statistics : Special Remember\n",
    "import random\n",
    "import statistics\n",
    "listNumber = [2, 2, 5, 6, 9, 30]\n",
    "mean_value = statistics.mean(listNumber)\n",
    "median_value = statistics.median(listNumber)\n",
    "mode_value = statistics.mode(listNumber)\n",
    "std_value = statistics.stdev(listNumber)\n",
    "print(listNumber, type(listNumber))\n",
    "print(f\"List of Number has Mean : {mean_value}, Median : {median_value}\" +\n",
    "      f\", Mode : {mode_value} , and Standard Deviation : {std_value}\")\n",
    "\n",
    "# Generate 10 random numbers between 10 and 100\n",
    "n = 10\n",
    "lower = 10\n",
    "upper = 100\n",
    "randomlist = random.sample(range(lower, upper), n)\n",
    "print(randomlist, type(randomlist))\n",
    "mean, median, std = statistics.mean(randomlist), statistics.median(\n",
    "    randomlist), statistics.stdev(randomlist)\n",
    "print(f\"List of Number has Mean : {mean}, Median : {\n",
    "      median} , and Standard Deviation : {std}\")\n"
   ]
  },
  {
   "cell_type": "code",
   "execution_count": 15,
   "metadata": {},
   "outputs": [],
   "source": [
    "# Question 13: Generate two list and compare the Standard Deviation of two lists\n",
    "# Question 14: Generate a list and generate a number, calculate the update mean and Standard Deviation\n",
    "# if we add that number into list\n"
   ]
  },
  {
   "cell_type": "code",
   "execution_count": 16,
   "metadata": {},
   "outputs": [
    {
     "name": "stdout",
     "output_type": "stream",
     "text": [
      "Hello World;Xin chao H o Hello  chao\n",
      "20 True False False\n",
      "Hello World;Xin chao;Ohaiyo gozaimashu 38 -ABCD- ABCD\n",
      "HELLO WORLD;XIN CHAO;OHAIYO GOZAIMASHU hello world;xin chao;ohaiyo gozaimashu\n",
      "['Hello World', 'Xin chao', 'Ohaiyo gozaimashu'] 3\n",
      "True True 21\n"
     ]
    }
   ],
   "source": [
    "# Module String : Special Remember\n",
    "x = \"Hello World;Xin chao\"\n",
    "y = x + \";Ohaiyo gozaimashu\"\n",
    "print(x, x[0], x[-1], x[:5], x[-5:])\n",
    "print(len(x), \"World\" in x, \"python\" in x, \"World\" not in x)\n",
    "print(y, len(y), \"      -ABCD-     \".strip(), \"-ABCD-\".replace('-', ''))\n",
    "print(y.upper(), y.lower())\n",
    "\n",
    "WordList = y.split(\";\")\n",
    "print(WordList, len(WordList))\n",
    "print(\"1234\".isdigit(), \"1234\".isnumeric(), y.find(\"Ohaiyo\"))\n"
   ]
  },
  {
   "cell_type": "code",
   "execution_count": 17,
   "metadata": {},
   "outputs": [],
   "source": [
    "# Question 15: Assume we have a string \"Today is Sunday and we don't need to wake up at 6 am\".\n",
    "# Print how many words in the string and check whether number in string. Print position of that number in string\n",
    "# Question 16: Assume we have string \"This product is good. It's price is 5 USD and it is cheappest in this town\"\n",
    "# Print this feedback if positive or negative. Convert USD to VND in the statement.\n"
   ]
  },
  {
   "cell_type": "code",
   "execution_count": null,
   "metadata": {},
   "outputs": [],
   "source": [
    "# Question 17: Input from keyboard ItemName, Quantity, and Unit Price and the print the Order Information\n",
    "ItemName = input(\"Input a Item Name :\")\n",
    "strQuantity = input(\"Input a Quantity of Item :\")\n",
    "Quantity = int(strQuantity)\n",
    "UnitPrice = float(input(\"Input a Unit Price of Item :\"))\n",
    "\n",
    "# Sample:\n",
    "# ItemName = \"Milk\"\n",
    "# Quantity = 10\n",
    "# UnitPrice = 3.5\n",
    "\n",
    "CustomerOrder = \"Order Information : \\n\\t Item Number : {2} \\n\\t Quantity : {0} \\n\\t UnitPrice : {1} USD. \\n\"\n",
    "CustomerOrder += \"=\"*35 + \"\\n\"\n",
    "CustomerOrder += \"Total Amount : {3} USD\"\n",
    "print(CustomerOrder.format(Quantity, UnitPrice, ItemName, Quantity * UnitPrice))\n"
   ]
  },
  {
   "cell_type": "code",
   "execution_count": null,
   "metadata": {},
   "outputs": [],
   "source": [
    "# Question 17: From the keyboard input the student profile including :\n",
    "# Name of Subject 1,2,3 and Mark of Subject 1,2,3.\n",
    "# Name of Student and Date of Birth\n",
    "# And print the profile of these students with Average Mark\n",
    "\n",
    "# Question 18: From keyboard input two points with (x,y) and print Euclidean, Manhattan, Cosine distance of points\n"
   ]
  },
  {
   "cell_type": "code",
   "execution_count": null,
   "metadata": {},
   "outputs": [],
   "source": [
    "# Module DateTime : Special Remember\n",
    "import datetime\n",
    "x = datetime.datetime.now()\n",
    "y = datetime.datetime(2020, 12, 29)\n",
    "print(x, x.day, x.month, x.year, x.hour, x.minute, x.second, x.microsecond)\n",
    "print(x.strftime(\"%A\"), x.strftime(\"%B\"), x.strftime(\"%p\"))\n",
    "print(y, str(y), (x - y).total_seconds(), (x - y).days)\n",
    "\n",
    "date_time_str = '2018-06-29 08:15:27.243860'\n",
    "date_time_obj = datetime.datetime.strptime(\n",
    "    date_time_str, '%Y-%m-%d %H:%M:%S.%f')\n",
    "print('Date:', date_time_obj.date())\n",
    "print('Time:', date_time_obj.time())\n",
    "print('Date-time:', date_time_obj)\n"
   ]
  },
  {
   "cell_type": "code",
   "execution_count": null,
   "metadata": {},
   "outputs": [],
   "source": [
    "# Question 19: Input from keyboards your birthday with day, month year\n",
    "# and print information about weekday name, month name, and your age now\n",
    "\n",
    "# Question 20: Input from keyboards two datetime checkin and checkout\n",
    "# and print information about how many working hours and minutes. Print work late or return early or not\n",
    "# Assume the start and end working time is 08:30 - 17:30\n"
   ]
  },
  {
   "cell_type": "code",
   "execution_count": null,
   "metadata": {},
   "outputs": [],
   "source": [
    "print(\"end of lesson 1\")\n"
   ]
  },
  {
   "cell_type": "code",
   "execution_count": null,
   "metadata": {},
   "outputs": [],
   "source": [
    "# Boolean\n",
    "x = 10\n",
    "y = x > 10\n",
    "print(x == 10, y)\n",
    "print(type(y))\n",
    "\n",
    "print(bool(x), bool(1), bool(0))\n",
    "print(int(y), int(x == 10))\n",
    "print(bool(x), y, bool(x) and y, bool(x) or y, not bool(x))\n",
    "print(bool(\"\"), bool(\"Hello\"))\n"
   ]
  },
  {
   "cell_type": "markdown",
   "metadata": {},
   "source": [
    "Session 01 : Theory\n",
    "\n",
    "Decimal Module\n",
    "Fractions Module\n",
    "Math Module\n",
    "Statistics Module\n"
   ]
  },
  {
   "cell_type": "code",
   "execution_count": null,
   "metadata": {},
   "outputs": [],
   "source": [
    "# Module : Decimal\n",
    "from decimal import *\n",
    "getcontext().prec = 6\n",
    "x = Decimal(1)\n",
    "y = Decimal(7)\n",
    "print(x/7, 1/7, x/y)\n",
    "print(type(x), type(x/7), type(x/y))\n",
    "print(getcontext())\n",
    "\n",
    "getcontext().prec = 3\n",
    "z = Decimal(\"3.14\")\n",
    "print(z/7, z/y)\n",
    "print(type(z/7), type(z/y))\n",
    "print(getcontext())\n"
   ]
  },
  {
   "cell_type": "code",
   "execution_count": null,
   "metadata": {},
   "outputs": [],
   "source": [
    "# More question:\n",
    "# Question : How to seperate the decimal part and the integer part from a Decimal Number ?\n"
   ]
  },
  {
   "cell_type": "code",
   "execution_count": null,
   "metadata": {},
   "outputs": [],
   "source": [
    "# Module : Fractions\n",
    "from fractions import Fraction\n",
    "x = Fraction(3, 4)\n",
    "y = Fraction(1.25)\n",
    "z = Fraction('1/4')\n",
    "print(x, float(x), type(x), x.numerator, x.denominator)\n",
    "print(y, float(y), type(y))\n",
    "print(z, float(z), type(z))\n",
    "print(x + y, float(x + y), type(x + y))\n",
    "print(x - y, x * y, x / y)\n"
   ]
  },
  {
   "cell_type": "code",
   "execution_count": null,
   "metadata": {},
   "outputs": [],
   "source": [
    "# More question:\n",
    "# Question : How to make the inversion and get quotient and remainder from Fractions\n"
   ]
  },
  {
   "cell_type": "code",
   "execution_count": null,
   "metadata": {},
   "outputs": [],
   "source": [
    "# Module : math\n",
    "import math\n",
    "x = 10\n",
    "y = -15\n",
    "z = 2.3\n",
    "max_value = max(x, y, z)\n",
    "min_value = min(x, y, z)\n",
    "print(max_value, min_value, abs(y), pow(z, x))\n",
    "\n",
    "r = 5\n",
    "print(math.sqrt(x), math.ceil(z), math.floor(z))\n",
    "print(math.pi, math.pi * r * r)\n",
    "print(math.e, math.inf, math.nan, math.trunc(z))\n",
    "print(math.isclose(6.99, 7, rel_tol=0.2),\n",
    "      math.radians(30), round(math.degrees(math.pi/6)))\n",
    "print(math.log10(10), math.log(math.e), math.exp(10))\n"
   ]
  },
  {
   "cell_type": "code",
   "execution_count": null,
   "metadata": {},
   "outputs": [],
   "source": [
    "# More question:\n",
    "# Question :  Calculate the parimeter and area of circle, eclipse and rectangle ?\n"
   ]
  },
  {
   "cell_type": "code",
   "execution_count": null,
   "metadata": {},
   "outputs": [],
   "source": [
    "# Module : statistics\n",
    "import statistics\n",
    "listNumber = [2, 2, 5, 6, 9, 30]\n",
    "mean_value = statistics.mean(listNumber)\n",
    "median_value = statistics.median(listNumber)\n",
    "mode_value = statistics.mode(listNumber)\n",
    "std_value = statistics.stdev(listNumber)\n",
    "print(mean_value, median_value, mode_value, std_value)\n"
   ]
  },
  {
   "cell_type": "code",
   "execution_count": null,
   "metadata": {},
   "outputs": [],
   "source": [
    "# More question:\n",
    "# Question :  How to variance and range of a list of number?\n"
   ]
  },
  {
   "cell_type": "markdown",
   "metadata": {},
   "source": [
    "Session 01 : Theory\n",
    "\n",
    "String\n",
    "\n",
    "Date\n",
    "\n",
    "Arithmetic and Comparison Operators\n"
   ]
  },
  {
   "cell_type": "code",
   "execution_count": 19,
   "metadata": {},
   "outputs": [
    {
     "name": "stdout",
     "output_type": "stream",
     "text": [
      "Hello World;Xin chao H o Hello  chao\n",
      "20 True False False\n",
      "Hello World;Xin chao;Ohaiyo gozaimashu 38 -ABCD- ABCD\n",
      "HELLO WORLD;XIN CHAO;OHAIYO GOZAIMASHU hello world;xin chao;ohaiyo gozaimashu\n"
     ]
    },
    {
     "ename": "NameError",
     "evalue": "name 'WorldList' is not defined",
     "output_type": "error",
     "traceback": [
      "\u001b[1;31m---------------------------------------------------------------------------\u001b[0m",
      "\u001b[1;31mNameError\u001b[0m                                 Traceback (most recent call last)",
      "Cell \u001b[1;32mIn[19], line 10\u001b[0m\n\u001b[0;32m      7\u001b[0m \u001b[38;5;28mprint\u001b[39m(y\u001b[38;5;241m.\u001b[39mupper(), y\u001b[38;5;241m.\u001b[39mlower())\n\u001b[0;32m      9\u001b[0m WordList \u001b[38;5;241m=\u001b[39m y\u001b[38;5;241m.\u001b[39msplit(\u001b[38;5;124m\"\u001b[39m\u001b[38;5;124m;\u001b[39m\u001b[38;5;124m\"\u001b[39m)\n\u001b[1;32m---> 10\u001b[0m \u001b[38;5;28mprint\u001b[39m(\u001b[43mWorldList\u001b[49m, \u001b[38;5;28mlen\u001b[39m(WordList))\n\u001b[0;32m     11\u001b[0m \u001b[38;5;28mprint\u001b[39m(\u001b[38;5;124m\"\u001b[39m\u001b[38;5;124m1234\u001b[39m\u001b[38;5;124m\"\u001b[39m\u001b[38;5;241m.\u001b[39misdigit(), \u001b[38;5;124m\"\u001b[39m\u001b[38;5;124m1234\u001b[39m\u001b[38;5;124m\"\u001b[39m\u001b[38;5;241m.\u001b[39misnumeric(), y\u001b[38;5;241m.\u001b[39mfind(\u001b[38;5;124m\"\u001b[39m\u001b[38;5;124mOhaiyo\u001b[39m\u001b[38;5;124m\"\u001b[39m))\n",
      "\u001b[1;31mNameError\u001b[0m: name 'WorldList' is not defined"
     ]
    }
   ],
   "source": [
    "# String\n",
    "x = \"Hello World;Xin chao\"\n",
    "y = x + \";Ohaiyo gozaimashu\"\n",
    "print(x, x[0], x[-1], x[:5], x[-5:])\n",
    "print(len(x), \"World\" in x, \"python\" in x, \"World\" not in x)\n",
    "print(y, len(y), \"      -ABCD-     \".strip(), \"-ABCD-\".replace('-', ''))\n",
    "print(y.upper(), y.lower())\n",
    "\n",
    "WordList = y.split(\";\")\n",
    "print(WorldList, len(WordList))\n",
    "print(\"1234\".isdigit(), \"1234\".isnumeric(), y.find(\"Ohaiyo\"))\n"
   ]
  },
  {
   "cell_type": "code",
   "execution_count": null,
   "metadata": {},
   "outputs": [],
   "source": []
  }
 ],
 "metadata": {
  "kernelspec": {
   "display_name": "myenvironment",
   "language": "python",
   "name": "python3"
  },
  "language_info": {
   "codemirror_mode": {
    "name": "ipython",
    "version": 3
   },
   "file_extension": ".py",
   "mimetype": "text/x-python",
   "name": "python",
   "nbconvert_exporter": "python",
   "pygments_lexer": "ipython3",
   "version": "3.13.1"
  }
 },
 "nbformat": 4,
 "nbformat_minor": 2
}
