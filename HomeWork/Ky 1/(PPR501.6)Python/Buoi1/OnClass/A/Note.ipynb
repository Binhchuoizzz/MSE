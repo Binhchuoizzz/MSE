{
 "cells": [
  {
   "cell_type": "markdown",
   "metadata": {},
   "source": [
    "### Python Variables and Operators\n"
   ]
  },
  {
   "cell_type": "markdown",
   "metadata": {},
   "source": [
    "##### 1. Các kiểu Print\n"
   ]
  },
  {
   "cell_type": "code",
   "execution_count": 3,
   "metadata": {},
   "outputs": [
    {
     "name": "stdout",
     "output_type": "stream",
     "text": [
      "a and b is:  2 3\n",
      "2 and 3  \n",
      "a and b is: 2 3 \n",
      "a and b is: 2 3 \n"
     ]
    }
   ],
   "source": [
    "a = 2\n",
    "b = 3\n",
    "print(\"a and b is: \", a, b)\n",
    "print(f\"{a} and {b}  \")\n",
    "print(\"a and b is: %d %d \" % (a, b))\n",
    "print(\"a and b is: {} {} \".format(a, b))\n"
   ]
  },
  {
   "cell_type": "markdown",
   "metadata": {},
   "source": [
    "##### 2. Hiển thị kiểu (TYPE)\n"
   ]
  },
  {
   "cell_type": "code",
   "execution_count": 6,
   "metadata": {},
   "outputs": [
    {
     "name": "stdout",
     "output_type": "stream",
     "text": [
      "3 <class 'int'>\n",
      "4.1231231232 <class 'float'>\n"
     ]
    }
   ],
   "source": [
    "a = 3\n",
    "b = 4.1231231232\n",
    "print(a, type(a))\n",
    "print(b, type(b))\n"
   ]
  },
  {
   "cell_type": "markdown",
   "metadata": {},
   "source": [
    "##### 3. Làm tròn số, số thập phân\n"
   ]
  },
  {
   "cell_type": "code",
   "execution_count": 9,
   "metadata": {},
   "outputs": [
    {
     "name": "stdout",
     "output_type": "stream",
     "text": [
      "pi is: 3.142\n",
      "pi is: 3.142\n",
      "pi is: 3.142\n",
      "pi is: 3.142\n"
     ]
    }
   ],
   "source": [
    "pi = 3.14151515134124234\n",
    "print(\"pi is: %.3f\" % pi)\n",
    "print(\"pi is: {:.3f}\".format(pi))\n",
    "print(f\"pi is: {pi:.3f}\")\n",
    "print(f\"pi is: {round(pi,3)}\")\n"
   ]
  },
  {
   "cell_type": "markdown",
   "metadata": {},
   "source": [
    "##### 4. Thư viện Cmath Các thao tác trên số phức\n"
   ]
  },
  {
   "cell_type": "code",
   "execution_count": 15,
   "metadata": {},
   "outputs": [
    {
     "name": "stdout",
     "output_type": "stream",
     "text": [
      "2.0 3.0\n",
      "(2-3j)\n",
      "0.982793723247329\n",
      "3.605551275463989\n"
     ]
    }
   ],
   "source": [
    "import cmath\n",
    "x = 2 + 3j\n",
    "y = complex(1, 2)\n",
    "# print(x, y)\n",
    "print(x.real, x.imag)  # lấy giá trị ảo và thực của số phức\n",
    "print(x.conjugate())  # Tìm số phức đối xứng\n",
    "phase = cmath.phase(x)\n",
    "# Phase của một số phức là góc (theo radian) mà số phức tạo với trục thực trong mặt phẳng Argand.\n",
    "print(phase)\n",
    "magnitude = abs(x)\n",
    "print(magnitude)  # Magnitude cho biết độ dài của vector đại diện cho số phức.\n"
   ]
  },
  {
   "cell_type": "markdown",
   "metadata": {},
   "source": [
    "##### 5. Thư viện random\n"
   ]
  },
  {
   "cell_type": "code",
   "execution_count": 42,
   "metadata": {},
   "outputs": [
    {
     "name": "stdout",
     "output_type": "stream",
     "text": [
      "37\n"
     ]
    }
   ],
   "source": [
    "import random\n",
    "num = random.randint(0, 99)\n",
    "print(num)\n"
   ]
  },
  {
   "cell_type": "code",
   "execution_count": 43,
   "metadata": {},
   "outputs": [
    {
     "name": "stdout",
     "output_type": "stream",
     "text": [
      "[42, 25, 23, 84, 66, 63, 74, 51, 46, 69]\n"
     ]
    }
   ],
   "source": [
    "import random\n",
    "step = 10\n",
    "lower = 10\n",
    "upper = 100\n",
    "numList = random.sample(range(lower, upper), step)  # Co đầu đuôi và bước nhảy\n",
    "\n",
    "print(numList)\n"
   ]
  },
  {
   "cell_type": "markdown",
   "metadata": {},
   "source": [
    "##### 6. Thư viện Decimal, Fraction thao tác với số thập phân\n"
   ]
  },
  {
   "cell_type": "code",
   "execution_count": 30,
   "metadata": {},
   "outputs": [
    {
     "name": "stdout",
     "output_type": "stream",
     "text": [
      "0.33\n",
      "1.1231231231212299714883329215808771550655364990234375\n",
      "0.29\n",
      "2\n",
      "5/4\n"
     ]
    }
   ],
   "source": [
    "from fractions import Fraction\n",
    "from decimal import *\n",
    "getcontext().prec = 2\n",
    "a = Decimal(1) / Decimal(3)\n",
    "b = Decimal(1.12312312312123)\n",
    "print(a)\n",
    "print(b)\n",
    "print(a/b)\n",
    "\n",
    "\n",
    "x = Fraction(3, 4)\n",
    "y = Fraction('1.25')\n",
    "print(x + y)\n",
    "print(y)\n"
   ]
  },
  {
   "cell_type": "markdown",
   "metadata": {},
   "source": [
    "##### 7. Các hàm buildin toán học và Thư viện Math\n"
   ]
  },
  {
   "cell_type": "code",
   "execution_count": 31,
   "metadata": {},
   "outputs": [
    {
     "name": "stdout",
     "output_type": "stream",
     "text": [
      "10 -15\n",
      "15\n",
      "100\n"
     ]
    }
   ],
   "source": [
    "x = 10\n",
    "y = -15\n",
    "z = 2.3\n",
    "max_Value = max(x, y, z)\n",
    "min_Value = min(x, y, x)\n",
    "print(max_Value, min_Value)\n",
    "print(abs(y))\n",
    "print(pow(x, 2))\n"
   ]
  },
  {
   "cell_type": "code",
   "execution_count": 40,
   "metadata": {},
   "outputs": [
    {
     "name": "stdout",
     "output_type": "stream",
     "text": [
      "2.280350850198276 6 5\n",
      "3.141592653589793 2.718281828459045 inf nan 5\n",
      "True 0.5235987755982988 30\n",
      "1.0 1.0 22026.465794806718\n"
     ]
    }
   ],
   "source": [
    "import math\n",
    "r = 5.2\n",
    "print(math.sqrt(r), math.ceil(r), math.floor(r))\n",
    "print(math.pi, math.e, math.inf, math.nan, math.trunc(r))\n",
    "print(math.isclose(6.99, 7, rel_tol=0.2),\n",
    "      math.radians(30), round(math.degrees(math.pi/6)))\n",
    "print(math.log10(10), math.log(math.e), math.exp(10))\n"
   ]
  },
  {
   "cell_type": "markdown",
   "metadata": {},
   "source": [
    "##### 8. Sử dụng thư viện statistics để thao tác với dữ liệu\n"
   ]
  },
  {
   "cell_type": "code",
   "execution_count": 41,
   "metadata": {},
   "outputs": [
    {
     "name": "stdout",
     "output_type": "stream",
     "text": [
      "[2, 2, 5, 6, 9, 30] <class 'list'>\n",
      "List of Number has Mean : 9, Median : 5.5, Mode : 2 , and Standard Deviation : 10.620734437881403\n"
     ]
    }
   ],
   "source": [
    "import statistics\n",
    "listNumber = [2, 2, 5, 6, 9, 30]\n",
    "mean_value = statistics.mean(listNumber)\n",
    "median_value = statistics.median(listNumber)\n",
    "mode_value = statistics.mode(listNumber)\n",
    "std_value = statistics.stdev(listNumber)\n",
    "print(listNumber, type(listNumber))\n",
    "print(f\"List of Number has Mean : {mean_value}, Median : {median_value}\" +\n",
    "      f\", Mode : {mode_value} , and Standard Deviation : {std_value}\")\n"
   ]
  },
  {
   "cell_type": "markdown",
   "metadata": {},
   "source": [
    "##### 9. Thao tác với chuỗi\n"
   ]
  },
  {
   "cell_type": "code",
   "execution_count": 44,
   "metadata": {},
   "outputs": [
    {
     "name": "stdout",
     "output_type": "stream",
     "text": [
      "Hello World;Xin chao H o Hello  chao\n",
      "20 True False False\n",
      "Hello World;Xin chao;Ohaiyo gozaimashu 38 -ABCD- ABCD\n",
      "HELLO WORLD;XIN CHAO;OHAIYO GOZAIMASHU hello world;xin chao;ohaiyo gozaimashu\n",
      "['Hello World', 'Xin chao', 'Ohaiyo gozaimashu'] 3\n",
      "True True 21\n"
     ]
    }
   ],
   "source": [
    "# Module String : Special Remember\n",
    "x = \"Hello World;Xin chao\"\n",
    "y = x + \";Ohaiyo gozaimashu\"\n",
    "print(x, x[0], x[-1], x[:5], x[-5:])\n",
    "print(len(x), \"World\" in x, \"python\" in x, \"World\" not in x)\n",
    "print(y, len(y), \"      -ABCD-     \".strip(), \"-ABCD-\".replace('-', ''))\n",
    "print(y.upper(), y.lower())\n",
    "\n",
    "WordList = y.split(\";\")\n",
    "print(WordList, len(WordList))\n",
    "print(\"1234\".isdigit(), \"1234\".isnumeric(), y.find(\"Ohaiyo\"))\n"
   ]
  },
  {
   "cell_type": "markdown",
   "metadata": {},
   "source": [
    "##### 10. Thư viện datetime thao tác với ngày tháng năm\n"
   ]
  },
  {
   "cell_type": "code",
   "execution_count": null,
   "metadata": {},
   "outputs": [
    {
     "name": "stdout",
     "output_type": "stream",
     "text": [
      "2025-01-03 15:30:45.042804 2025 1 3 15 30 45 42804\n",
      "3\n",
      "Date: 2018-06-29\n",
      "Time: 08:15:27.243860\n",
      "Date-time: 2018-06-29 08:15:27.243860\n"
     ]
    }
   ],
   "source": [
    "import datetime\n",
    "x = datetime.datetime.now()\n",
    "y = datetime.datetime(2024, 12, 31)\n",
    "print(x, x.year, x.month, x.day, x.hour, x.minute, x.second, x.microsecond)\n",
    "print((x-y).days)\n",
    "\n",
    "date_time_str = '2018-06-29 08:15:27.243860'\n",
    "date_time_obj = datetime.datetime.strptime(\n",
    "    date_time_str, '%Y-%m-%d %H:%M:%S.%f')\n",
    "print('Date:', date_time_obj.date())\n",
    "print('Time:', date_time_obj.time())\n",
    "print('Date-time:', date_time_obj)\n"
   ]
  }
 ],
 "metadata": {
  "kernelspec": {
   "display_name": "Python 3",
   "language": "python",
   "name": "python3"
  },
  "language_info": {
   "codemirror_mode": {
    "name": "ipython",
    "version": 3
   },
   "file_extension": ".py",
   "mimetype": "text/x-python",
   "name": "python",
   "nbconvert_exporter": "python",
   "pygments_lexer": "ipython3",
   "version": "3.10.11"
  }
 },
 "nbformat": 4,
 "nbformat_minor": 2
}
