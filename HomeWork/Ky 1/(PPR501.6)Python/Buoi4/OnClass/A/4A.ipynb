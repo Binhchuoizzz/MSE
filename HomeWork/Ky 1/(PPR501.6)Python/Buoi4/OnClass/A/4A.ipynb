{
 "cells": [
  {
   "cell_type": "markdown",
   "metadata": {},
   "source": [
    "Python Functions\n",
    "Session 01 : Theory\n",
    "\n",
    "Function Declaration and Arguments Global and Local Variables Anonymous Function\n"
   ]
  },
  {
   "cell_type": "code",
   "execution_count": 1,
   "metadata": {},
   "outputs": [],
   "source": [
    "import random\n",
    "import numpy as np\n",
    "import pandas as pd\n"
   ]
  },
  {
   "cell_type": "code",
   "execution_count": 2,
   "metadata": {},
   "outputs": [
    {
     "name": "stdout",
     "output_type": "stream",
     "text": [
      "8\n"
     ]
    }
   ],
   "source": [
    "def y(x=2):\n",
    "    y = 2*x-4\n",
    "    return (y)\n",
    "\n",
    "\n",
    "print(y(6))\n"
   ]
  },
  {
   "cell_type": "code",
   "execution_count": 3,
   "metadata": {},
   "outputs": [
    {
     "name": "stdout",
     "output_type": "stream",
     "text": [
      "This is the first call a function\n",
      "This is the second call a function\n",
      "This is the default call a function\n"
     ]
    }
   ],
   "source": [
    "# Function\n",
    "def printscreen(s=None):\n",
    "    \"This function is to print str to screen\"\n",
    "    if (s):  # s is None\n",
    "        print(s)\n",
    "    else:\n",
    "        print(\"This is the default call a function\")\n",
    "    return\n",
    "\n",
    "\n",
    "printscreen(\"This is the first call a function\")\n",
    "s = \"This is the second call a function\"\n",
    "\n",
    "printscreen(s)\n",
    "printscreen()\n"
   ]
  },
  {
   "cell_type": "code",
   "execution_count": 3,
   "metadata": {},
   "outputs": [],
   "source": [
    "# Question 1: Write a function to input a number N (N >500) and two more numbers (mean,std)\n",
    "# and do the following things:\n",
    "# A. Generate an array with N numbers with two decimals following Gauss Distribution(mean, std)\n",
    "# B. Print the statstics information : min, max, mean, standard deviation, Q1, Q2, Q3, IQR\n",
    "# C. If we have a rule : a outlier of list is a number are not in the range (Q1 - 1.5*IQR, Q3 + 1.5*IQR).\n",
    "#    print all the outlier number and its position.\n"
   ]
  },
  {
   "cell_type": "code",
   "execution_count": 4,
   "metadata": {},
   "outputs": [],
   "source": [
    "# Question 2: Write a function to input a number N and start, stop\n",
    "# and do the following things:\n",
    "# A. Random a N elements of floating number and round to 2 decimals\n",
    "# B. Seperate the generated list into the Integer and Decimal Part List\n",
    "# C. Make the three test cases : with start and stop, only start, and no start or stop\n"
   ]
  },
  {
   "cell_type": "code",
   "execution_count": 5,
   "metadata": {},
   "outputs": [
    {
     "name": "stdout",
     "output_type": "stream",
     "text": [
      "3\n",
      "The generated array is [198  24 140 229 121  78 160   3 217 215  52 182 220 224 110 196  64 120\n",
      "  68  33 228  47 179  21  66  61  88 207 122 132  74 201 113  31 199 106\n",
      " 194  39 116 112 109 119 231 157 210 233  46 104  15 193 232 129 188  82\n",
      " 102   5  26 202 118  23 225  41  22  76  62  13  87 162  67 227 216 208\n",
      " 226  30 134 174  36   7 235]\n",
      "Average: 124.0 Min: 3, Max: 235, sum: 9762\n",
      "[-174  116   89 -108  -43   82 -157  214   -2 -163  130   38    4 -114\n",
      "   86 -132   56  -52  -35  195 -181  132 -158   45   -5   27  119  -85\n",
      "   10  -58  127  -88  -82  168  -93   88 -155   77   -4   -3   10  112\n",
      "  -74   53   23 -187   58  -89  178   39 -103   59 -106   20  -97   21\n",
      "  176  -84  -95  202 -184  -19   54  -14  -49   74   75  -95  160  -11\n",
      "   -8   18 -196  104   40 -138  -29  228]\n"
     ]
    }
   ],
   "source": [
    "# Question 3: Write a function to input a number N (N >50)\n",
    "# and do the following things:\n",
    "# A. Generate an array with N positive integer numbers with two any numbers in list have difference more than 2\n",
    "# B. Print the arithmetic information : average, range, min, max and sum of the list\n",
    "# C. print the derivative of the list (Derivative is the difference of two consecutive element in List)\n",
    "def list_infor(step=2.1):\n",
    "    #\n",
    "    N = input('Please input a number larger than 50')\n",
    "    N = int(N)\n",
    "    step = int(np.ceil(step))\n",
    "    print(step)\n",
    "    # L=np.arange(0,step*N,step)\n",
    "    # L=np.array(L)\n",
    "    L = random.sample(range(0, N*step), N)\n",
    "    L = np.array(L)\n",
    "    print('The generated array is', L)\n",
    "\n",
    "    print(f\"Average: {np.round(L.mean())} Min: {\n",
    "          L.min()}, Max: {L.max()}, sum: {L.sum()}\")\n",
    "    #\n",
    "    Deri = L[1:]-L[0:N-1]\n",
    "    print(Deri)\n",
    "\n",
    "\n",
    "list_infor()\n"
   ]
  },
  {
   "cell_type": "code",
   "execution_count": 6,
   "metadata": {},
   "outputs": [],
   "source": [
    "# random.randint(low, high=None, size=None, dtype=int)\n"
   ]
  },
  {
   "cell_type": "code",
   "execution_count": 7,
   "metadata": {},
   "outputs": [],
   "source": [
    "# Question 4: Write a function with no input\n",
    "# and do the following things:\n",
    "# A. Ask user to input continuously a name of user, a name of product and a comment of that user about product\n",
    "# until they input username is blank\n",
    "# B. Each input of username, productname, comment add to a row of dataframe\n",
    "# with three columns (CustomerName, ProductName, and Comment)\n",
    "# C. Return that dataframe and display it\n"
   ]
  },
  {
   "cell_type": "code",
   "execution_count": 8,
   "metadata": {},
   "outputs": [
    {
     "data": {
      "text/plain": [
       "'Dataset Flight'"
      ]
     },
     "metadata": {},
     "output_type": "display_data"
    },
    {
     "data": {
      "text/html": [
       "<div>\n",
       "<style scoped>\n",
       "    .dataframe tbody tr th:only-of-type {\n",
       "        vertical-align: middle;\n",
       "    }\n",
       "\n",
       "    .dataframe tbody tr th {\n",
       "        vertical-align: top;\n",
       "    }\n",
       "\n",
       "    .dataframe thead th {\n",
       "        text-align: right;\n",
       "    }\n",
       "</style>\n",
       "<table border=\"1\" class=\"dataframe\">\n",
       "  <thead>\n",
       "    <tr style=\"text-align: right;\">\n",
       "      <th></th>\n",
       "      <th>year</th>\n",
       "      <th>month</th>\n",
       "      <th>passengers</th>\n",
       "    </tr>\n",
       "  </thead>\n",
       "  <tbody>\n",
       "    <tr>\n",
       "      <th>0</th>\n",
       "      <td>1949</td>\n",
       "      <td>Jan</td>\n",
       "      <td>112</td>\n",
       "    </tr>\n",
       "    <tr>\n",
       "      <th>1</th>\n",
       "      <td>1949</td>\n",
       "      <td>Feb</td>\n",
       "      <td>118</td>\n",
       "    </tr>\n",
       "    <tr>\n",
       "      <th>2</th>\n",
       "      <td>1949</td>\n",
       "      <td>Mar</td>\n",
       "      <td>132</td>\n",
       "    </tr>\n",
       "    <tr>\n",
       "      <th>3</th>\n",
       "      <td>1949</td>\n",
       "      <td>Apr</td>\n",
       "      <td>129</td>\n",
       "    </tr>\n",
       "    <tr>\n",
       "      <th>4</th>\n",
       "      <td>1949</td>\n",
       "      <td>May</td>\n",
       "      <td>121</td>\n",
       "    </tr>\n",
       "  </tbody>\n",
       "</table>\n",
       "</div>"
      ],
      "text/plain": [
       "   year month  passengers\n",
       "0  1949   Jan         112\n",
       "1  1949   Feb         118\n",
       "2  1949   Mar         132\n",
       "3  1949   Apr         129\n",
       "4  1949   May         121"
      ]
     },
     "metadata": {},
     "output_type": "display_data"
    },
    {
     "data": {
      "text/plain": [
       "'Statistics of Flight'"
      ]
     },
     "metadata": {},
     "output_type": "display_data"
    },
    {
     "data": {
      "text/html": [
       "<div>\n",
       "<style scoped>\n",
       "    .dataframe tbody tr th:only-of-type {\n",
       "        vertical-align: middle;\n",
       "    }\n",
       "\n",
       "    .dataframe tbody tr th {\n",
       "        vertical-align: top;\n",
       "    }\n",
       "\n",
       "    .dataframe thead th {\n",
       "        text-align: right;\n",
       "    }\n",
       "</style>\n",
       "<table border=\"1\" class=\"dataframe\">\n",
       "  <thead>\n",
       "    <tr style=\"text-align: right;\">\n",
       "      <th></th>\n",
       "      <th>year</th>\n",
       "      <th>month</th>\n",
       "      <th>passengers</th>\n",
       "    </tr>\n",
       "  </thead>\n",
       "  <tbody>\n",
       "    <tr>\n",
       "      <th>count</th>\n",
       "      <td>144.000000</td>\n",
       "      <td>144</td>\n",
       "      <td>144.000000</td>\n",
       "    </tr>\n",
       "    <tr>\n",
       "      <th>unique</th>\n",
       "      <td>NaN</td>\n",
       "      <td>12</td>\n",
       "      <td>NaN</td>\n",
       "    </tr>\n",
       "    <tr>\n",
       "      <th>top</th>\n",
       "      <td>NaN</td>\n",
       "      <td>Jan</td>\n",
       "      <td>NaN</td>\n",
       "    </tr>\n",
       "    <tr>\n",
       "      <th>freq</th>\n",
       "      <td>NaN</td>\n",
       "      <td>12</td>\n",
       "      <td>NaN</td>\n",
       "    </tr>\n",
       "    <tr>\n",
       "      <th>mean</th>\n",
       "      <td>1954.500000</td>\n",
       "      <td>NaN</td>\n",
       "      <td>280.298611</td>\n",
       "    </tr>\n",
       "    <tr>\n",
       "      <th>std</th>\n",
       "      <td>3.464102</td>\n",
       "      <td>NaN</td>\n",
       "      <td>119.966317</td>\n",
       "    </tr>\n",
       "    <tr>\n",
       "      <th>min</th>\n",
       "      <td>1949.000000</td>\n",
       "      <td>NaN</td>\n",
       "      <td>104.000000</td>\n",
       "    </tr>\n",
       "    <tr>\n",
       "      <th>25%</th>\n",
       "      <td>1951.750000</td>\n",
       "      <td>NaN</td>\n",
       "      <td>180.000000</td>\n",
       "    </tr>\n",
       "    <tr>\n",
       "      <th>50%</th>\n",
       "      <td>1954.500000</td>\n",
       "      <td>NaN</td>\n",
       "      <td>265.500000</td>\n",
       "    </tr>\n",
       "    <tr>\n",
       "      <th>75%</th>\n",
       "      <td>1957.250000</td>\n",
       "      <td>NaN</td>\n",
       "      <td>360.500000</td>\n",
       "    </tr>\n",
       "    <tr>\n",
       "      <th>max</th>\n",
       "      <td>1960.000000</td>\n",
       "      <td>NaN</td>\n",
       "      <td>622.000000</td>\n",
       "    </tr>\n",
       "  </tbody>\n",
       "</table>\n",
       "</div>"
      ],
      "text/plain": [
       "               year month  passengers\n",
       "count    144.000000   144  144.000000\n",
       "unique          NaN    12         NaN\n",
       "top             NaN   Jan         NaN\n",
       "freq            NaN    12         NaN\n",
       "mean    1954.500000   NaN  280.298611\n",
       "std        3.464102   NaN  119.966317\n",
       "min     1949.000000   NaN  104.000000\n",
       "25%     1951.750000   NaN  180.000000\n",
       "50%     1954.500000   NaN  265.500000\n",
       "75%     1957.250000   NaN  360.500000\n",
       "max     1960.000000   NaN  622.000000"
      ]
     },
     "metadata": {},
     "output_type": "display_data"
    },
    {
     "data": {
      "text/plain": [
       "'Check Passengers Number on Flight'"
      ]
     },
     "metadata": {},
     "output_type": "display_data"
    },
    {
     "data": {
      "text/html": [
       "<div>\n",
       "<style scoped>\n",
       "    .dataframe tbody tr th:only-of-type {\n",
       "        vertical-align: middle;\n",
       "    }\n",
       "\n",
       "    .dataframe tbody tr th {\n",
       "        vertical-align: top;\n",
       "    }\n",
       "\n",
       "    .dataframe thead th {\n",
       "        text-align: right;\n",
       "    }\n",
       "</style>\n",
       "<table border=\"1\" class=\"dataframe\">\n",
       "  <thead>\n",
       "    <tr style=\"text-align: right;\">\n",
       "      <th></th>\n",
       "      <th>year</th>\n",
       "      <th>month</th>\n",
       "      <th>passengers</th>\n",
       "      <th>CheckCondition</th>\n",
       "    </tr>\n",
       "  </thead>\n",
       "  <tbody>\n",
       "    <tr>\n",
       "      <th>0</th>\n",
       "      <td>1949</td>\n",
       "      <td>Jan</td>\n",
       "      <td>112</td>\n",
       "      <td>True</td>\n",
       "    </tr>\n",
       "    <tr>\n",
       "      <th>1</th>\n",
       "      <td>1949</td>\n",
       "      <td>Feb</td>\n",
       "      <td>118</td>\n",
       "      <td>True</td>\n",
       "    </tr>\n",
       "    <tr>\n",
       "      <th>2</th>\n",
       "      <td>1949</td>\n",
       "      <td>Mar</td>\n",
       "      <td>132</td>\n",
       "      <td>True</td>\n",
       "    </tr>\n",
       "    <tr>\n",
       "      <th>3</th>\n",
       "      <td>1949</td>\n",
       "      <td>Apr</td>\n",
       "      <td>129</td>\n",
       "      <td>True</td>\n",
       "    </tr>\n",
       "    <tr>\n",
       "      <th>4</th>\n",
       "      <td>1949</td>\n",
       "      <td>May</td>\n",
       "      <td>121</td>\n",
       "      <td>True</td>\n",
       "    </tr>\n",
       "  </tbody>\n",
       "</table>\n",
       "</div>"
      ],
      "text/plain": [
       "   year month  passengers  CheckCondition\n",
       "0  1949   Jan         112            True\n",
       "1  1949   Feb         118            True\n",
       "2  1949   Mar         132            True\n",
       "3  1949   Apr         129            True\n",
       "4  1949   May         121            True"
      ]
     },
     "metadata": {},
     "output_type": "display_data"
    },
    {
     "data": {
      "text/plain": [
       "'Combine Month-Year on Flight'"
      ]
     },
     "metadata": {},
     "output_type": "display_data"
    },
    {
     "data": {
      "text/html": [
       "<div>\n",
       "<style scoped>\n",
       "    .dataframe tbody tr th:only-of-type {\n",
       "        vertical-align: middle;\n",
       "    }\n",
       "\n",
       "    .dataframe tbody tr th {\n",
       "        vertical-align: top;\n",
       "    }\n",
       "\n",
       "    .dataframe thead th {\n",
       "        text-align: right;\n",
       "    }\n",
       "</style>\n",
       "<table border=\"1\" class=\"dataframe\">\n",
       "  <thead>\n",
       "    <tr style=\"text-align: right;\">\n",
       "      <th></th>\n",
       "      <th>year</th>\n",
       "      <th>month</th>\n",
       "      <th>passengers</th>\n",
       "      <th>CheckCondition</th>\n",
       "      <th>Month-Year</th>\n",
       "    </tr>\n",
       "  </thead>\n",
       "  <tbody>\n",
       "    <tr>\n",
       "      <th>0</th>\n",
       "      <td>1949</td>\n",
       "      <td>Jan</td>\n",
       "      <td>112</td>\n",
       "      <td>True</td>\n",
       "      <td>Jan 1949</td>\n",
       "    </tr>\n",
       "    <tr>\n",
       "      <th>1</th>\n",
       "      <td>1949</td>\n",
       "      <td>Feb</td>\n",
       "      <td>118</td>\n",
       "      <td>True</td>\n",
       "      <td>Feb 1949</td>\n",
       "    </tr>\n",
       "    <tr>\n",
       "      <th>2</th>\n",
       "      <td>1949</td>\n",
       "      <td>Mar</td>\n",
       "      <td>132</td>\n",
       "      <td>True</td>\n",
       "      <td>Mar 1949</td>\n",
       "    </tr>\n",
       "    <tr>\n",
       "      <th>3</th>\n",
       "      <td>1949</td>\n",
       "      <td>Apr</td>\n",
       "      <td>129</td>\n",
       "      <td>True</td>\n",
       "      <td>Apr 1949</td>\n",
       "    </tr>\n",
       "    <tr>\n",
       "      <th>4</th>\n",
       "      <td>1949</td>\n",
       "      <td>May</td>\n",
       "      <td>121</td>\n",
       "      <td>True</td>\n",
       "      <td>May 1949</td>\n",
       "    </tr>\n",
       "  </tbody>\n",
       "</table>\n",
       "</div>"
      ],
      "text/plain": [
       "   year month  passengers  CheckCondition Month-Year\n",
       "0  1949   Jan         112            True   Jan 1949\n",
       "1  1949   Feb         118            True   Feb 1949\n",
       "2  1949   Mar         132            True   Mar 1949\n",
       "3  1949   Apr         129            True   Apr 1949\n",
       "4  1949   May         121            True   May 1949"
      ]
     },
     "metadata": {},
     "output_type": "display_data"
    },
    {
     "name": "stderr",
     "output_type": "stream",
     "text": [
      "C:\\Users\\Admin\\AppData\\Local\\Temp\\ipykernel_21904\\163073894.py:25: FutureWarning: Series.__getitem__ treating keys as positions is deprecated. In a future version, integer keys will always be treated as labels (consistent with DataFrame behavior). To access a value by position, use `ser.iloc[pos]`\n",
      "  lambda x : f\"The Flight on {x[0]}-{x[1]} have {x[2]} passengers\", axis=1\n"
     ]
    },
    {
     "data": {
      "text/plain": [
       "'Combine Month-Year on Flight'"
      ]
     },
     "metadata": {},
     "output_type": "display_data"
    },
    {
     "data": {
      "text/html": [
       "<div>\n",
       "<style scoped>\n",
       "    .dataframe tbody tr th:only-of-type {\n",
       "        vertical-align: middle;\n",
       "    }\n",
       "\n",
       "    .dataframe tbody tr th {\n",
       "        vertical-align: top;\n",
       "    }\n",
       "\n",
       "    .dataframe thead th {\n",
       "        text-align: right;\n",
       "    }\n",
       "</style>\n",
       "<table border=\"1\" class=\"dataframe\">\n",
       "  <thead>\n",
       "    <tr style=\"text-align: right;\">\n",
       "      <th></th>\n",
       "      <th>year</th>\n",
       "      <th>month</th>\n",
       "      <th>passengers</th>\n",
       "      <th>CheckCondition</th>\n",
       "      <th>Month-Year</th>\n",
       "      <th>Flight Description</th>\n",
       "    </tr>\n",
       "  </thead>\n",
       "  <tbody>\n",
       "    <tr>\n",
       "      <th>0</th>\n",
       "      <td>1949</td>\n",
       "      <td>Jan</td>\n",
       "      <td>112</td>\n",
       "      <td>True</td>\n",
       "      <td>Jan 1949</td>\n",
       "      <td>The Flight on Jan-1949 have 112 passengers</td>\n",
       "    </tr>\n",
       "    <tr>\n",
       "      <th>1</th>\n",
       "      <td>1949</td>\n",
       "      <td>Feb</td>\n",
       "      <td>118</td>\n",
       "      <td>True</td>\n",
       "      <td>Feb 1949</td>\n",
       "      <td>The Flight on Feb-1949 have 118 passengers</td>\n",
       "    </tr>\n",
       "    <tr>\n",
       "      <th>2</th>\n",
       "      <td>1949</td>\n",
       "      <td>Mar</td>\n",
       "      <td>132</td>\n",
       "      <td>True</td>\n",
       "      <td>Mar 1949</td>\n",
       "      <td>The Flight on Mar-1949 have 132 passengers</td>\n",
       "    </tr>\n",
       "    <tr>\n",
       "      <th>3</th>\n",
       "      <td>1949</td>\n",
       "      <td>Apr</td>\n",
       "      <td>129</td>\n",
       "      <td>True</td>\n",
       "      <td>Apr 1949</td>\n",
       "      <td>The Flight on Apr-1949 have 129 passengers</td>\n",
       "    </tr>\n",
       "    <tr>\n",
       "      <th>4</th>\n",
       "      <td>1949</td>\n",
       "      <td>May</td>\n",
       "      <td>121</td>\n",
       "      <td>True</td>\n",
       "      <td>May 1949</td>\n",
       "      <td>The Flight on May-1949 have 121 passengers</td>\n",
       "    </tr>\n",
       "  </tbody>\n",
       "</table>\n",
       "</div>"
      ],
      "text/plain": [
       "   year month  passengers  CheckCondition Month-Year  \\\n",
       "0  1949   Jan         112            True   Jan 1949   \n",
       "1  1949   Feb         118            True   Feb 1949   \n",
       "2  1949   Mar         132            True   Mar 1949   \n",
       "3  1949   Apr         129            True   Apr 1949   \n",
       "4  1949   May         121            True   May 1949   \n",
       "\n",
       "                           Flight Description  \n",
       "0  The Flight on Jan-1949 have 112 passengers  \n",
       "1  The Flight on Feb-1949 have 118 passengers  \n",
       "2  The Flight on Mar-1949 have 132 passengers  \n",
       "3  The Flight on Apr-1949 have 129 passengers  \n",
       "4  The Flight on May-1949 have 121 passengers  "
      ]
     },
     "metadata": {},
     "output_type": "display_data"
    }
   ],
   "source": [
    "# Question 5: Import a flight dataset from seaborns\n",
    "# A. Display Numeric and Categorical Statistics of flight dataset\n",
    "# B. Write a Function to check the flights with passengers greater than a value mean of passengers.\n",
    "# And make a column \"CheckCondition\" in dataframe\n",
    "# C. Make a column Month-Year\n",
    "# D. Make a column Description to descibe \"The Flight on month-year have N passengers\"\n",
    "\n",
    "import seaborn as sns\n",
    "flights = sns.load_dataset(\"flights\")\n",
    "display(\"Dataset Flight\", flights.head())\n",
    "Stats = flights.describe(include='all')\n",
    "display(\"Statistics of Flight\", Stats)\n",
    "\n",
    "\n",
    "def CheckCondition(value):\n",
    "    return True if value < limit else False\n",
    "\n",
    "\n",
    "limit = Stats.loc[\"mean\", \"passengers\"]\n",
    "flights[\"CheckCondition\"] = flights[\"passengers\"].apply(CheckCondition)\n",
    "display(\"Check Passengers Number on Flight\", flights.head())\n",
    "\n",
    "flights[\"Month-Year\"] = [' '.join(i)\n",
    "                         for i in zip(flights[\"month\"], flights[\"year\"].map(str))]\n",
    "display(\"Combine Month-Year on Flight\", flights.head())\n",
    "\n",
    "flights[\"Flight Description\"] = flights[['month', 'year', 'passengers']].apply(\n",
    "    lambda x: f\"The Flight on {x[0]}-{x[1]} have {x[2]} passengers\", axis=1\n",
    ")\n",
    "display(\"Combine Month-Year on Flight\", flights.head())\n"
   ]
  },
  {
   "cell_type": "code",
   "execution_count": 9,
   "metadata": {},
   "outputs": [
    {
     "data": {
      "text/plain": [
       "'Dataset'"
      ]
     },
     "metadata": {},
     "output_type": "display_data"
    },
    {
     "data": {
      "text/html": [
       "<div>\n",
       "<style scoped>\n",
       "    .dataframe tbody tr th:only-of-type {\n",
       "        vertical-align: middle;\n",
       "    }\n",
       "\n",
       "    .dataframe tbody tr th {\n",
       "        vertical-align: top;\n",
       "    }\n",
       "\n",
       "    .dataframe thead th {\n",
       "        text-align: right;\n",
       "    }\n",
       "</style>\n",
       "<table border=\"1\" class=\"dataframe\">\n",
       "  <thead>\n",
       "    <tr style=\"text-align: right;\">\n",
       "      <th></th>\n",
       "      <th>species</th>\n",
       "      <th>island</th>\n",
       "      <th>bill_length_mm</th>\n",
       "      <th>bill_depth_mm</th>\n",
       "      <th>flipper_length_mm</th>\n",
       "      <th>body_mass_g</th>\n",
       "      <th>sex</th>\n",
       "    </tr>\n",
       "  </thead>\n",
       "  <tbody>\n",
       "    <tr>\n",
       "      <th>0</th>\n",
       "      <td>Adelie</td>\n",
       "      <td>Torgersen</td>\n",
       "      <td>39.1</td>\n",
       "      <td>18.7</td>\n",
       "      <td>181.0</td>\n",
       "      <td>3750.0</td>\n",
       "      <td>Male</td>\n",
       "    </tr>\n",
       "    <tr>\n",
       "      <th>1</th>\n",
       "      <td>Adelie</td>\n",
       "      <td>Torgersen</td>\n",
       "      <td>39.5</td>\n",
       "      <td>17.4</td>\n",
       "      <td>186.0</td>\n",
       "      <td>3800.0</td>\n",
       "      <td>Female</td>\n",
       "    </tr>\n",
       "    <tr>\n",
       "      <th>2</th>\n",
       "      <td>Adelie</td>\n",
       "      <td>Torgersen</td>\n",
       "      <td>40.3</td>\n",
       "      <td>18.0</td>\n",
       "      <td>195.0</td>\n",
       "      <td>3250.0</td>\n",
       "      <td>Female</td>\n",
       "    </tr>\n",
       "    <tr>\n",
       "      <th>3</th>\n",
       "      <td>Adelie</td>\n",
       "      <td>Torgersen</td>\n",
       "      <td>NaN</td>\n",
       "      <td>NaN</td>\n",
       "      <td>NaN</td>\n",
       "      <td>NaN</td>\n",
       "      <td>NaN</td>\n",
       "    </tr>\n",
       "    <tr>\n",
       "      <th>4</th>\n",
       "      <td>Adelie</td>\n",
       "      <td>Torgersen</td>\n",
       "      <td>36.7</td>\n",
       "      <td>19.3</td>\n",
       "      <td>193.0</td>\n",
       "      <td>3450.0</td>\n",
       "      <td>Female</td>\n",
       "    </tr>\n",
       "  </tbody>\n",
       "</table>\n",
       "</div>"
      ],
      "text/plain": [
       "  species     island  bill_length_mm  bill_depth_mm  flipper_length_mm  \\\n",
       "0  Adelie  Torgersen            39.1           18.7              181.0   \n",
       "1  Adelie  Torgersen            39.5           17.4              186.0   \n",
       "2  Adelie  Torgersen            40.3           18.0              195.0   \n",
       "3  Adelie  Torgersen             NaN            NaN                NaN   \n",
       "4  Adelie  Torgersen            36.7           19.3              193.0   \n",
       "\n",
       "   body_mass_g     sex  \n",
       "0       3750.0    Male  \n",
       "1       3800.0  Female  \n",
       "2       3250.0  Female  \n",
       "3          NaN     NaN  \n",
       "4       3450.0  Female  "
      ]
     },
     "metadata": {},
     "output_type": "display_data"
    },
    {
     "name": "stdout",
     "output_type": "stream",
     "text": [
      "['Torgersen' 'Biscoe' 'Dream']\n",
      "['Adelie' 'Chinstrap' 'Gentoo']\n"
     ]
    }
   ],
   "source": [
    "# Question 6: Import a penguins dataset from seaborns\n",
    "# A. Display Numeric and Categorical Statistics of flight dataset\n",
    "# B. Write a Function to check body_mass_g greater than mean and at the island \"Dream\"\n",
    "# C Make a column Description to descibe \"Sex penguins Species live at island\n",
    "# with bill length , flipper length, bill depth and body mass_g\"\n",
    "# D. Fill the NaN value of bill_length_mm\tbill_depth_mm, flipper_length_mm, body_mass_g with mean of each\n",
    "\n",
    "import seaborn as sns\n",
    "data = sns.load_dataset(\"penguins\")\n",
    "display(\"Dataset\", data.head())\n",
    "print(data[\"island\"].unique())\n",
    "print(data[\"species\"].unique())\n"
   ]
  },
  {
   "cell_type": "code",
   "execution_count": 10,
   "metadata": {},
   "outputs": [
    {
     "name": "stdout",
     "output_type": "stream",
     "text": [
      "My name is Alex, I am from Norway\n",
      "My name is Anomyous, I am from Sweden\n",
      "My name is Tèo, I am from VietNam\n",
      "My name is Bo, I am from VietName\n",
      "My name is Anomyous, I am from Norway\n",
      "Alex  studies : English\n",
      "He knows: English\n"
     ]
    }
   ],
   "source": [
    "# Special Remember\n",
    "def my_function(name=\"Anomyous\", country=\"Norway\"):\n",
    "    print(\"My name is {}, I am from {}\".format(name, country))\n",
    "\n",
    "\n",
    "my_function(\"Alex\")\n",
    "my_function(country=\"Sweden\")\n",
    "my_function(\"Tèo\", \"VietNam\")\n",
    "my_function(country=\"VietName\", name=\"Bo\")\n",
    "my_function()\n",
    "\n",
    "Lang = \"English\"\n",
    "\n",
    "\n",
    "def StudyLanguage():\n",
    "    Name = \"Alex\"\n",
    "    print(Name, \" studies :\", Lang)\n",
    "    # Lang = \"Korean\"  # Error : UnboundLocalError: local variable 'Lang' referenced before assignment\n",
    "\n",
    "\n",
    "StudyLanguage()\n",
    "print(\"He knows:\", Lang)\n",
    "# print(Name, \" knows :\", Lang) # Error : NameError: name 'Name' is not defined\n"
   ]
  },
  {
   "cell_type": "code",
   "execution_count": 11,
   "metadata": {},
   "outputs": [
    {
     "name": "stdout",
     "output_type": "stream",
     "text": [
      "Init: Alex wear Red hat and Green trouser\n",
      "Inside House : Alex wear Yellow hat and Yellow trouser\n",
      "Outside House : Alex wear Yellow hat and Green trouser\n"
     ]
    }
   ],
   "source": [
    "Name = \"Alex\"\n",
    "HatColor = \"Red\"\n",
    "TrouserColor = \"Green\"\n",
    "\n",
    "\n",
    "def ChangeFashion():\n",
    "    global HatColor\n",
    "    HatColor = \"Yellow\"\n",
    "    TrouserColor = \"Yellow\"\n",
    "    print(\"Inside House : {} wear {} hat and {} trouser\".format(\n",
    "        Name, HatColor, TrouserColor))\n",
    "\n",
    "\n",
    "print(\"Init: {} wear {} hat and {} trouser\".format(Name, HatColor, TrouserColor))\n",
    "ChangeFashion()\n",
    "print(\"Outside House : {} wear {} hat and {} trouser\".format(\n",
    "    Name, HatColor, TrouserColor))\n"
   ]
  },
  {
   "cell_type": "code",
   "execution_count": 12,
   "metadata": {},
   "outputs": [
    {
     "name": "stdout",
     "output_type": "stream",
     "text": [
      "myfamily : \n",
      "\tThe oldest child is Tom\n",
      "\tThe youngest child is Bo\n",
      "calculation\n",
      "\tSum = 15 and Mean = 3.0\n"
     ]
    }
   ],
   "source": [
    "# Special Remember\n",
    "def myfamily(*kids):\n",
    "    print(\"\\tThe oldest child is \" + kids[0])\n",
    "    print(\"\\tThe youngest child is \" + kids[-1])\n",
    "\n",
    "\n",
    "def calculation(*numberparms):\n",
    "    sum = 0\n",
    "    for num in numberparms:\n",
    "        sum = sum + num\n",
    "    mean = sum/len(numberparms)\n",
    "    print(\"\\tSum = {} and Mean = {}\".format(sum, mean))\n",
    "    return\n",
    "\n",
    "\n",
    "print(\"myfamily : \")\n",
    "myfamily(\"Tom\", \"Teo\", \"Ti\", \"Bin\", \"Bo\")\n",
    "print(\"calculation\")\n",
    "calculation(1, 2, 3, 4, 5)\n"
   ]
  },
  {
   "cell_type": "code",
   "execution_count": 13,
   "metadata": {},
   "outputs": [
    {
     "name": "stdout",
     "output_type": "stream",
     "text": [
      "Nguyen Van A 23 Male\n",
      "Car <class 'str'>\n",
      "{'color': 'Red', 'cost': 999999, 'company': 'Ferrari'} <class 'dict'>\n",
      "(1, 2, 3, 4, 5) <class 'tuple'>\n",
      "[1, 4, 9, 16, 25] <class 'list'>\n",
      "5 <class 'int'>\n",
      "(1, 2, 3, 4, 5) <class 'tuple'>\n",
      "[1, 4, 9, 16, 25] <class 'list'>\n",
      "1 <class 'int'>\n"
     ]
    }
   ],
   "source": [
    "# Special Remember\n",
    "def registration(*info):\n",
    "    name = info[0] if not info[0] is None else \"N/A\"\n",
    "    age = info[1] if not info[1] is None else 20\n",
    "    gender = info[2] if not info[2] is None else \"Male\"\n",
    "    print(name, age, gender)\n",
    "\n",
    "\n",
    "def _object(name, **properties):\n",
    "    print(name, type(name))\n",
    "    print(properties, type(properties))\n",
    "\n",
    "\n",
    "def keyword_only(*items, _list, value=1):\n",
    "    print(items, type(items))\n",
    "    print(_list, type(_list))\n",
    "    print(value, type(value))\n",
    "\n",
    "\n",
    "inputParms = [\"Nguyen Van A\", 23, \"Male\"]\n",
    "registration(*inputParms)\n",
    "_object(\"Car\", color=\"Red\", cost=999999, company=\"Ferrari\")\n",
    "\n",
    "nums = [i ** 2 for i in range(1, 6)]\n",
    "keyword_only(1, 2, 3, 4, 5, _list=nums, value=5)\n",
    "keyword_only(1, 2, 3, 4, 5, _list=nums)\n",
    "# keyword_only(1, 2, 3, 4, 5, nums)  ==> Error because unknown nums is _list or value\n"
   ]
  },
  {
   "cell_type": "code",
   "execution_count": 14,
   "metadata": {},
   "outputs": [
    {
     "name": "stdout",
     "output_type": "stream",
     "text": [
      "15 3.0 5 1 5\n",
      "(np.int64(15), np.float64(3.0), 5, np.int64(1), np.int64(5))\n",
      "(np.int64(15), np.float64(3.0), 5, np.int64(1), np.int64(5)) <class 'tuple'>\n",
      "15\n",
      "3.0\n",
      "5\n",
      "1\n",
      "5\n"
     ]
    }
   ],
   "source": [
    "# Special Remember\n",
    "def statistics(NumList):\n",
    "    import numpy as np\n",
    "    sum = np.sum(NumList)\n",
    "    mean = np.mean(NumList)\n",
    "    count = len(NumList)\n",
    "    min = np.min(NumList)\n",
    "    max = np.max(NumList)\n",
    "    return sum, mean, count, min, max\n",
    "\n",
    "\n",
    "sum, mean, count, min, max = statistics([1, 2, 3, 4, 5])\n",
    "result = statistics([1, 2, 3, 4, 5])\n",
    "print(sum, mean, count, min, max)\n",
    "print(statistics([1, 2, 3, 4, 5]))\n",
    "print(result, type(result))\n",
    "for r in result:\n",
    "    print(r)\n"
   ]
  },
  {
   "cell_type": "code",
   "execution_count": 17,
   "metadata": {},
   "outputs": [],
   "source": [
    "\n",
    "def FindMixMax(N, start, stop):\n",
    "    import random\n",
    "    NumList = [round(random.uniform(start, stop), 2) for _ in range(N)]\n",
    "    IList = [int(num) for num in NumList]\n",
    "    DList = [round(num - int(num), 2) for num in NumList]\n",
    "    return NumList, IList, DList\n"
   ]
  },
  {
   "cell_type": "code",
   "execution_count": 18,
   "metadata": {},
   "outputs": [
    {
     "name": "stdout",
     "output_type": "stream",
     "text": [
      "Test 1\n",
      "The Integer and Decimal Part of List \n",
      "[256.02, 840.77, 437.23, 336.27, 639.5, 677.61, 577.42, 241.02, 591.36, 183.9] is \n",
      " Integer Part : [256, 840, 437, 336, 639, 677, 577, 241, 591, 183] \n",
      " Decimal Part:[0.02, 0.77, 0.23, 0.27, 0.5, 0.61, 0.42, 0.02, 0.36, 0.9]\n",
      "Test 2\n"
     ]
    },
    {
     "ename": "TypeError",
     "evalue": "FindMixMax() missing 1 required positional argument: 'stop'",
     "output_type": "error",
     "traceback": [
      "\u001b[1;31m---------------------------------------------------------------------------\u001b[0m",
      "\u001b[1;31mTypeError\u001b[0m                                 Traceback (most recent call last)",
      "Cell \u001b[1;32mIn[18], line 11\u001b[0m\n\u001b[0;32m      9\u001b[0m \u001b[38;5;66;03m# Test 2\u001b[39;00m\n\u001b[0;32m     10\u001b[0m \u001b[38;5;28mprint\u001b[39m(\u001b[38;5;124m\"\u001b[39m\u001b[38;5;124mTest 2\u001b[39m\u001b[38;5;124m\"\u001b[39m)\n\u001b[1;32m---> 11\u001b[0m NumList, IList, DList \u001b[38;5;241m=\u001b[39m \u001b[43mFindMixMax\u001b[49m\u001b[43m(\u001b[49m\u001b[43mN\u001b[49m\u001b[43m,\u001b[49m\u001b[43m \u001b[49m\u001b[43mstart\u001b[49m\u001b[43m)\u001b[49m\n\u001b[0;32m     12\u001b[0m \u001b[38;5;28mprint\u001b[39m(\u001b[38;5;124mf\u001b[39m\u001b[38;5;124m\"\u001b[39m\u001b[38;5;124mThe Integer and Decimal Part of List \u001b[39m\u001b[38;5;130;01m\\n\u001b[39;00m\u001b[38;5;132;01m{\u001b[39;00m\n\u001b[0;32m     13\u001b[0m \u001b[38;5;250m      \u001b[39mNumList\u001b[38;5;132;01m}\u001b[39;00m\u001b[38;5;124m is \u001b[39m\u001b[38;5;130;01m\\n\u001b[39;00m\u001b[38;5;124m Integer Part : \u001b[39m\u001b[38;5;132;01m{\u001b[39;00mIList\u001b[38;5;132;01m}\u001b[39;00m\u001b[38;5;124m \u001b[39m\u001b[38;5;130;01m\\n\u001b[39;00m\u001b[38;5;124m Decimal Part:\u001b[39m\u001b[38;5;132;01m{\u001b[39;00mDList\u001b[38;5;132;01m}\u001b[39;00m\u001b[38;5;124m\"\u001b[39m)\n\u001b[0;32m     15\u001b[0m \u001b[38;5;66;03m# Test 3\u001b[39;00m\n",
      "\u001b[1;31mTypeError\u001b[0m: FindMixMax() missing 1 required positional argument: 'stop'"
     ]
    }
   ],
   "source": [
    "N = 10\n",
    "start = 1\n",
    "stop = 1000\n",
    "print(\"Test 1\")\n",
    "NumList, IList, DList = FindMixMax(N, start, stop)\n",
    "print(f\"The Integer and Decimal Part of List \\n{\n",
    "      NumList} is \\n Integer Part : {IList} \\n Decimal Part:{DList}\")\n",
    "\n",
    "# Test 2\n",
    "print(\"Test 2\")\n",
    "NumList, IList, DList = FindMixMax(N, start)\n",
    "print(f\"The Integer and Decimal Part of List \\n{\n",
    "      NumList} is \\n Integer Part : {IList} \\n Decimal Part:{DList}\")\n",
    "\n",
    "# Test 3\n",
    "print(\"Test 3\")\n",
    "NumList, IList, DList = FindMixMax(N)\n",
    "print(f\"The Integer and Decimal Part of List \\n{\n",
    "      NumList} is \\n Integer Part : {IList} \\n Decimal Part:{DList}\")\n"
   ]
  },
  {
   "cell_type": "code",
   "execution_count": 19,
   "metadata": {},
   "outputs": [
    {
     "name": "stdout",
     "output_type": "stream",
     "text": [
      "8\n",
      "15\n",
      "Name : James, Major : AI Engineer and Salary 2000 USD \n"
     ]
    }
   ],
   "source": [
    "# Special Remember\n",
    "def raise_to_power(x, y): return x ** y\n",
    "def add(a): return a + 10\n",
    "\n",
    "\n",
    "def introduction(name, major):\n",
    "    return lambda salary: \"Name : {}, Major : {} and Salary {} USD \".format(name, major, salary)\n",
    "\n",
    "\n",
    "result = raise_to_power(2, 3)\n",
    "print(result)\n",
    "print(add(5))\n",
    "employee = introduction(\"James\", \"AI Engineer\")\n",
    "print(employee(2000))\n"
   ]
  },
  {
   "cell_type": "code",
   "execution_count": 20,
   "metadata": {},
   "outputs": [
    {
     "name": "stdout",
     "output_type": "stream",
     "text": [
      "Case 01\n",
      "The inside list is : ['Marry', 'Jone', 'Peter', 'Alex', 'Jame']\n",
      "The inside list is : ['Marry', 'Jone', 'Peter', 'Alex', 'Jame']\n",
      "The outside list is : ['Marry', 'Jone', 'Peter', 'Alex', 'Jame']\n",
      "The outside list is : ['Marry', 'Jone', 'Peter']\n",
      "Case 02\n",
      "The inside list is : ['Marry', 'Jone', 'Peter', 'Alex', 'Jame']\n",
      "The inside list is : ['Marry', 'Jone', 'Peter', 'Alex', 'Jame']\n",
      "The outside list is : ['Marry', 'Jone', 'Peter']\n",
      "The outside list is : ['Marry', 'Jone', 'Peter']\n"
     ]
    }
   ],
   "source": [
    "def changelist(names1=None, names2=None):\n",
    "    \"This function is to change the input variable\"\n",
    "    names1.extend([\"Alex\", \"Jame\"])\n",
    "    print(\"The inside list is :\", names1)\n",
    "    names2 = names2 + [\"Alex\", \"Jame\"]\n",
    "    print(\"The inside list is :\", names2)\n",
    "    return\n",
    "\n",
    "\n",
    "print(\"Case 01\")\n",
    "namelist1 = [\"Marry\", \"Jone\", \"Peter\"]\n",
    "namelist2 = [\"Marry\", \"Jone\", \"Peter\"]\n",
    "changelist(namelist1, namelist2)\n",
    "print(\"The outside list is :\", namelist1)\n",
    "print(\"The outside list is :\", namelist2)\n",
    "\n",
    "print(\"Case 02\")\n",
    "namelist1 = [\"Marry\", \"Jone\", \"Peter\"]\n",
    "namelist2 = [\"Marry\", \"Jone\", \"Peter\"]\n",
    "changelist(namelist1.copy(), namelist2.copy())\n",
    "print(\"The outside list is :\", namelist1)\n",
    "print(\"The outside list is :\", namelist2)\n"
   ]
  },
  {
   "cell_type": "code",
   "execution_count": 21,
   "metadata": {},
   "outputs": [
    {
     "name": "stdout",
     "output_type": "stream",
     "text": [
      "How is today ? \n",
      "How is today ? \n",
      "How is today ? \n"
     ]
    }
   ],
   "source": [
    "def changestring(str1, str2, str3):\n",
    "    str1 = \"Today is a beautiful day\"\n",
    "    str2 += \"Today is a beautiful day\"\n",
    "    str3 = str3 + \"Today is a beautiful day\"\n",
    "    return\n",
    "\n",
    "\n",
    "strInput01 = 'How is today ? '\n",
    "strInput02 = 'How is today ? '\n",
    "strInput03 = 'How is today ? '\n",
    "changestring(strInput01, strInput02, strInput03)\n",
    "print(strInput01)\n",
    "print(strInput02)\n",
    "print(strInput03)\n"
   ]
  },
  {
   "cell_type": "code",
   "execution_count": 22,
   "metadata": {},
   "outputs": [
    {
     "name": "stdout",
     "output_type": "stream",
     "text": [
      "The oldest child is Tom\n",
      "The youngest child is Bo\n",
      " - Num 1\n",
      " - Num 2\n",
      " - Num 3\n",
      " - Num 4\n",
      " - Num 5\n",
      "Sum = 15 and Mean = 3.0\n"
     ]
    }
   ],
   "source": [
    "def myfamily(*kids):\n",
    "    print(\"The oldest child is \" + kids[0])\n",
    "    print(\"The youngest child is \" + kids[-1])\n",
    "\n",
    "\n",
    "def calculation(*numberparms):\n",
    "    sum = 0\n",
    "    for num in numberparms:\n",
    "        print(\" - Num {}\".format(num))\n",
    "        sum = sum + num\n",
    "    mean = sum/len(numberparms)\n",
    "    print(\"Sum = {} and Mean = {}\".format(sum, mean))\n",
    "    return\n",
    "\n",
    "\n",
    "myfamily(\"Tom\", \"Teo\", \"Ti\", \"Bin\", \"Bo\")\n",
    "# my_function\n",
    "calculation(1, 2, 3, 4, 5)\n"
   ]
  },
  {
   "cell_type": "code",
   "execution_count": 23,
   "metadata": {},
   "outputs": [
    {
     "name": "stdout",
     "output_type": "stream",
     "text": [
      "Nguyen Van A 23 Male\n",
      "Car <class 'str'>\n",
      "{'color': 'Red', 'cost': 999999, 'company': 'Ferrari'} <class 'dict'>\n",
      "(1, 2, 3, 4, 5) <class 'tuple'>\n",
      "[1, 4, 9, 16, 25] <class 'list'>\n",
      "5 <class 'int'>\n",
      "(1, 2, 3, 4, 5) <class 'tuple'>\n",
      "[1, 4, 9, 16, 25] <class 'list'>\n",
      "1 <class 'int'>\n"
     ]
    }
   ],
   "source": [
    "def registration(*info):\n",
    "    name = info[0] if not info[0] is None else \"N/A\"\n",
    "    age = info[1] if not info[1] is None else 20\n",
    "    gender = info[2] if not info[2] is None else \"Male\"\n",
    "    print(name, age, gender)\n",
    "\n",
    "\n",
    "def _object(name, **properties):\n",
    "    print(name, type(name))\n",
    "    print(properties, type(properties))\n",
    "\n",
    "\n",
    "def keyword_only(*items, _list, value=1):\n",
    "    print(items, type(items))\n",
    "    print(_list, type(_list))\n",
    "    print(value, type(value))\n",
    "\n",
    "\n",
    "inputParms = [\"Nguyen Van A\", 23, \"Male\"]\n",
    "registration(*inputParms)\n",
    "\n",
    "\n",
    "_object(\"Car\", color=\"Red\", cost=999999, company=\"Ferrari\")\n",
    "\n",
    "nums = [i ** 2 for i in range(1, 6)]\n",
    "keyword_only(1, 2, 3, 4, 5, _list=nums, value=5)\n",
    "keyword_only(1, 2, 3, 4, 5, _list=nums)\n",
    "# keyword_only(1, 2, 3, 4, 5, nums)  ==> Error because unknown nums is _list or value\n"
   ]
  },
  {
   "cell_type": "code",
   "execution_count": 24,
   "metadata": {},
   "outputs": [
    {
     "name": "stdout",
     "output_type": "stream",
     "text": [
      "My name is Alex, I am from Norway\n",
      "My name is Anomyous, I am from Sweden\n",
      "My name is Tèo, I am from VietNam\n",
      "My name is Bo, I am from VietName\n",
      "My name is Anomyous, I am from Norway\n",
      "Alex  studies : English\n",
      "He knows: English\n"
     ]
    }
   ],
   "source": [
    "def my_function(name=\"Anomyous\", country=\"Norway\"):\n",
    "    print(\"My name is {}, I am from {}\".format(name, country))\n",
    "\n",
    "\n",
    "my_function(\"Alex\")\n",
    "my_function(country=\"Sweden\")\n",
    "my_function(\"Tèo\", \"VietNam\")\n",
    "my_function(country=\"VietName\", name=\"Bo\")\n",
    "my_function()\n",
    "\n",
    "Lang = \"English\"\n",
    "\n",
    "\n",
    "def StudyLanguage():\n",
    "    Name = \"Alex\"\n",
    "    print(Name, \" studies :\", Lang)\n",
    "    # Lang = \"Korean\"  # Error : UnboundLocalError: local variable 'Lang' referenced before assignment\n",
    "\n",
    "\n",
    "StudyLanguage()\n",
    "print(\"He knows:\", Lang)\n",
    "# print(Name, \" knows :\", Lang) # Error : NameError: name 'Name' is not defined\n"
   ]
  },
  {
   "cell_type": "code",
   "execution_count": 25,
   "metadata": {},
   "outputs": [
    {
     "name": "stdout",
     "output_type": "stream",
     "text": [
      "Init: Alex wear Red hat and Green trouser\n",
      "Inside House : Alex wear Yellow hat and Yellow trouser\n",
      "Outside House : Alex wear Yellow hat and Green trouser\n"
     ]
    }
   ],
   "source": [
    "Name = \"Alex\"\n",
    "HatColor = \"Red\"\n",
    "TrouserColor = \"Green\"\n",
    "\n",
    "\n",
    "def ChangeFashion():\n",
    "    global HatColor\n",
    "    HatColor = \"Yellow\"\n",
    "    TrouserColor = \"Yellow\"\n",
    "    print(\"Inside House : {} wear {} hat and {} trouser\".format(\n",
    "        Name, HatColor, TrouserColor))\n",
    "\n",
    "\n",
    "print(\"Init: {} wear {} hat and {} trouser\".format(Name, HatColor, TrouserColor))\n",
    "ChangeFashion()\n",
    "print(\"Outside House : {} wear {} hat and {} trouser\".format(\n",
    "    Name, HatColor, TrouserColor))\n"
   ]
  },
  {
   "cell_type": "code",
   "execution_count": 26,
   "metadata": {},
   "outputs": [
    {
     "name": "stdout",
     "output_type": "stream",
     "text": [
      "inner: nonlocal\n",
      "outer: nonlocal\n"
     ]
    }
   ],
   "source": [
    "def outer():\n",
    "    x = \"local\"\n",
    "\n",
    "    def inner():\n",
    "        nonlocal x\n",
    "        x = \"nonlocal\"\n",
    "        print(\"inner:\", x)\n",
    "    inner()\n",
    "    print(\"outer:\", x)\n",
    "\n",
    "\n",
    "outer()\n"
   ]
  },
  {
   "cell_type": "code",
   "execution_count": 27,
   "metadata": {},
   "outputs": [
    {
     "name": "stdout",
     "output_type": "stream",
     "text": [
      "15 3.0 5 1 5\n",
      "(np.int64(15), np.float64(3.0), 5, np.int64(1), np.int64(5))\n",
      "(np.int64(15), np.float64(3.0), 5, np.int64(1), np.int64(5)) <class 'tuple'>\n",
      "15\n",
      "3.0\n",
      "5\n",
      "1\n",
      "5\n"
     ]
    }
   ],
   "source": [
    "def statistics(NumList):\n",
    "    import numpy as np\n",
    "    sum = np.sum(NumList)\n",
    "    mean = np.mean(NumList)\n",
    "    count = len(NumList)\n",
    "    min = np.min(NumList)\n",
    "    max = np.max(NumList)\n",
    "    return sum, mean, count, min, max\n",
    "\n",
    "\n",
    "sum, mean, count, min, max = statistics([1, 2, 3, 4, 5])\n",
    "result = statistics([1, 2, 3, 4, 5])\n",
    "print(sum, mean, count, min, max)\n",
    "print(statistics([1, 2, 3, 4, 5]))\n",
    "print(result, type(result))\n",
    "for r in result:\n",
    "    print(r)\n"
   ]
  },
  {
   "cell_type": "code",
   "execution_count": 28,
   "metadata": {},
   "outputs": [
    {
     "name": "stdout",
     "output_type": "stream",
     "text": [
      "8\n",
      "15\n",
      "Name : James, Major : AI Engineer and Salary 2000 USD \n"
     ]
    }
   ],
   "source": [
    "def raise_to_power(x, y): return x ** y\n",
    "def add(a): return a + 10\n",
    "\n",
    "\n",
    "def introduction(name, major):\n",
    "    return lambda salary: \"Name : {}, Major : {} and Salary {} USD \".format(name, major, salary)\n",
    "\n",
    "\n",
    "result = raise_to_power(2, 3)\n",
    "print(result)\n",
    "print(add(5))\n",
    "employee = introduction(\"James\", \"AI Engineer\")\n",
    "print(employee(2000))\n"
   ]
  },
  {
   "cell_type": "code",
   "execution_count": null,
   "metadata": {},
   "outputs": [],
   "source": []
  }
 ],
 "metadata": {
  "kernelspec": {
   "display_name": "myenvironment",
   "language": "python",
   "name": "python3"
  },
  "language_info": {
   "codemirror_mode": {
    "name": "ipython",
    "version": 3
   },
   "file_extension": ".py",
   "mimetype": "text/x-python",
   "name": "python",
   "nbconvert_exporter": "python",
   "pygments_lexer": "ipython3",
   "version": "3.13.1"
  }
 },
 "nbformat": 4,
 "nbformat_minor": 2
}
