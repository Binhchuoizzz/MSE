{
 "cells": [
  {
   "cell_type": "code",
   "execution_count": 1,
   "metadata": {},
   "outputs": [],
   "source": [
    "import pandas as pd\n",
    "import numpy as np\n",
    "import json"
   ]
  },
  {
   "cell_type": "code",
   "execution_count": 2,
   "metadata": {},
   "outputs": [],
   "source": [
    "# Question 1 : Write a program to :\n",
    "# A. Input a number of programming language \n",
    "# B. Repeatly input each programming language until finish a number of programming language\n",
    "# C. Normalize each input with uppercase for the first characters and lowercase for the others"
   ]
  },
  {
   "cell_type": "markdown",
   "metadata": {},
   "source": [
    "How many programming languages you want to input : \n",
    "Finish input!\n",
    "The List of Programming Language is ['3', 'Q', 'Q']"
   ]
  },
  {
   "cell_type": "code",
   "execution_count": 3,
   "metadata": {},
   "outputs": [
    {
     "name": "stdout",
     "output_type": "stream",
     "text": [
      "{'Phone': [{'Name': 'IPhone 11', 'Price': 12390000}, {'Name': 'IPhone 12', 'Price': 27590000}, {'Name': 'Samsung Note 20', 'Price': 16899000}, {'Name': 'Samsung S21 5G', 'Price': 24900000}]}\n",
      "\n",
      "Welcome ! What kind of Phone do you want to find ?\n",
      "phone\n",
      "What Price do you want  ?\n",
      "25000000\n",
      "Here are the products we have :  \n",
      " Name : IPhone 11 and Price : 12390000\n",
      " Name : Samsung Note 20 and Price : 16899000\n",
      " Name : Samsung S21 5G and Price : 24900000\n"
     ]
    }
   ],
   "source": [
    "# Question 2 : Assign a Series of Smart Phoone and Price. Write a program to :\n",
    "# A. Ask customer want to input a price to find product \n",
    "# B. If there are any products, print the information of phone\n",
    "# C. If there are no product, print the sorry answer\n",
    "JSon_ProductSeries = \"\"\"\n",
    "{\n",
    "    \"Phone\": [\n",
    "        {\n",
    "            \"Name\": \"IPhone 11\",\n",
    "            \"Price\": 12390000\n",
    "        },\n",
    "        {\n",
    "            \"Name\": \"IPhone 12\",\n",
    "            \"Price\": 27590000\n",
    "        },\n",
    "        {\n",
    "            \"Name\": \"Samsung Note 20\",\n",
    "            \"Price\": 16899000\n",
    "        },\n",
    "        {\n",
    "            \"Name\": \"Samsung S21 5G\",\n",
    "            \"Price\": 24900000\n",
    "        }\n",
    "    ]\n",
    "}\n",
    "\"\"\"\n",
    "ProductSeries = json.loads(JSon_ProductSeries)\n",
    "print(ProductSeries)\n",
    "print()\n",
    "\n",
    "print(\"Welcome ! What kind of Phone do you want to find ?\")\n",
    "# answer = input()\n",
    "answer = \"phone\"\n",
    "print(answer)\n",
    "not_found = \"Sorry we do not have that product\"\n",
    "\n",
    "if(answer.title() in [\"Phone\", \"Iphone\", \"Samsung\"]):\n",
    "    PhoneList = ProductSeries[\"Phone\"]\n",
    "    print(\"What Price do you want  ?\")\n",
    "#     price_answer = float(input())\n",
    "    price_answer = 25000000 \n",
    "    print(price_answer)\n",
    "    recommend = \"\"\n",
    "    for one_product in PhoneList:\n",
    "        if(one_product[\"Price\"] < price_answer):\n",
    "            recommend += f'\\n Name : {one_product[\"Name\"]} and Price : {one_product[\"Price\"]}'\n",
    "    \n",
    "    if(len(recommend) == 0):\n",
    "        print(not_found)\n",
    "    else:\n",
    "        print(\"Here are the products we have : \" , recommend)\n",
    "else:\n",
    "    print(not_found)"
   ]
  },
  {
   "cell_type": "code",
   "execution_count": 22,
   "metadata": {},
   "outputs": [
    {
     "name": "stdout",
     "output_type": "stream",
     "text": [
      "The ticket price for italy is 2500\n"
     ]
    }
   ],
   "source": [
    "# Question 3 : Write a program :\n",
    "# A. Input a number of Order from Monday to Friday\n",
    "# B. Print the day of highest Order Number and lowest Order Number\n",
    "# C. Print the sum and average Order Number in a week\n",
    "\n",
    "# Question 4 : Assign a Series of Country and The Ticket Price. Write a program to :\n",
    "# A. Ask customer want to input a price to find a tour to Country or input a Country Name to find the price\n",
    "# B. If there are any found, print the information of tour\n",
    "# C. If there are no found, print the sorry answer\n",
    "\n",
    "\n",
    "tours = {\n",
    "    \"Italy\": 2500,\n",
    "    \"France\": 3000,\n",
    "    \"Japan\": 3500,\n",
    "    \"Thailand\": 3000,\n",
    "}\n",
    "choice = input(\"Would you like to search by Price or Country?\")\n",
    "\n",
    "if choice.lower() == \"price\":\n",
    "    price = int(input(\"What price would you like to search? \"))\n",
    "    for key, value in tours.items():\n",
    "        if value == price:\n",
    "            print(f\"The ticket price for {key} is {value}\")\n",
    "            break\n",
    "elif choice.lower() == \"country\":\n",
    "    country = input(\"Where would you like to go?\")\n",
    "    if country.capitalize() in tours.keys():\n",
    "        print(f\"The ticket price for {country} is {tours[country.capitalize()]}\")\n",
    "else: \n",
    "    print(\"Sorry, your input is not valid\")"
   ]
  },
  {
   "cell_type": "code",
   "execution_count": 5,
   "metadata": {},
   "outputs": [
    {
     "name": "stdout",
     "output_type": "stream",
     "text": [
      "Start Chatting between Tom and Marry \n",
      "\n"
     ]
    }
   ],
   "source": [
    "# Question 5 : Create a Chat Conversation of two person Marry and Tom \n",
    "# A . Save all conversation \n",
    "# B . Load the history of conversation of Tom\n",
    "HistChat = { \"Tom\" : [], \"Marry\" : []}\n",
    "HistChat1 = []\n",
    "HistChat2 = []\n",
    "Name1 = \"Tom\"\n",
    "Name2 = \"Marry\"\n",
    "print(f\"Start Chatting between {Name1} and {Name2} \\n\")"
   ]
  },
  {
   "cell_type": "code",
   "execution_count": 6,
   "metadata": {},
   "outputs": [
    {
     "name": "stdout",
     "output_type": "stream",
     "text": [
      "The Program is exit because you not input a number in range 0..9\n"
     ]
    }
   ],
   "source": [
    "# Question 6 : Write a program to random a number in range (0..9) and predict the random number\n",
    "# until it is correct\n",
    "import random\n",
    "luckynumber = random.randint(0, 9)\n",
    "\n",
    "while(True):\n",
    "    guess = input(\"Please input a number in range 0..9 : \")\n",
    "    if(guess.isnumeric()):\n",
    "        pass\n",
    "    else:\n",
    "        print(\"The Program is exit because you not input a number in range 0..9\")\n",
    "        break\n",
    "\n",
    "    guess = int(guess)\n",
    "    answer = ( \"Congratulations, It is a correct lucky number. You get a prize\" if (guess == luckynumber) else\n",
    "             \"Sorry, the lucky number is greater than \" + str(guess) if (guess < luckynumber) else\n",
    "             \"Sorry the lucky number is less than \" + str(guess)\n",
    "          )\n",
    "    print(answer)\n",
    "    if((\"Congratulations\" in answer) or (guess < 0)):\n",
    "        break"
   ]
  },
  {
   "cell_type": "code",
   "execution_count": 7,
   "metadata": {},
   "outputs": [],
   "source": [
    "# Question 7: Prepare a list of description of Nha Trang, Da Nang, Phu Quoc and your town. \n",
    "# Write a program to ask customer which place do you want to go. And print the description\n",
    "# of that place to customer. \n",
    "\n",
    "# Question 8: Write a program print all the primes below a number which is entered from the keyboard\n",
    "# Question 9 : Write a chat program to ask customer information about Name, BirthDate, IdentityNumber and then\n",
    "# input into all the customer profile"
   ]
  },
  {
   "cell_type": "code",
   "execution_count": 24,
   "metadata": {},
   "outputs": [
    {
     "name": "stdout",
     "output_type": "stream",
     "text": [
      "Requirement already satisfied: deep_translator in c:\\users\\binhn\\appdata\\local\\programs\\python\\python313\\lib\\site-packages (1.11.4)\n",
      "Requirement already satisfied: beautifulsoup4<5.0.0,>=4.9.1 in c:\\users\\binhn\\appdata\\local\\programs\\python\\python313\\lib\\site-packages (from deep_translator) (4.12.3)\n",
      "Requirement already satisfied: requests<3.0.0,>=2.23.0 in c:\\users\\binhn\\appdata\\local\\programs\\python\\python313\\lib\\site-packages (from deep_translator) (2.32.3)\n",
      "Requirement already satisfied: soupsieve>1.2 in c:\\users\\binhn\\appdata\\local\\programs\\python\\python313\\lib\\site-packages (from beautifulsoup4<5.0.0,>=4.9.1->deep_translator) (2.6)\n",
      "Requirement already satisfied: charset-normalizer<4,>=2 in c:\\users\\binhn\\appdata\\local\\programs\\python\\python313\\lib\\site-packages (from requests<3.0.0,>=2.23.0->deep_translator) (3.4.0)\n",
      "Requirement already satisfied: idna<4,>=2.5 in c:\\users\\binhn\\appdata\\local\\programs\\python\\python313\\lib\\site-packages (from requests<3.0.0,>=2.23.0->deep_translator) (3.10)\n",
      "Requirement already satisfied: urllib3<3,>=1.21.1 in c:\\users\\binhn\\appdata\\local\\programs\\python\\python313\\lib\\site-packages (from requests<3.0.0,>=2.23.0->deep_translator) (2.2.3)\n",
      "Requirement already satisfied: certifi>=2017.4.17 in c:\\users\\binhn\\appdata\\local\\programs\\python\\python313\\lib\\site-packages (from requests<3.0.0,>=2.23.0->deep_translator) (2024.8.30)\n",
      "Note: you may need to restart the kernel to use updated packages.\n"
     ]
    }
   ],
   "source": [
    "%pip install deep_translator"
   ]
  },
  {
   "cell_type": "code",
   "execution_count": 23,
   "metadata": {},
   "outputs": [
    {
     "name": "stdout",
     "output_type": "stream",
     "text": [
      "Xin chào thế giới!\n",
      "Welcome to the English-to-Vietnamese Translator!\n",
      "Type 'No' to stop the program.\n",
      "\n"
     ]
    }
   ],
   "source": [
    "# Question 10 : Write a program to input an English sentence and translate it into Vietnamese\n",
    "# The input will stop when the user input No \n",
    "from deep_translator import GoogleTranslator\n",
    "\n",
    "# Initialize the translator\n",
    "translator = GoogleTranslator(source='en', target='vi')\n",
    "translation = translator.translate(\"Hello, world!\")\n",
    "print(translation)\n",
    "print(\"Welcome to the English-to-Vietnamese Translator!\")\n",
    "print(\"Type 'No' to stop the program.\\n\")"
   ]
  },
  {
   "cell_type": "code",
   "execution_count": null,
   "metadata": {},
   "outputs": [
    {
     "name": "stdout",
     "output_type": "stream",
     "text": [
      "Simple Chatbot: Hello! I'm your chatbot. Type 'exit' to end the conversation.\n"
     ]
    }
   ],
   "source": [
    "print(\"Simple Chatbot: Hello! I'm your chatbot. Type 'exit' to end the conversation.\")\n",
    "\n",
    "responses = {\n",
    "    \"hello\": \"Hi there! How can I assist you today?\",\n",
    "    \"how are you\": \"I'm just a program, so I don't have feelings, but thank you for asking!\",\n",
    "    \"what is your name\": \"I'm a simple chatbot created to chat with you.\",\n",
    "    \"bye\": \"Goodbye! Have a great day!\",\n",
    "}\n",
    "\n",
    "while True:\n",
    "    user_input = input(\"You: \").strip().lower()  # Get user input, convert to lowercase\n",
    "    if user_input == \"exit\":\n",
    "        print(\"Chatbot: It was nice talking to you. Goodbye!\")\n",
    "        break\n",
    "\n",
    "    # Find a matching response\n",
    "    response = responses.get(user_input, \"I'm sorry, I didn't understand that.\")\n",
    "    print(f\"Chatbot: {response}\")"
   ]
  },
  {
   "cell_type": "code",
   "execution_count": 1,
   "metadata": {},
   "outputs": [
    {
     "name": "stdout",
     "output_type": "stream",
     "text": [
      "Hello Joe\n",
      "I don't know who you are!\n",
      "Hello Fred\n",
      "I don't know who you are!\n",
      "[0, 1]  has  2  elements\n"
     ]
    },
    {
     "ename": "ValueError",
     "evalue": "invalid literal for int() with base 10: ''",
     "output_type": "error",
     "traceback": [
      "\u001b[1;31m---------------------------------------------------------------------------\u001b[0m",
      "\u001b[1;31mValueError\u001b[0m                                Traceback (most recent call last)",
      "Cell \u001b[1;32mIn[1], line 18\u001b[0m\n\u001b[0;32m     15\u001b[0m \u001b[38;5;28mprint\u001b[39m(\u001b[38;5;124m\"\u001b[39m\u001b[38;5;124mI don\u001b[39m\u001b[38;5;124m'\u001b[39m\u001b[38;5;124mt know who you are!\u001b[39m\u001b[38;5;124m\"\u001b[39m \u001b[38;5;28;01mif\u001b[39;00m a_name \u001b[38;5;129;01mnot\u001b[39;00m \u001b[38;5;129;01min\u001b[39;00m \u001b[38;5;28mlist\u001b[39m(names\u001b[38;5;241m.\u001b[39mkeys()) \u001b[38;5;28;01melse\u001b[39;00m names[a_name])\n\u001b[0;32m     17\u001b[0m \u001b[38;5;28;01mwhile\u001b[39;00m(\u001b[38;5;28;01mTrue\u001b[39;00m):\n\u001b[1;32m---> 18\u001b[0m     n \u001b[38;5;241m=\u001b[39m \u001b[38;5;28;43mint\u001b[39;49m\u001b[43m(\u001b[49m\u001b[38;5;28;43minput\u001b[39;49m\u001b[43m(\u001b[49m\u001b[38;5;124;43m\"\u001b[39;49m\u001b[38;5;124;43mPlease input a number to make a range list :\u001b[39;49m\u001b[38;5;124;43m\"\u001b[39;49m\u001b[43m)\u001b[49m\u001b[43m)\u001b[49m\n\u001b[0;32m     19\u001b[0m     \u001b[38;5;28;01mif\u001b[39;00m n \u001b[38;5;241m<\u001b[39m \u001b[38;5;241m1\u001b[39m: NumList \u001b[38;5;241m=\u001b[39m []; \u001b[38;5;28mprint\u001b[39m(NumList, \u001b[38;5;124m\"\u001b[39m\u001b[38;5;124m is empty\u001b[39m\u001b[38;5;124m\"\u001b[39m); \u001b[38;5;28;01mbreak\u001b[39;00m;\n\u001b[0;32m     20\u001b[0m     \u001b[38;5;28;01melif\u001b[39;00m n \u001b[38;5;241m<\u001b[39m \u001b[38;5;241m10\u001b[39m:  NumList \u001b[38;5;241m=\u001b[39m \u001b[38;5;28mlist\u001b[39m(\u001b[38;5;28mrange\u001b[39m(n)); \u001b[38;5;28mprint\u001b[39m(NumList, \u001b[38;5;124m\"\u001b[39m\u001b[38;5;124m has \u001b[39m\u001b[38;5;124m\"\u001b[39m, \u001b[38;5;28mlen\u001b[39m(NumList) , \u001b[38;5;124m\"\u001b[39m\u001b[38;5;124m elements\u001b[39m\u001b[38;5;124m\"\u001b[39m)\n",
      "\u001b[1;31mValueError\u001b[0m: invalid literal for int() with base 10: ''"
     ]
    }
   ],
   "source": [
    "# Special Remember\n",
    "names = {'Fred': 'Hello Fred', \n",
    "         'Xander': 'Hello Xander',\n",
    "         'Joe': 'Hello Joe',\n",
    "         'Arnold': 'Hello Arnold'\n",
    "         }\n",
    "a_name = \"Joe\"\n",
    "print(names.get(a_name, \"I don't know who you are!\"))\n",
    "a_name = \"Rick\"\n",
    "print(names.get(a_name, \"I don't know who you are!\"))\n",
    "a_name = \"Fred\"\n",
    "answer = \"I don't know who you are!\" if a_name not in list(names.keys()) else names[a_name]\n",
    "print(answer)\n",
    "a_name = \"Mary\"\n",
    "print(\"I don't know who you are!\" if a_name not in list(names.keys()) else names[a_name])\n",
    "\n",
    "while(True):\n",
    "    n = int(input(\"Please input a number to make a range list :\"))\n",
    "    if n < 1: NumList = []; print(NumList, \" is empty\"); break;\n",
    "    elif n < 10:  NumList = list(range(n)); print(NumList, \" has \", len(NumList) , \" elements\")\n",
    "    else: NumList = list(range(10)); print(NumList, \" has maximum 10 elements\")"
   ]
  },
  {
   "cell_type": "code",
   "execution_count": 2,
   "metadata": {},
   "outputs": [
    {
     "name": "stdout",
     "output_type": "stream",
     "text": [
      "Sorry you input wrong name of day in week\n"
     ]
    }
   ],
   "source": [
    "# Special Remember\n",
    "import numpy as np\n",
    "DayOfWeekList = [\"Monday\", \"Tuesday\", \"Wednesday\", \"Thursday\", \"Friday\", \"Saturday\", \"Sunday\"]\n",
    "\n",
    "while(True):\n",
    "    day = input(\"Please input a day in week :\")\n",
    "    index = DayOfWeekList.index(day) if day in DayOfWeekList else None \n",
    "\n",
    "    if index is None:\n",
    "        print(\"Sorry you input wrong name of day in week\")\n",
    "        break\n",
    "    elif index in range(0, 5):\n",
    "        print(day , \"is a working day\")\n",
    "    else:\n",
    "        print(day , \"is a weekend\")"
   ]
  },
  {
   "cell_type": "code",
   "execution_count": null,
   "metadata": {},
   "outputs": [],
   "source": []
  }
 ],
 "metadata": {
  "kernelspec": {
   "display_name": "Python 3",
   "language": "python",
   "name": "python3"
  },
  "language_info": {
   "codemirror_mode": {
    "name": "ipython",
    "version": 3
   },
   "file_extension": ".py",
   "mimetype": "text/x-python",
   "name": "python",
   "nbconvert_exporter": "python",
   "pygments_lexer": "ipython3",
   "version": "3.13.1"
  }
 },
 "nbformat": 4,
 "nbformat_minor": 2
}
