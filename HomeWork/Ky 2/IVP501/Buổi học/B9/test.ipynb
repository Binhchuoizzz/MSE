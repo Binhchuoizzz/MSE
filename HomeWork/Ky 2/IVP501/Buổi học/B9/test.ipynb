{
 "cells": [
  {
   "cell_type": "code",
   "execution_count": 1,
   "id": "cb919749",
   "metadata": {},
   "outputs": [],
   "source": [
    "import cv2\n",
    "import matplotlib.pyplot as plt\n"
   ]
  },
  {
   "cell_type": "code",
   "execution_count": 7,
   "id": "39393e10",
   "metadata": {},
   "outputs": [
    {
     "data": {
      "text/plain": [
       "-1"
      ]
     },
     "execution_count": 7,
     "metadata": {},
     "output_type": "execute_result"
    }
   ],
   "source": [
    "img = cv2.imread(r'D:\\MSE\\HomeWork\\Ky 2\\IVP501\\Test\\IMG\\c8ce1fdabee00bbe52f18.jpg')\n",
    "cv2.imshow('friend',img)\n",
    "cv2.waitKey(0)"
   ]
  },
  {
   "cell_type": "code",
   "execution_count": 8,
   "id": "90a946c5",
   "metadata": {},
   "outputs": [],
   "source": [
    "import cv2\n",
    "\n",
    "# Dùng đường dẫn tuyệt đối từ cv2\n",
    "xml_path = cv2.data.haarcascades + 'haarcascade_frontalface_default.xml'\n",
    "detector = cv2.CascadeClassifier(xml_path)\n",
    "\n",
    "# Kiểm tra xem đã load thành công chưa\n",
    "if detector.empty():\n",
    "    raise IOError(f\"Không thể load CascadeClassifier từ {xml_path}\")\n"
   ]
  },
  {
   "cell_type": "code",
   "execution_count": 9,
   "id": "7c87cf18",
   "metadata": {},
   "outputs": [],
   "source": [
    "face_detection = detector.detectMultiScale(img)"
   ]
  },
  {
   "cell_type": "code",
   "execution_count": 10,
   "id": "d9af3773",
   "metadata": {},
   "outputs": [
    {
     "name": "stdout",
     "output_type": "stream",
     "text": [
      "[[332 114  89  89]\n",
      " [713 177  79  79]\n",
      " [154 267  96  96]\n",
      " [825 831  88  88]\n",
      " [856 847  86  86]]\n"
     ]
    }
   ],
   "source": [
    "print(face_detection)"
   ]
  },
  {
   "cell_type": "code",
   "execution_count": 11,
   "id": "0572ceb0",
   "metadata": {},
   "outputs": [
    {
     "data": {
      "text/plain": [
       "-1"
      ]
     },
     "execution_count": 11,
     "metadata": {},
     "output_type": "execute_result"
    }
   ],
   "source": [
    "for(x,y,w,h) in face_detection:\n",
    "     cv2.rectangle(img,(x,y), (x+w,y+h),(0,255,0),2)\n",
    "cv2.imshow('friend',img)\n",
    "cv2.waitKey(0)"
   ]
  },
  {
   "cell_type": "code",
   "execution_count": null,
   "id": "416d6faf",
   "metadata": {},
   "outputs": [],
   "source": []
  }
 ],
 "metadata": {
  "kernelspec": {
   "display_name": "Python 3",
   "language": "python",
   "name": "python3"
  },
  "language_info": {
   "codemirror_mode": {
    "name": "ipython",
    "version": 3
   },
   "file_extension": ".py",
   "mimetype": "text/x-python",
   "name": "python",
   "nbconvert_exporter": "python",
   "pygments_lexer": "ipython3",
   "version": "3.12.8"
  }
 },
 "nbformat": 4,
 "nbformat_minor": 5
}
