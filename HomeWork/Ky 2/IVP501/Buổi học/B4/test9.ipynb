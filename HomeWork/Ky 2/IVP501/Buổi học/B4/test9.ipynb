{
 "cells": [
  {
   "cell_type": "markdown",
   "id": "80bfa298",
   "metadata": {},
   "source": [
    "🟩 1. Translation (Tịnh tiến)\n"
   ]
  },
  {
   "cell_type": "code",
   "execution_count": null,
   "id": "63701b09",
   "metadata": {},
   "outputs": [],
   "source": [
    "import cv2\n",
    "import numpy as np\n",
    "\n",
    "img = cv2.imread('input.jpg')\n",
    "rows, cols = img.shape[:2]\n",
    "\n",
    "# Ma trận tịnh tiến: sang phải 50, xuống 30\n",
    "M = np.float32([[1, 0, 50], [0, 1, 30]])\n",
    "translated = cv2.warpAffine(img, M, (cols, rows))\n",
    "\n",
    "cv2.imwrite('translated.jpg', translated)\n"
   ]
  },
  {
   "cell_type": "markdown",
   "id": "76179dff",
   "metadata": {},
   "source": [
    "🟦 2. Euclidean (Rigid Transform: Xoay + tịnh tiến)\n"
   ]
  },
  {
   "cell_type": "code",
   "execution_count": null,
   "id": "2a10bc7a",
   "metadata": {},
   "outputs": [],
   "source": [
    "# Xoay 45 độ quanh tâm ảnh, scale = 1\n",
    "center = (cols // 2, rows // 2)\n",
    "M = cv2.getRotationMatrix2D(center, angle=45, scale=1.0)\n",
    "rotated = cv2.warpAffine(img, M, (cols, rows))\n",
    "\n",
    "cv2.imwrite('rigid_transform.jpg', rotated)\n"
   ]
  },
  {
   "cell_type": "markdown",
   "id": "6202fe3b",
   "metadata": {},
   "source": [
    "🟨 3. Similarity (Xoay + scale + tịnh tiến)\n"
   ]
  },
  {
   "cell_type": "code",
   "execution_count": null,
   "id": "37e01d33",
   "metadata": {},
   "outputs": [],
   "source": [
    "# 3 điểm trước và sau để tính similarity\n",
    "pts1 = np.float32([[50, 50], [200, 50], [50, 200]])\n",
    "pts2 = np.float32([[70, 70], [230, 60], [70, 230]])\n",
    "\n",
    "M = cv2.estimateAffinePartial2D(pts1, pts2)[0]\n",
    "similarity = cv2.warpAffine(img, M, (cols, rows))\n",
    "\n",
    "cv2.imwrite('similarity.jpg', similarity)\n"
   ]
  },
  {
   "cell_type": "markdown",
   "id": "2b744948",
   "metadata": {},
   "source": [
    "🟧 4. Affine (Biến đổi tuyến tính tổng quát)\n"
   ]
  },
  {
   "cell_type": "code",
   "execution_count": null,
   "id": "b429dede",
   "metadata": {},
   "outputs": [],
   "source": [
    "# 3 điểm bất kỳ\n",
    "pts1 = np.float32([[50, 50], [200, 50], [50, 200]])\n",
    "pts2 = np.float32([[10, 100], [200, 50], [100, 250]])\n",
    "\n",
    "M = cv2.getAffineTransform(pts1, pts2)\n",
    "affine = cv2.warpAffine(img, M, (cols, rows))\n",
    "\n",
    "cv2.imwrite('affine.jpg', affine)\n"
   ]
  },
  {
   "cell_type": "markdown",
   "id": "063089a5",
   "metadata": {},
   "source": [
    "🟥 5. Projective (Phép biến đổi phối cảnh – Perspective)\n",
    "python\n",
    "Sao chép\n",
    "Chỉnh sửa\n"
   ]
  },
  {
   "cell_type": "code",
   "execution_count": null,
   "id": "55662c14",
   "metadata": {},
   "outputs": [],
   "source": [
    "# 4 điểm tương ứng cho perspective transform\n",
    "pts1 = np.float32([[0, 0], [300, 0], [0, 300], [300, 300]])\n",
    "pts2 = np.float32([[10, 50], [280, 10], [50, 290], [290, 290]])\n",
    "\n",
    "M = cv2.getPerspectiveTransform(pts1, pts2)\n",
    "perspective = cv2.warpPerspective(img, M, (cols, rows))\n",
    "\n",
    "cv2.imwrite('projective.jpg', perspective)\n"
   ]
  },
  {
   "cell_type": "markdown",
   "id": "09f359fd",
   "metadata": {},
   "source": [
    "❌ 1. Forward Warping (Tự viết – dễ gây lỗi “holes”)\n"
   ]
  },
  {
   "cell_type": "code",
   "execution_count": null,
   "id": "4515279a",
   "metadata": {},
   "outputs": [],
   "source": [
    "import cv2\n",
    "import numpy as np\n",
    "\n",
    "\n",
    "def forward_warping(img, M, output_shape):\n",
    "    h, w = img.shape[:2]\n",
    "    output = np.zeros((output_shape[1], output_shape[0], 3), dtype=np.uint8)\n",
    "\n",
    "    for y in range(h):\n",
    "        for x in range(w):\n",
    "            src_pos = np.array([x, y, 1])\n",
    "            dst_pos = M @ src_pos\n",
    "            dst_x, dst_y = int(dst_pos[0]), int(dst_pos[1])\n",
    "            if 0 <= dst_x < output_shape[0] and 0 <= dst_y < output_shape[1]:\n",
    "                output[dst_y, dst_x] = img[y, x]\n",
    "\n",
    "    return output\n",
    "\n",
    "\n",
    "# Ví dụ sử dụng\n",
    "img = cv2.imread('input.jpg')\n",
    "rows, cols = img.shape[:2]\n",
    "# Ma trận dịch phải 50px, xuống 30px\n",
    "M = np.array([[1, 0, 50], [0, 1, 30], [0, 0, 1]])\n",
    "\n",
    "warped = forward_warping(img, M, (cols + 100, rows + 100))\n",
    "cv2.imwrite('forward_warping.jpg', warped)\n"
   ]
  },
  {
   "cell_type": "markdown",
   "id": "cb868caf",
   "metadata": {},
   "source": [
    "✅ 2. Inverse Warping (Chuẩn bài – dùng nội suy)\n"
   ]
  },
  {
   "cell_type": "code",
   "execution_count": null,
   "id": "3ce91d66",
   "metadata": {},
   "outputs": [],
   "source": [
    "def inverse_warping(img, M_inv, output_shape):\n",
    "    h_out, w_out = output_shape\n",
    "    output = np.zeros((h_out, w_out, 3), dtype=np.uint8)\n",
    "\n",
    "    for y in range(h_out):\n",
    "        for x in range(w_out):\n",
    "            dst_pos = np.array([x, y, 1])\n",
    "            src_pos = M_inv @ dst_pos\n",
    "            src_x, src_y = src_pos[0], src_pos[1]\n",
    "\n",
    "            if 0 <= src_x < img.shape[1]-1 and 0 <= src_y < img.shape[0]-1:\n",
    "                # Bilinear interpolation\n",
    "                x0, y0 = int(src_x), int(src_y)\n",
    "                dx, dy = src_x - x0, src_y - y0\n",
    "                val = (1 - dx) * (1 - dy) * img[y0, x0] + \\\n",
    "                    dx * (1 - dy) * img[y0, x0+1] + \\\n",
    "                    (1 - dx) * dy * img[y0+1, x0] + \\\n",
    "                    dx * dy * img[y0+1, x0+1]\n",
    "                output[y, x] = np.clip(val, 0, 255)\n",
    "\n",
    "    return output\n",
    "\n",
    "\n",
    "# Sử dụng:\n",
    "img = cv2.imread('input.jpg')\n",
    "rows, cols = img.shape[:2]\n",
    "# Ma trận dịch: phải 50, xuống 30\n",
    "M = np.array([[1, 0, 50], [0, 1, 30], [0, 0, 1]])\n",
    "M_inv = np.linalg.inv(M)\n",
    "\n",
    "warped_inv = inverse_warping(img, M_inv, (rows + 100, cols + 100))\n",
    "cv2.imwrite('inverse_warping.jpg', warped_inv)\n"
   ]
  }
 ],
 "metadata": {
  "kernelspec": {
   "display_name": "myenv_py310",
   "language": "python",
   "name": "python3"
  },
  "language_info": {
   "name": "python",
   "version": "3.10.16"
  }
 },
 "nbformat": 4,
 "nbformat_minor": 5
}
