{
 "cells": [
  {
   "cell_type": "markdown",
   "id": "412307e2",
   "metadata": {},
   "source": [
    "Lab 1 - Geometric primitives and transformations\n"
   ]
  },
  {
   "cell_type": "markdown",
   "id": "2bd0c455",
   "metadata": {},
   "source": [
    "(dịch chuyển, xoay, co giãn)\n"
   ]
  },
  {
   "cell_type": "code",
   "execution_count": 4,
   "id": "bc4b4ee3",
   "metadata": {},
   "outputs": [
    {
     "name": "stdout",
     "output_type": "stream",
     "text": [
      "Requirement already satisfied: opencv-python in c:\\users\\admin\\miniconda3\\envs\\myenv_py310\\lib\\site-packages (4.11.0.86)\n",
      "Requirement already satisfied: numpy>=1.21.2 in c:\\users\\admin\\miniconda3\\envs\\myenv_py310\\lib\\site-packages (from opencv-python) (1.26.4)\n",
      "Requirement already satisfied: matplotlib in c:\\users\\admin\\miniconda3\\envs\\myenv_py310\\lib\\site-packages (3.10.1)\n",
      "Requirement already satisfied: contourpy>=1.0.1 in c:\\users\\admin\\miniconda3\\envs\\myenv_py310\\lib\\site-packages (from matplotlib) (1.3.1)\n",
      "Requirement already satisfied: cycler>=0.10 in c:\\users\\admin\\miniconda3\\envs\\myenv_py310\\lib\\site-packages (from matplotlib) (0.12.1)\n",
      "Requirement already satisfied: fonttools>=4.22.0 in c:\\users\\admin\\miniconda3\\envs\\myenv_py310\\lib\\site-packages (from matplotlib) (4.56.0)\n",
      "Requirement already satisfied: kiwisolver>=1.3.1 in c:\\users\\admin\\miniconda3\\envs\\myenv_py310\\lib\\site-packages (from matplotlib) (1.4.8)\n",
      "Requirement already satisfied: numpy>=1.23 in c:\\users\\admin\\miniconda3\\envs\\myenv_py310\\lib\\site-packages (from matplotlib) (1.26.4)\n",
      "Requirement already satisfied: packaging>=20.0 in c:\\users\\admin\\miniconda3\\envs\\myenv_py310\\lib\\site-packages (from matplotlib) (24.2)\n",
      "Requirement already satisfied: pillow>=8 in c:\\users\\admin\\miniconda3\\envs\\myenv_py310\\lib\\site-packages (from matplotlib) (11.1.0)\n",
      "Requirement already satisfied: pyparsing>=2.3.1 in c:\\users\\admin\\miniconda3\\envs\\myenv_py310\\lib\\site-packages (from matplotlib) (3.2.3)\n",
      "Requirement already satisfied: python-dateutil>=2.7 in c:\\users\\admin\\miniconda3\\envs\\myenv_py310\\lib\\site-packages (from matplotlib) (2.9.0.post0)\n",
      "Requirement already satisfied: six>=1.5 in c:\\users\\admin\\miniconda3\\envs\\myenv_py310\\lib\\site-packages (from python-dateutil>=2.7->matplotlib) (1.17.0)\n"
     ]
    }
   ],
   "source": [
    "!pip install opencv-python\n",
    "!pip install matplotlib\n"
   ]
  },
  {
   "cell_type": "code",
   "execution_count": null,
   "id": "cda704e3",
   "metadata": {},
   "outputs": [],
   "source": [
    "import numpy as np\n",
    "import cv2\n",
    "\n",
    "# Global state\n",
    "drawing = False\n",
    "rect_start = (-1, -1)\n",
    "rect_end = (-1, -1)\n",
    "image = np.ones((720, 1280, 3), dtype=np.uint8) * 255\n",
    "image_backup = image.copy()\n",
    "rectangle_drawn = False\n",
    "\n",
    "# Helper: draw grid\n",
    "\n",
    "\n",
    "def draw_grid(img, step=100):\n",
    "    for x in range(0, img.shape[1], step):\n",
    "        cv2.line(img, (x, 0), (x, img.shape[0]), (200, 200, 200), 1)\n",
    "        cv2.putText(img, f\"{x}\", (x+2, 20),\n",
    "                    cv2.FONT_HERSHEY_SIMPLEX, 0.4, (100, 100, 100), 1)\n",
    "    for y in range(0, img.shape[0], step):\n",
    "        cv2.line(img, (0, y), (img.shape[1], y), (200, 200, 200), 1)\n",
    "        cv2.putText(img, f\"{y}\", (2, y-2),\n",
    "                    cv2.FONT_HERSHEY_SIMPLEX, 0.4, (100, 100, 100), 1)\n",
    "\n",
    "# Mouse event handler\n",
    "\n",
    "\n",
    "def draw_rectangle(event, x, y, flags, param):\n",
    "    global drawing, rect_start, rect_end, image, image_backup, rectangle_drawn\n",
    "\n",
    "    if rectangle_drawn:\n",
    "        return\n",
    "\n",
    "    if event == cv2.EVENT_LBUTTONDOWN:\n",
    "        drawing = True\n",
    "        rect_start = (x, y)\n",
    "\n",
    "    elif event == cv2.EVENT_MOUSEMOVE and drawing:\n",
    "        temp = image.copy()\n",
    "        cv2.rectangle(temp, rect_start, (x, y), (0, 0, 255), 2)\n",
    "        draw_grid(temp)\n",
    "        cv2.imshow(\"Draw Rectangle\", temp)\n",
    "\n",
    "    elif event == cv2.EVENT_LBUTTONUP:\n",
    "        drawing = False\n",
    "        rect_end = (x, y)\n",
    "        rectangle_drawn = True\n",
    "        cv2.rectangle(image, rect_start, rect_end, (0, 0, 255), 2)\n",
    "        cv2.putText(image, f\"P1{rect_start}\", (rect_start[0]+5, rect_start[1]-10),\n",
    "                    cv2.FONT_HERSHEY_SIMPLEX, 0.6, (0, 0, 0), 2)\n",
    "        cv2.putText(image, f\"P2{rect_end}\", (rect_end[0]+5, rect_end[1]+20),\n",
    "                    cv2.FONT_HERSHEY_SIMPLEX, 0.6, (0, 0, 0), 2)\n",
    "        image_backup = image.copy()\n",
    "        draw_grid(image)\n",
    "        cv2.imshow(\"Draw Rectangle\", image)\n",
    "\n",
    "# Transformations\n",
    "\n",
    "\n",
    "def apply_translation(img, start, end, dx, dy):\n",
    "    trans_start = (start[0] + dx, start[1] + dy)\n",
    "    trans_end = (end[0] + dx, end[1] + dy)\n",
    "    cv2.rectangle(img, trans_start, trans_end, (0, 255, 0), 2)\n",
    "    cv2.putText(img, f\"T1{trans_start}\", (trans_start[0]+5, trans_start[1]-10),\n",
    "                cv2.FONT_HERSHEY_SIMPLEX, 0.6, (0, 128, 0), 2)\n",
    "    cv2.putText(img, f\"T2{trans_end}\", (trans_end[0]+5, trans_end[1]+20),\n",
    "                cv2.FONT_HERSHEY_SIMPLEX, 0.6, (0, 128, 0), 2)\n",
    "\n",
    "\n",
    "def apply_rotation(img, start, end, angle_deg):\n",
    "    cx = (start[0] + end[0]) / 2\n",
    "    cy = (start[1] + end[1]) / 2\n",
    "    angle = np.radians(angle_deg)\n",
    "\n",
    "    corners = np.array([\n",
    "        [start[0], start[1]],\n",
    "        [end[0], start[1]],\n",
    "        [end[0], end[1]],\n",
    "        [start[0], end[1]]\n",
    "    ])\n",
    "\n",
    "    R = np.array([\n",
    "        [np.cos(angle), -np.sin(angle)],\n",
    "        [np.sin(angle),  np.cos(angle)]\n",
    "    ])\n",
    "\n",
    "    rotated = []\n",
    "    for pt in corners:\n",
    "        shifted = pt - [cx, cy]\n",
    "        rotated_pt = R @ shifted + [cx, cy]\n",
    "        rotated.append(rotated_pt)\n",
    "    rotated = np.int32(rotated)\n",
    "\n",
    "    cv2.polylines(img, [rotated], True, (255, 0, 0), 2)\n",
    "    cv2.putText(img, f\"R1{tuple(rotated[0])}\", rotated[0] + [0, -10],\n",
    "                cv2.FONT_HERSHEY_SIMPLEX, 0.6, (255, 0, 0), 2)\n",
    "    cv2.putText(img, f\"R3{tuple(rotated[2])}\", rotated[2] + [0, 20],\n",
    "                cv2.FONT_HERSHEY_SIMPLEX, 0.6, (255, 0, 0), 2)\n",
    "\n",
    "\n",
    "def apply_scaling(img, start, end, sx, sy):\n",
    "    cx = (start[0] + end[0]) / 2\n",
    "    cy = (start[1] + end[1]) / 2\n",
    "\n",
    "    corners = np.array([\n",
    "        [start[0], start[1]],\n",
    "        [end[0], start[1]],\n",
    "        [end[0], end[1]],\n",
    "        [start[0], end[1]]\n",
    "    ])\n",
    "\n",
    "    scaled = []\n",
    "    for pt in corners:\n",
    "        shifted = pt - [cx, cy]\n",
    "        scaled_pt = shifted * [sx, sy] + [cx, cy]\n",
    "        scaled.append(scaled_pt)\n",
    "    scaled = np.int32(scaled)\n",
    "\n",
    "    cv2.polylines(img, [scaled], True, (0, 0, 0), 2)\n",
    "    cv2.putText(img, f\"S1{tuple(scaled[0])}\", scaled[0] + [0, -10],\n",
    "                cv2.FONT_HERSHEY_SIMPLEX, 0.6, (0, 0, 0), 2)\n",
    "    cv2.putText(img, f\"S3{tuple(scaled[2])}\", scaled[2] + [0, 20],\n",
    "                cv2.FONT_HERSHEY_SIMPLEX, 0.6, (0, 0, 0), 2)\n",
    "\n",
    "\n",
    "# Run GUI\n",
    "cv2.namedWindow(\"Draw Rectangle\")\n",
    "cv2.setMouseCallback(\"Draw Rectangle\", draw_rectangle)\n",
    "draw_grid(image)\n",
    "cv2.imshow(\"Draw Rectangle\", image)\n",
    "\n",
    "cv2.waitKey(0)\n",
    "cv2.destroyAllWindows()\n"
   ]
  },
  {
   "cell_type": "markdown",
   "id": "e22b94e4",
   "metadata": {},
   "source": [
    "Ví dụ: Thầy chạy từng phần dưới để xem kết quả nhé!\n"
   ]
  },
  {
   "cell_type": "markdown",
   "id": "20c04fb4",
   "metadata": {},
   "source": [
    "Ghi chú tọa độ:\n",
    "\n",
    "T1, T2 là 2 điểm sau khi dịch chuyển\n",
    "\n",
    "R1, R3 là 2 điểm sau khi xoay (đường chéo)\n",
    "\n",
    "S1, S3 là 2 điểm sau khi co giãn\n"
   ]
  },
  {
   "cell_type": "code",
   "execution_count": null,
   "id": "7633081f",
   "metadata": {},
   "outputs": [
    {
     "data": {
      "text/plain": [
       "-1"
      ]
     },
     "execution_count": 30,
     "metadata": {},
     "output_type": "execute_result"
    }
   ],
   "source": [
    "# Di chuyển 100px sang phải và 50px xuống dưới\n",
    "img2 = image_backup.copy()\n",
    "apply_translation(img2, rect_start, rect_end, 100, 50)\n",
    "draw_grid(img2)\n",
    "cv2.imshow(\"Draw Rectangle\", img2)\n",
    "cv2.waitKey(0)\n"
   ]
  },
  {
   "cell_type": "code",
   "execution_count": null,
   "id": "23eb4139",
   "metadata": {},
   "outputs": [
    {
     "data": {
      "text/plain": [
       "-1"
      ]
     },
     "execution_count": 28,
     "metadata": {},
     "output_type": "execute_result"
    }
   ],
   "source": [
    "# Xoay 30 độ:\n",
    "img2 = image_backup.copy()\n",
    "apply_rotation(img2, rect_start, rect_end, 30)\n",
    "draw_grid(img2)\n",
    "cv2.imshow(\"Draw Rectangle\", img2)\n",
    "cv2.waitKey(0)\n"
   ]
  },
  {
   "cell_type": "code",
   "execution_count": null,
   "id": "19c82000",
   "metadata": {},
   "outputs": [
    {
     "data": {
      "text/plain": [
       "-1"
      ]
     },
     "execution_count": 31,
     "metadata": {},
     "output_type": "execute_result"
    }
   ],
   "source": [
    "# Tỷ lệ 1,5x theo chiều ngang, 0,5x theo chiều dọc:\n",
    "img2 = image_backup.copy()\n",
    "apply_scaling(img2, rect_start, rect_end, 1.5, 0.5)\n",
    "draw_grid(img2)\n",
    "cv2.imshow(\"Draw Rectangle\", img2)\n",
    "cv2.waitKey(0)\n"
   ]
  },
  {
   "cell_type": "markdown",
   "id": "55022cc1",
   "metadata": {},
   "source": [
    "Test thêm 2 trường hợp Affine Transformation & Projective Transform\n"
   ]
  },
  {
   "cell_type": "code",
   "execution_count": null,
   "id": "145a2096",
   "metadata": {},
   "outputs": [],
   "source": [
    "import numpy as np\n",
    "import cv2\n",
    "\n",
    "# Affine\n",
    "\n",
    "\n",
    "def apply_affine_transform(img, start, end):\n",
    "    # Gốc hình chữ nhật\n",
    "    p1 = np.float32([start, (end[0], start[1]), end])\n",
    "    # Tạo hình méo nhẹ\n",
    "    p2 = np.float32([\n",
    "        (start[0] + 30, start[1] + 20),\n",
    "        (end[0] - 30, start[1] + 50),\n",
    "        (end[0], end[1] + 10)\n",
    "    ])\n",
    "    M = cv2.getAffineTransform(p1, p2)\n",
    "    rows, cols = img.shape[:2]\n",
    "    transformed = cv2.warpAffine(img, M, (cols, rows))\n",
    "\n",
    "    cv2.putText(transformed, \"Affine Transform\", (30, 50),\n",
    "                cv2.FONT_HERSHEY_SIMPLEX, 1, (128, 0, 255), 2)\n",
    "    return transformed\n",
    "\n",
    "# Projective\n",
    "\n",
    "\n",
    "def apply_projective_transform(img, start, end):\n",
    "    pts1 = np.float32([\n",
    "        start,\n",
    "        (end[0], start[1]),\n",
    "        end,\n",
    "        (start[0], end[1])\n",
    "    ])\n",
    "    pts2 = np.float32([\n",
    "        (start[0] + 60, start[1] + 20),\n",
    "        (end[0] - 60, start[1] + 60),\n",
    "        (end[0], end[1]),\n",
    "        (start[0], end[1] - 50)\n",
    "    ])\n",
    "    M = cv2.getPerspectiveTransform(pts1, pts2)\n",
    "    rows, cols = img.shape[:2]\n",
    "    transformed = cv2.warpPerspective(img, M, (cols, rows))\n",
    "\n",
    "    cv2.putText(transformed, \"Projective Transform\", (30, 50),\n",
    "                cv2.FONT_HERSHEY_SIMPLEX, 1, (0, 128, 255), 2)\n",
    "    return transformed\n",
    "\n",
    "\n",
    "# Tạo hình chữ nhật mẫu để test\n",
    "img_test = np.ones((720, 1280, 3), dtype=np.uint8) * 255\n",
    "start_test = (300, 200)\n",
    "end_test = (500, 400)\n",
    "cv2.rectangle(img_test, start_test, end_test, (0, 0, 255), 2)\n",
    "cv2.putText(img_test, f\"P1{start_test}\", (start_test[0]+5, start_test[1]-10),\n",
    "            cv2.FONT_HERSHEY_SIMPLEX, 0.6, (0, 0, 0), 2)\n",
    "cv2.putText(img_test, f\"P2{end_test}\", (end_test[0]+5, end_test[1]+20),\n",
    "            cv2.FONT_HERSHEY_SIMPLEX, 0.6, (0, 0, 0), 2)\n",
    "\n",
    "# Áp dụng\n",
    "affine_img = apply_affine_transform(img_test, start_test, end_test)\n",
    "projective_img = apply_projective_transform(img_test, start_test, end_test)\n",
    "\n",
    "# Hiển thị\n",
    "cv2.imshow(\"Original Rectangle\", img_test)\n",
    "cv2.imshow(\"Affine Transform\", affine_img)\n",
    "cv2.imshow(\"Projective Transform\", projective_img)\n",
    "cv2.waitKey(0)\n",
    "cv2.destroyAllWindows()\n"
   ]
  },
  {
   "cell_type": "markdown",
   "id": "b74f685c",
   "metadata": {},
   "source": []
  }
 ],
 "metadata": {
  "kernelspec": {
   "display_name": "myenv_py310",
   "language": "python",
   "name": "python3"
  },
  "language_info": {
   "codemirror_mode": {
    "name": "ipython",
    "version": 3
   },
   "file_extension": ".py",
   "mimetype": "text/x-python",
   "name": "python",
   "nbconvert_exporter": "python",
   "pygments_lexer": "ipython3",
   "version": "3.10.16"
  }
 },
 "nbformat": 4,
 "nbformat_minor": 5
}
