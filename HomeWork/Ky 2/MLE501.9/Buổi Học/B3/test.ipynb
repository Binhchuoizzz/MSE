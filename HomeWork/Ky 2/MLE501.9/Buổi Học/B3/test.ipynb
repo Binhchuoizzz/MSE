{
 "cells": [
  {
   "cell_type": "code",
   "execution_count": 1,
   "id": "0e132434",
   "metadata": {},
   "outputs": [
    {
     "name": "stdout",
     "output_type": "stream",
     "text": [
      "Requirement already satisfied: pandas in c:\\users\\binhn\\appdata\\local\\programs\\python\\python312\\lib\\site-packages (2.2.3)\n",
      "Requirement already satisfied: numpy in c:\\users\\binhn\\appdata\\local\\programs\\python\\python312\\lib\\site-packages (2.1.3)\n",
      "Requirement already satisfied: scikit-learn in c:\\users\\binhn\\appdata\\local\\programs\\python\\python312\\lib\\site-packages (1.6.1)\n",
      "Requirement already satisfied: python-dateutil>=2.8.2 in c:\\users\\binhn\\appdata\\local\\programs\\python\\python312\\lib\\site-packages (from pandas) (2.9.0.post0)\n",
      "Requirement already satisfied: pytz>=2020.1 in c:\\users\\binhn\\appdata\\local\\programs\\python\\python312\\lib\\site-packages (from pandas) (2024.2)\n",
      "Requirement already satisfied: tzdata>=2022.7 in c:\\users\\binhn\\appdata\\local\\programs\\python\\python312\\lib\\site-packages (from pandas) (2024.2)\n",
      "Requirement already satisfied: scipy>=1.6.0 in c:\\users\\binhn\\appdata\\local\\programs\\python\\python312\\lib\\site-packages (from scikit-learn) (1.14.1)\n",
      "Requirement already satisfied: joblib>=1.2.0 in c:\\users\\binhn\\appdata\\local\\programs\\python\\python312\\lib\\site-packages (from scikit-learn) (1.4.2)\n",
      "Requirement already satisfied: threadpoolctl>=3.1.0 in c:\\users\\binhn\\appdata\\local\\programs\\python\\python312\\lib\\site-packages (from scikit-learn) (3.6.0)\n",
      "Requirement already satisfied: six>=1.5 in c:\\users\\binhn\\appdata\\local\\programs\\python\\python312\\lib\\site-packages (from python-dateutil>=2.8.2->pandas) (1.17.0)\n"
     ]
    }
   ],
   "source": [
    "!pip install pandas numpy scikit-learn\n"
   ]
  },
  {
   "cell_type": "markdown",
   "id": "b8c07187",
   "metadata": {},
   "source": [
    "NORMALIZATION"
   ]
  },
  {
   "cell_type": "markdown",
   "id": "f3a6e514",
   "metadata": {},
   "source": [
    "# Cell 1: Min–Max Scaling"
   ]
  },
  {
   "cell_type": "code",
   "execution_count": null,
   "id": "3b260862",
   "metadata": {},
   "outputs": [
    {
     "name": "stdout",
     "output_type": "stream",
     "text": [
      "Min–Max Scaled (first 5 rows):\n",
      "   SepalLengthCm  SepalWidthCm  PetalLengthCm  PetalWidthCm\n",
      "0       0.222222      0.625000       0.067797      0.041667\n",
      "1       0.166667      0.416667       0.067797      0.041667\n",
      "2       0.111111      0.500000       0.050847      0.041667\n",
      "3       0.083333      0.458333       0.084746      0.041667\n",
      "4       0.194444      0.666667       0.067797      0.041667\n"
     ]
    }
   ],
   "source": [
    "import pandas as pd\n",
    "\n",
    "# Đọc dữ liệu và lấy features\n",
    "df = pd.read_csv(r'D:\\MSE\\HomeWork\\Ky 2\\MLE501.9\\Buổi học\\B3\\Iris.csv')\n",
    "features = ['SepalLengthCm', 'SepalWidthCm', 'PetalLengthCm', 'PetalWidthCm']\n",
    "X = df[features]\n",
    "\n",
    "# Min–Max Scaling về [0, 1]\n",
    "X_min = X.min()\n",
    "X_max = X.max()\n",
    "X_minmax = (X - X_min) / (X_max - X_min)\n",
    "\n",
    "# Hiển thị 5 dòng đầu\n",
    "print(\"Min–Max Scaled (first 5 rows):\")\n",
    "print(X_minmax.head())\n"
   ]
  },
  {
   "cell_type": "markdown",
   "id": "3b395fbb",
   "metadata": {},
   "source": [
    "Độ phức tạp thời gian của đoạn code Min–Max Scaling này là O(n·m), với n là số mẫu (số dòng) và m là số chiều (số cột – ở đây m=4 hằng số), nên thực chất là O(n)."
   ]
  },
  {
   "cell_type": "code",
   "execution_count": 1,
   "id": "ecdec914",
   "metadata": {},
   "outputs": [
    {
     "name": "stdout",
     "output_type": "stream",
     "text": [
      "Đo thời gian Min–Max Scaling với các n khác nhau:\n",
      "  n = 1000    → 0.016714 giây\n",
      "  n = 5000    → 0.000000 giây\n",
      "  n = 10000   → 0.000000 giây\n",
      "  n = 50000   → 0.016906 giây\n",
      "  n = 100000  → 0.016582 giây\n"
     ]
    }
   ],
   "source": [
    "import pandas as pd\n",
    "import numpy as np\n",
    "import time\n",
    "\n",
    "def minmax_scale(df):\n",
    "    X_min = df.min()\n",
    "    X_max = df.max()\n",
    "    return (df - X_min) / (X_max - X_min)\n",
    "\n",
    "# Giả lập feature names\n",
    "features = ['SepalLengthCm', 'SepalWidthCm', 'PetalLengthCm', 'PetalWidthCm']\n",
    "\n",
    "# Các kích thước mẫu thử\n",
    "sizes = [1_000, 5_000, 10_000, 50_000, 100_000]\n",
    "\n",
    "print(\"Đo thời gian Min–Max Scaling với các n khác nhau:\")\n",
    "for n in sizes:\n",
    "    # Tạo DataFrame ngẫu nhiên n x 4\n",
    "    df = pd.DataFrame(np.random.rand(n, 4), columns=features)\n",
    "    t0 = time.time()\n",
    "    _ = minmax_scale(df)\n",
    "    elapsed = time.time() - t0\n",
    "    print(f\"  n = {n:<7} → {elapsed:.6f} giây\")\n"
   ]
  },
  {
   "cell_type": "markdown",
   "id": "2387447e",
   "metadata": {},
   "source": [
    "# Cell 2: Mean Normalization"
   ]
  },
  {
   "cell_type": "code",
   "execution_count": 6,
   "id": "723bc208",
   "metadata": {},
   "outputs": [
    {
     "name": "stdout",
     "output_type": "stream",
     "text": [
      "Mean Normalized (first 5 rows):\n",
      "   SepalLengthCm  SepalWidthCm  PetalLengthCm  PetalWidthCm\n",
      "0      -0.206481      0.185833      -0.399774     -0.416111\n",
      "1      -0.262037     -0.022500      -0.399774     -0.416111\n",
      "2      -0.317593      0.060833      -0.416723     -0.416111\n",
      "3      -0.345370      0.019167      -0.382825     -0.416111\n",
      "4      -0.234259      0.227500      -0.399774     -0.416111\n"
     ]
    }
   ],
   "source": [
    "import pandas as pd\n",
    "\n",
    "# Nếu đã load df và features ở Cell 1, có thể bỏ phần đọc file\n",
    "df = pd.read_csv(r'D:\\MSE\\HomeWork\\Ky 2\\MLE501.9\\Buổi học\\B3\\Iris.csv')\n",
    "features = ['SepalLengthCm', 'SepalWidthCm', 'PetalLengthCm', 'PetalWidthCm']\n",
    "X = df[features]\n",
    "\n",
    "# Mean Normalization: (x - mean) / (max - min)\n",
    "mu = X.mean()\n",
    "range_vals = X.max() - X.min()\n",
    "X_meannorm = (X - mu) / range_vals\n",
    "\n",
    "# Hiển thị 5 dòng đầu\n",
    "print(\"Mean Normalized (first 5 rows):\")\n",
    "print(X_meannorm.head())\n"
   ]
  }
 ],
 "metadata": {
  "kernelspec": {
   "display_name": "Python 3",
   "language": "python",
   "name": "python3"
  },
  "language_info": {
   "codemirror_mode": {
    "name": "ipython",
    "version": 3
   },
   "file_extension": ".py",
   "mimetype": "text/x-python",
   "name": "python",
   "nbconvert_exporter": "python",
   "pygments_lexer": "ipython3",
   "version": "3.12.8"
  }
 },
 "nbformat": 4,
 "nbformat_minor": 5
}
